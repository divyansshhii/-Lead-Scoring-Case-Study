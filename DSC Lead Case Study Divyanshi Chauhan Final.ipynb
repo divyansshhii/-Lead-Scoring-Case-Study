{
 "cells": [
  {
   "cell_type": "markdown",
   "id": "f5ee8ca9",
   "metadata": {},
   "source": [
    "# DSC 48 Lead Scoring Case Study"
   ]
  },
  {
   "cell_type": "markdown",
   "id": "053c3382",
   "metadata": {},
   "source": [
    "## Problem Statement\n",
    "An education company named X Education sells online courses to industry professionals. On any given day, many professionals who are interested in the courses land on their website and browse for courses. The company markets its courses on several websites and search engines like Google. \n",
    "\n",
    "Once these people land on the website, they might browse the courses or fill up a form for the course or watch some videos. When these people fill up a form providing their email address or phone number, they are classified to be a lead. \n",
    "\n",
    "Moreover, the company also gets leads through past referrals. Once these leads are acquired, employees from the sales team start making calls, writing emails, etc. Through this process, some of the leads get converted while most do not. The typical lead conversion rate at X education is around 30%."
   ]
  },
  {
   "cell_type": "markdown",
   "id": "fdc414ac",
   "metadata": {},
   "source": [
    "# Business Goals\n",
    "To select the most promising leads, i.e. the leads that are most likely to convert into paying customers. \n",
    "Build a model wherein a lead score needs to be assigned to each lead such that the customers with a higher lead score have a higher conversion chance and the customers with a lower lead score have a lower conversion chance. \n",
    "A ballpark of the target lead conversion rate to be around 80% has been given."
   ]
  },
  {
   "cell_type": "code",
   "execution_count": 298,
   "id": "5985cdf1",
   "metadata": {},
   "outputs": [],
   "source": [
    "import pandas as pd\n",
    "import numpy as np\n",
    "import matplotlib.pyplot as plt\n",
    "import seaborn as sns\n",
    "import warnings\n",
    "warnings.filterwarnings('ignore')\n",
    "from sklearn import metrics\n",
    "from sklearn.model_selection import train_test_split\n",
    "from sklearn.linear_model import LogisticRegression\n",
    "from sklearn.feature_selection import RFE\n",
    "from sklearn.preprocessing import MinMaxScaler\n",
    "from sklearn.preprocessing import StandardScaler\n",
    "import statsmodels.api as sm\n",
    "from statsmodels.stats.outliers_influence import variance_inflation_factor"
   ]
  },
  {
   "cell_type": "code",
   "execution_count": 299,
   "id": "603b3138",
   "metadata": {},
   "outputs": [],
   "source": [
    "leads=pd.read_csv('Leads.csv')"
   ]
  },
  {
   "cell_type": "code",
   "execution_count": 300,
   "id": "0151c0a7",
   "metadata": {},
   "outputs": [
    {
     "data": {
      "text/plain": [
       "(9240, 37)"
      ]
     },
     "execution_count": 300,
     "metadata": {},
     "output_type": "execute_result"
    }
   ],
   "source": [
    "leadswithoutduplicate = leads.copy()\n",
    "\n",
    "# Checking for duplicates and dropping the entire duplicate row if any\n",
    "leadswithoutduplicate.drop_duplicates(subset=None, inplace=True)\n",
    "leadswithoutduplicate.shape"
   ]
  },
  {
   "cell_type": "code",
   "execution_count": 301,
   "id": "c878f153",
   "metadata": {},
   "outputs": [
    {
     "name": "stdout",
     "output_type": "stream",
     "text": [
      "<class 'pandas.core.frame.DataFrame'>\n",
      "Int64Index: 9240 entries, 0 to 9239\n",
      "Data columns (total 37 columns):\n",
      " #   Column                                         Non-Null Count  Dtype  \n",
      "---  ------                                         --------------  -----  \n",
      " 0   Prospect ID                                    9240 non-null   object \n",
      " 1   Lead Number                                    9240 non-null   int64  \n",
      " 2   Lead Origin                                    9240 non-null   object \n",
      " 3   Lead Source                                    9204 non-null   object \n",
      " 4   Do Not Email                                   9240 non-null   object \n",
      " 5   Do Not Call                                    9240 non-null   object \n",
      " 6   Converted                                      9240 non-null   int64  \n",
      " 7   TotalVisits                                    9103 non-null   float64\n",
      " 8   Total Time Spent on Website                    9240 non-null   int64  \n",
      " 9   Page Views Per Visit                           9103 non-null   float64\n",
      " 10  Last Activity                                  9137 non-null   object \n",
      " 11  Country                                        6779 non-null   object \n",
      " 12  Specialization                                 7802 non-null   object \n",
      " 13  How did you hear about X Education             7033 non-null   object \n",
      " 14  What is your current occupation                6550 non-null   object \n",
      " 15  What matters most to you in choosing a course  6531 non-null   object \n",
      " 16  Search                                         9240 non-null   object \n",
      " 17  Magazine                                       9240 non-null   object \n",
      " 18  Newspaper Article                              9240 non-null   object \n",
      " 19  X Education Forums                             9240 non-null   object \n",
      " 20  Newspaper                                      9240 non-null   object \n",
      " 21  Digital Advertisement                          9240 non-null   object \n",
      " 22  Through Recommendations                        9240 non-null   object \n",
      " 23  Receive More Updates About Our Courses         9240 non-null   object \n",
      " 24  Tags                                           5887 non-null   object \n",
      " 25  Lead Quality                                   4473 non-null   object \n",
      " 26  Update me on Supply Chain Content              9240 non-null   object \n",
      " 27  Get updates on DM Content                      9240 non-null   object \n",
      " 28  Lead Profile                                   6531 non-null   object \n",
      " 29  City                                           7820 non-null   object \n",
      " 30  Asymmetrique Activity Index                    5022 non-null   object \n",
      " 31  Asymmetrique Profile Index                     5022 non-null   object \n",
      " 32  Asymmetrique Activity Score                    5022 non-null   float64\n",
      " 33  Asymmetrique Profile Score                     5022 non-null   float64\n",
      " 34  I agree to pay the amount through cheque       9240 non-null   object \n",
      " 35  A free copy of Mastering The Interview         9240 non-null   object \n",
      " 36  Last Notable Activity                          9240 non-null   object \n",
      "dtypes: float64(4), int64(3), object(30)\n",
      "memory usage: 2.7+ MB\n"
     ]
    }
   ],
   "source": [
    "leadswithoutduplicate.info()"
   ]
  },
  {
   "cell_type": "code",
   "execution_count": 302,
   "id": "77de1ba8",
   "metadata": {},
   "outputs": [
    {
     "data": {
      "text/plain": [
       "Prospect ID                                       0.00\n",
       "Lead Number                                       0.00\n",
       "Lead Origin                                       0.00\n",
       "Lead Source                                       0.39\n",
       "Do Not Email                                      0.00\n",
       "Do Not Call                                       0.00\n",
       "Converted                                         0.00\n",
       "TotalVisits                                       1.48\n",
       "Total Time Spent on Website                       0.00\n",
       "Page Views Per Visit                              1.48\n",
       "Last Activity                                     1.11\n",
       "Country                                          26.63\n",
       "Specialization                                   15.56\n",
       "How did you hear about X Education               23.89\n",
       "What is your current occupation                  29.11\n",
       "What matters most to you in choosing a course    29.32\n",
       "Search                                            0.00\n",
       "Magazine                                          0.00\n",
       "Newspaper Article                                 0.00\n",
       "X Education Forums                                0.00\n",
       "Newspaper                                         0.00\n",
       "Digital Advertisement                             0.00\n",
       "Through Recommendations                           0.00\n",
       "Receive More Updates About Our Courses            0.00\n",
       "Tags                                             36.29\n",
       "Lead Quality                                     51.59\n",
       "Update me on Supply Chain Content                 0.00\n",
       "Get updates on DM Content                         0.00\n",
       "Lead Profile                                     29.32\n",
       "City                                             15.37\n",
       "Asymmetrique Activity Index                      45.65\n",
       "Asymmetrique Profile Index                       45.65\n",
       "Asymmetrique Activity Score                      45.65\n",
       "Asymmetrique Profile Score                       45.65\n",
       "I agree to pay the amount through cheque          0.00\n",
       "A free copy of Mastering The Interview            0.00\n",
       "Last Notable Activity                             0.00\n",
       "dtype: float64"
      ]
     },
     "execution_count": 302,
     "metadata": {},
     "output_type": "execute_result"
    }
   ],
   "source": [
    "# Percentage of null values of null value\n",
    "round(100*(leadswithoutduplicate.isnull().sum())/len(leadswithoutduplicate.index),2)"
   ]
  },
  {
   "cell_type": "markdown",
   "id": "8d65f694",
   "metadata": {},
   "source": [
    "## Data Cleaning-Missing Values and Outliers"
   ]
  },
  {
   "cell_type": "code",
   "execution_count": 303,
   "id": "735f478b",
   "metadata": {},
   "outputs": [],
   "source": [
    "# Dropping columns with more than 40 percent missing values\n",
    "leadswithoutduplicate.drop(columns=['Asymmetrique Activity Index','Asymmetrique Profile Index','Asymmetrique Activity Score','Asymmetrique Profile Score','Lead Quality'],axis=1,inplace=True)"
   ]
  },
  {
   "cell_type": "code",
   "execution_count": 304,
   "id": "3f72b65a",
   "metadata": {},
   "outputs": [],
   "source": [
    "# Dropping lead number as it is not important for the analysis\n",
    "leadswithoutduplicate.drop(columns=['Lead Number'],axis=1,inplace=True)"
   ]
  },
  {
   "cell_type": "code",
   "execution_count": 305,
   "id": "35941bda",
   "metadata": {},
   "outputs": [],
   "source": [
    "# Filling missing values with np Nan or not provided in categorical variables\n",
    "leadswithoutduplicate['Specialization'] = leadswithoutduplicate['Specialization'].fillna('not provided')\n",
    "leadswithoutduplicate['City'] = leadswithoutduplicate['City'].fillna('not provided')\n",
    "leadswithoutduplicate['Tags'] = leadswithoutduplicate['Tags'].fillna('not provided')\n",
    "leadswithoutduplicate['What matters most to you in choosing a course'] = leadswithoutduplicate['What matters most to you in choosing a course'].fillna('not provided')\n",
    "leadswithoutduplicate['What is your current occupation'] = leadswithoutduplicate['What is your current occupation'].fillna('not provided')\n",
    "leadswithoutduplicate['Last Activity'] = leadswithoutduplicate['Last Activity'].fillna('not provided')\n",
    "leadswithoutduplicate['Country'] = leadswithoutduplicate['Country'].fillna('not provided')\n",
    "leadswithoutduplicate['TotalVisits'] = leadswithoutduplicate['TotalVisits'].fillna(np.NaN)\n",
    "leadswithoutduplicate['Page Views Per Visit'] = leadswithoutduplicate['Page Views Per Visit'].fillna(np.NaN)\n",
    "leadswithoutduplicate['Lead Source'] = leadswithoutduplicate['Lead Source'].fillna('not provided')"
   ]
  },
  {
   "cell_type": "code",
   "execution_count": 306,
   "id": "979d13a0",
   "metadata": {},
   "outputs": [
    {
     "data": {
      "text/plain": [
       "Email Opened                    0.371970\n",
       "SMS Sent                        0.297078\n",
       "Olark Chat Conversation         0.105303\n",
       "Page Visited on Website         0.069264\n",
       "Converted to Lead               0.046320\n",
       "Email Bounced                   0.035281\n",
       "Email Link Clicked              0.028896\n",
       "Form Submitted on Website       0.012554\n",
       "not provided                    0.011147\n",
       "Unreachable                     0.010065\n",
       "Unsubscribed                    0.006602\n",
       "Had a Phone Conversation        0.003247\n",
       "Approached upfront              0.000974\n",
       "View in browser link Clicked    0.000649\n",
       "Email Received                  0.000216\n",
       "Email Marked Spam               0.000216\n",
       "Visited Booth in Tradeshow      0.000108\n",
       "Resubscribed to emails          0.000108\n",
       "Name: Last Activity, dtype: float64"
      ]
     },
     "execution_count": 306,
     "metadata": {},
     "output_type": "execute_result"
    }
   ],
   "source": [
    "leadswithoutduplicate['Last Activity'].value_counts(normalize=True)"
   ]
  },
  {
   "cell_type": "code",
   "execution_count": 307,
   "id": "0370577a",
   "metadata": {},
   "outputs": [],
   "source": [
    "# Imputing missing values with mode\n",
    "leadswithoutduplicate['Last Activity']=leadswithoutduplicate['Last Activity'].replace('not provided','Email Opened')"
   ]
  },
  {
   "cell_type": "code",
   "execution_count": 308,
   "id": "5caa5189",
   "metadata": {},
   "outputs": [
    {
     "data": {
      "text/plain": [
       "India                   0.702597\n",
       "not provided            0.266342\n",
       "United States           0.007468\n",
       "United Arab Emirates    0.005736\n",
       "Singapore               0.002597\n",
       "Saudi Arabia            0.002273\n",
       "United Kingdom          0.001623\n",
       "Australia               0.001407\n",
       "Qatar                   0.001082\n",
       "Bahrain                 0.000758\n",
       "Hong Kong               0.000758\n",
       "Oman                    0.000649\n",
       "France                  0.000649\n",
       "unknown                 0.000541\n",
       "Kuwait                  0.000433\n",
       "South Africa            0.000433\n",
       "Canada                  0.000433\n",
       "Nigeria                 0.000433\n",
       "Germany                 0.000433\n",
       "Sweden                  0.000325\n",
       "Philippines             0.000216\n",
       "Uganda                  0.000216\n",
       "Italy                   0.000216\n",
       "Bangladesh              0.000216\n",
       "Netherlands             0.000216\n",
       "Asia/Pacific Region     0.000216\n",
       "China                   0.000216\n",
       "Belgium                 0.000216\n",
       "Ghana                   0.000216\n",
       "Kenya                   0.000108\n",
       "Sri Lanka               0.000108\n",
       "Tanzania                0.000108\n",
       "Malaysia                0.000108\n",
       "Liberia                 0.000108\n",
       "Switzerland             0.000108\n",
       "Denmark                 0.000108\n",
       "Russia                  0.000108\n",
       "Vietnam                 0.000108\n",
       "Indonesia               0.000108\n",
       "Name: Country, dtype: float64"
      ]
     },
     "execution_count": 308,
     "metadata": {},
     "output_type": "execute_result"
    }
   ],
   "source": [
    "leadswithoutduplicate['Country'].value_counts(normalize=True)"
   ]
  },
  {
   "cell_type": "code",
   "execution_count": 309,
   "id": "824e61c9",
   "metadata": {},
   "outputs": [],
   "source": [
    "# Imputing missing values with mode\n",
    "leadswithoutduplicate['Country']=leadswithoutduplicate['Country'].replace('not provided','India')"
   ]
  },
  {
   "cell_type": "code",
   "execution_count": 310,
   "id": "2d26fead",
   "metadata": {},
   "outputs": [
    {
     "data": {
      "text/plain": [
       "Mumbai                         0.348701\n",
       "Select                         0.243398\n",
       "not provided                   0.153680\n",
       "Thane & Outskirts              0.081385\n",
       "Other Cities                   0.074242\n",
       "Other Cities of Maharashtra    0.049459\n",
       "Other Metro Cities             0.041126\n",
       "Tier II Cities                 0.008009\n",
       "Name: City, dtype: float64"
      ]
     },
     "execution_count": 310,
     "metadata": {},
     "output_type": "execute_result"
    }
   ],
   "source": [
    "leadswithoutduplicate['City'].value_counts(normalize=True)"
   ]
  },
  {
   "cell_type": "code",
   "execution_count": 311,
   "id": "97ab1c43",
   "metadata": {},
   "outputs": [],
   "source": [
    "# Considering Select as a missing value\n",
    "leadswithoutduplicate['City']=leadswithoutduplicate['City'].replace('Select','not provided')"
   ]
  },
  {
   "cell_type": "code",
   "execution_count": 312,
   "id": "83052475",
   "metadata": {},
   "outputs": [
    {
     "data": {
      "text/plain": [
       "not provided                   0.397078\n",
       "Mumbai                         0.348701\n",
       "Thane & Outskirts              0.081385\n",
       "Other Cities                   0.074242\n",
       "Other Cities of Maharashtra    0.049459\n",
       "Other Metro Cities             0.041126\n",
       "Tier II Cities                 0.008009\n",
       "Name: City, dtype: float64"
      ]
     },
     "execution_count": 312,
     "metadata": {},
     "output_type": "execute_result"
    }
   ],
   "source": [
    "leadswithoutduplicate['City'].value_counts(normalize=True)"
   ]
  },
  {
   "cell_type": "code",
   "execution_count": 313,
   "id": "29e68ce1",
   "metadata": {},
   "outputs": [],
   "source": [
    "# Dropping Country due to only one category being present, dropping City due to 40% missing values\n",
    "leadswithoutduplicate.drop(['City','Country'],axis=1,inplace=True)"
   ]
  },
  {
   "cell_type": "code",
   "execution_count": 314,
   "id": "e93c541c",
   "metadata": {},
   "outputs": [
    {
     "data": {
      "text/plain": [
       "Landing Page Submission    0.528788\n",
       "API                        0.387446\n",
       "Lead Add Form              0.077706\n",
       "Lead Import                0.005952\n",
       "Quick Add Form             0.000108\n",
       "Name: Lead Origin, dtype: float64"
      ]
     },
     "execution_count": 314,
     "metadata": {},
     "output_type": "execute_result"
    }
   ],
   "source": [
    "leadswithoutduplicate['Lead Origin'].value_counts(normalize=True)"
   ]
  },
  {
   "cell_type": "code",
   "execution_count": 315,
   "id": "7c4e0b87",
   "metadata": {},
   "outputs": [
    {
     "data": {
      "text/plain": [
       "Google               0.310390\n",
       "Direct Traffic       0.275216\n",
       "Olark Chat           0.189935\n",
       "Organic Search       0.124892\n",
       "Reference            0.057792\n",
       "Welingak Website     0.015368\n",
       "Referral Sites       0.013528\n",
       "Facebook             0.005952\n",
       "not provided         0.003896\n",
       "bing                 0.000649\n",
       "google               0.000541\n",
       "Click2call           0.000433\n",
       "Press_Release        0.000216\n",
       "Social Media         0.000216\n",
       "Live Chat            0.000216\n",
       "youtubechannel       0.000108\n",
       "testone              0.000108\n",
       "Pay per Click Ads    0.000108\n",
       "welearnblog_Home     0.000108\n",
       "WeLearn              0.000108\n",
       "blog                 0.000108\n",
       "NC_EDM               0.000108\n",
       "Name: Lead Source, dtype: float64"
      ]
     },
     "execution_count": 315,
     "metadata": {},
     "output_type": "execute_result"
    }
   ],
   "source": [
    "leadswithoutduplicate['Lead Source'].value_counts(normalize=True)"
   ]
  },
  {
   "cell_type": "code",
   "execution_count": 316,
   "id": "dfcc0c9a",
   "metadata": {},
   "outputs": [],
   "source": [
    "leadswithoutduplicate['Lead Source']=leadswithoutduplicate['Lead Source'].replace('google','Google')"
   ]
  },
  {
   "cell_type": "code",
   "execution_count": 317,
   "id": "65b3c41e",
   "metadata": {},
   "outputs": [],
   "source": [
    "# Imputing missing values with mode\n",
    "leadswithoutduplicate['Lead Source']=leadswithoutduplicate['Lead Source'].replace('not provided','Google')"
   ]
  },
  {
   "cell_type": "code",
   "execution_count": 318,
   "id": "c69308ca",
   "metadata": {},
   "outputs": [
    {
     "data": {
      "text/plain": [
       "No     0.920563\n",
       "Yes    0.079437\n",
       "Name: Do Not Email, dtype: float64"
      ]
     },
     "execution_count": 318,
     "metadata": {},
     "output_type": "execute_result"
    }
   ],
   "source": [
    "leadswithoutduplicate['Do Not Email'].value_counts(normalize=True)"
   ]
  },
  {
   "cell_type": "code",
   "execution_count": 319,
   "id": "2eb67c99",
   "metadata": {},
   "outputs": [
    {
     "data": {
      "text/plain": [
       "No     0.999784\n",
       "Yes    0.000216\n",
       "Name: Do Not Call, dtype: float64"
      ]
     },
     "execution_count": 319,
     "metadata": {},
     "output_type": "execute_result"
    }
   ],
   "source": [
    "leadswithoutduplicate['Do Not Call'].value_counts(normalize=True)"
   ]
  },
  {
   "cell_type": "code",
   "execution_count": 320,
   "id": "9599a234",
   "metadata": {},
   "outputs": [
    {
     "data": {
      "text/plain": [
       "Select                               0.210173\n",
       "not provided                         0.155628\n",
       "Finance Management                   0.105628\n",
       "Human Resource Management            0.091775\n",
       "Marketing Management                 0.090693\n",
       "Operations Management                0.054437\n",
       "Business Administration              0.043615\n",
       "IT Projects Management               0.039610\n",
       "Supply Chain Management              0.037771\n",
       "Banking, Investment And Insurance    0.036580\n",
       "Travel and Tourism                   0.021970\n",
       "Media and Advertising                0.021970\n",
       "International Business               0.019264\n",
       "Healthcare Management                0.017208\n",
       "Hospitality Management               0.012338\n",
       "E-COMMERCE                           0.012121\n",
       "Retail Management                    0.010823\n",
       "Rural and Agribusiness               0.007900\n",
       "E-Business                           0.006169\n",
       "Services Excellence                  0.004329\n",
       "Name: Specialization, dtype: float64"
      ]
     },
     "execution_count": 320,
     "metadata": {},
     "output_type": "execute_result"
    }
   ],
   "source": [
    "leadswithoutduplicate['Specialization'].value_counts(normalize=True)"
   ]
  },
  {
   "cell_type": "code",
   "execution_count": 321,
   "id": "dde0675e",
   "metadata": {},
   "outputs": [],
   "source": [
    "# Considering missing values as a category of No Information\n",
    "leadswithoutduplicate['Specialization']=leadswithoutduplicate['Specialization'] = leadswithoutduplicate['Specialization'].replace(['Select','not provided'] ,'No Information')  "
   ]
  },
  {
   "cell_type": "code",
   "execution_count": 322,
   "id": "b2ecf682",
   "metadata": {},
   "outputs": [],
   "source": [
    "#Combining various management specialisation into one category management specialisation\n",
    "leadswithoutduplicate['Specialization']=leadswithoutduplicate['Specialization'] = leadswithoutduplicate['Specialization'].replace(['Finance Management','Human Resource Management','Marketing Management','Operations Management','IT Projects Management','Supply Chain Management','Healthcare Management','Hospitality Management','Retail Management'] ,'Management Specializations')  "
   ]
  },
  {
   "cell_type": "code",
   "execution_count": 323,
   "id": "ab469722",
   "metadata": {},
   "outputs": [
    {
     "data": {
      "text/plain": [
       "Management Specializations           0.460281\n",
       "No Information                       0.365801\n",
       "Business Administration              0.043615\n",
       "Banking, Investment And Insurance    0.036580\n",
       "Media and Advertising                0.021970\n",
       "Travel and Tourism                   0.021970\n",
       "International Business               0.019264\n",
       "E-COMMERCE                           0.012121\n",
       "Rural and Agribusiness               0.007900\n",
       "E-Business                           0.006169\n",
       "Services Excellence                  0.004329\n",
       "Name: Specialization, dtype: float64"
      ]
     },
     "execution_count": 323,
     "metadata": {},
     "output_type": "execute_result"
    }
   ],
   "source": [
    "leadswithoutduplicate['Specialization'].value_counts(normalize=True)\n",
    "# Not imputing missing values as they could indicate a specialisation not in the list hence user has not selected or the student has not chosen any specialisation"
   ]
  },
  {
   "cell_type": "code",
   "execution_count": 324,
   "id": "51fbae28",
   "metadata": {},
   "outputs": [
    {
     "data": {
      "text/plain": [
       "Modified                        0.368723\n",
       "Email Opened                    0.305952\n",
       "SMS Sent                        0.235065\n",
       "Page Visited on Website         0.034416\n",
       "Olark Chat Conversation         0.019805\n",
       "Email Link Clicked              0.018723\n",
       "Email Bounced                   0.006494\n",
       "Unsubscribed                    0.005087\n",
       "Unreachable                     0.003463\n",
       "Had a Phone Conversation        0.001515\n",
       "Email Marked Spam               0.000216\n",
       "Approached upfront              0.000108\n",
       "Resubscribed to emails          0.000108\n",
       "View in browser link Clicked    0.000108\n",
       "Form Submitted on Website       0.000108\n",
       "Email Received                  0.000108\n",
       "Name: Last Notable Activity, dtype: float64"
      ]
     },
     "execution_count": 324,
     "metadata": {},
     "output_type": "execute_result"
    }
   ],
   "source": [
    "leadswithoutduplicate['Last Notable Activity'].value_counts(normalize=True)"
   ]
  },
  {
   "cell_type": "code",
   "execution_count": 325,
   "id": "7c992e5b",
   "metadata": {},
   "outputs": [],
   "source": [
    "# Combining low frequency categories into one category others\n",
    "leadswithoutduplicate['Last Notable Activity'] = leadswithoutduplicate['Last Notable Activity'].replace(['Had a Phone Conversation','Approached upfront','View in browser link Clicked','Email Received','Email Marked Spam','Visited Booth in Tradeshow','Resubscribed to emails','Form Submitted on Website'],'Others') "
   ]
  },
  {
   "cell_type": "code",
   "execution_count": 326,
   "id": "9da86329",
   "metadata": {},
   "outputs": [
    {
     "data": {
      "text/plain": [
       "Unemployed              0.606061\n",
       "not provided            0.291126\n",
       "Working Professional    0.076407\n",
       "Student                 0.022727\n",
       "Other                   0.001732\n",
       "Housewife               0.001082\n",
       "Businessman             0.000866\n",
       "Name: What is your current occupation, dtype: float64"
      ]
     },
     "execution_count": 326,
     "metadata": {},
     "output_type": "execute_result"
    }
   ],
   "source": [
    "leadswithoutduplicate['What is your current occupation'].value_counts(normalize=True)"
   ]
  },
  {
   "cell_type": "code",
   "execution_count": 327,
   "id": "9203f0a3",
   "metadata": {},
   "outputs": [],
   "source": [
    "# Imputing missing values with mode\n",
    "leadswithoutduplicate['What is your current occupation'] = leadswithoutduplicate['What is your current occupation'].replace(['not provided'],'Unemployed') "
   ]
  },
  {
   "cell_type": "code",
   "execution_count": 328,
   "id": "35209e45",
   "metadata": {},
   "outputs": [
    {
     "data": {
      "text/plain": [
       "Better Career Prospects      0.706494\n",
       "not provided                 0.293182\n",
       "Flexibility & Convenience    0.000216\n",
       "Other                        0.000108\n",
       "Name: What matters most to you in choosing a course, dtype: float64"
      ]
     },
     "execution_count": 328,
     "metadata": {},
     "output_type": "execute_result"
    }
   ],
   "source": [
    "leadswithoutduplicate['What matters most to you in choosing a course'].value_counts(normalize=True)"
   ]
  },
  {
   "cell_type": "code",
   "execution_count": 329,
   "id": "634788a7",
   "metadata": {},
   "outputs": [],
   "source": [
    "# Imputing missing values with mode\n",
    "leadswithoutduplicate['What matters most to you in choosing a course'] = leadswithoutduplicate['What matters most to you in choosing a course'].replace(['not provided'],'Better Career Prospects') "
   ]
  },
  {
   "cell_type": "code",
   "execution_count": 330,
   "id": "dd5883fd",
   "metadata": {},
   "outputs": [
    {
     "data": {
      "text/plain": [
       "No     0.998485\n",
       "Yes    0.001515\n",
       "Name: Search, dtype: float64"
      ]
     },
     "execution_count": 330,
     "metadata": {},
     "output_type": "execute_result"
    }
   ],
   "source": [
    "leadswithoutduplicate['Search'].value_counts(normalize=True)"
   ]
  },
  {
   "cell_type": "code",
   "execution_count": 331,
   "id": "3e37f534",
   "metadata": {},
   "outputs": [
    {
     "data": {
      "text/plain": [
       "No    1.0\n",
       "Name: Magazine, dtype: float64"
      ]
     },
     "execution_count": 331,
     "metadata": {},
     "output_type": "execute_result"
    }
   ],
   "source": [
    "leadswithoutduplicate['Magazine'].value_counts(normalize=True)"
   ]
  },
  {
   "cell_type": "code",
   "execution_count": 332,
   "id": "0157c3f2",
   "metadata": {},
   "outputs": [
    {
     "data": {
      "text/plain": [
       "No     0.999784\n",
       "Yes    0.000216\n",
       "Name: Newspaper Article, dtype: float64"
      ]
     },
     "execution_count": 332,
     "metadata": {},
     "output_type": "execute_result"
    }
   ],
   "source": [
    "leadswithoutduplicate['Newspaper Article'].value_counts(normalize=True)"
   ]
  },
  {
   "cell_type": "code",
   "execution_count": 333,
   "id": "ed3c6aa0",
   "metadata": {},
   "outputs": [
    {
     "data": {
      "text/plain": [
       "No     0.999892\n",
       "Yes    0.000108\n",
       "Name: X Education Forums, dtype: float64"
      ]
     },
     "execution_count": 333,
     "metadata": {},
     "output_type": "execute_result"
    }
   ],
   "source": [
    "leadswithoutduplicate['X Education Forums'].value_counts(normalize=True)"
   ]
  },
  {
   "cell_type": "code",
   "execution_count": 334,
   "id": "e691c593",
   "metadata": {},
   "outputs": [
    {
     "data": {
      "text/plain": [
       "No     0.999567\n",
       "Yes    0.000433\n",
       "Name: Digital Advertisement, dtype: float64"
      ]
     },
     "execution_count": 334,
     "metadata": {},
     "output_type": "execute_result"
    }
   ],
   "source": [
    "leadswithoutduplicate['Digital Advertisement'].value_counts(normalize=True)"
   ]
  },
  {
   "cell_type": "code",
   "execution_count": 335,
   "id": "5f88182d",
   "metadata": {},
   "outputs": [
    {
     "data": {
      "text/plain": [
       "No     0.999242\n",
       "Yes    0.000758\n",
       "Name: Through Recommendations, dtype: float64"
      ]
     },
     "execution_count": 335,
     "metadata": {},
     "output_type": "execute_result"
    }
   ],
   "source": [
    "leadswithoutduplicate['Through Recommendations'].value_counts(normalize=True)"
   ]
  },
  {
   "cell_type": "code",
   "execution_count": 336,
   "id": "7c200dc8",
   "metadata": {},
   "outputs": [
    {
     "data": {
      "text/plain": [
       "No    1.0\n",
       "Name: Receive More Updates About Our Courses, dtype: float64"
      ]
     },
     "execution_count": 336,
     "metadata": {},
     "output_type": "execute_result"
    }
   ],
   "source": [
    "leadswithoutduplicate['Receive More Updates About Our Courses'].value_counts(normalize=True)"
   ]
  },
  {
   "cell_type": "code",
   "execution_count": 337,
   "id": "5e2e91ee",
   "metadata": {},
   "outputs": [
    {
     "data": {
      "text/plain": [
       "not provided                                         0.362879\n",
       "Will revert after reading the email                  0.224242\n",
       "Ringing                                              0.130195\n",
       "Interested in other courses                          0.055519\n",
       "Already a student                                    0.050325\n",
       "Closed by Horizzon                                   0.038745\n",
       "switched off                                         0.025974\n",
       "Busy                                                 0.020130\n",
       "Lost to EINS                                         0.018939\n",
       "Not doing further education                          0.015693\n",
       "Interested  in full time MBA                         0.012662\n",
       "Graduation in progress                               0.012013\n",
       "invalid number                                       0.008983\n",
       "Diploma holder (Not Eligible)                        0.006818\n",
       "wrong number given                                   0.005087\n",
       "opp hangup                                           0.003571\n",
       "number not provided                                  0.002922\n",
       "in touch with EINS                                   0.001299\n",
       "Lost to Others                                       0.000758\n",
       "Still Thinking                                       0.000649\n",
       "Want to take admission but has financial problems    0.000649\n",
       "In confusion whether part time or DLP                0.000541\n",
       "Interested in Next batch                             0.000541\n",
       "Lateral student                                      0.000325\n",
       "Shall take in the next coming month                  0.000216\n",
       "University not recognized                            0.000216\n",
       "Recognition issue (DEC approval)                     0.000108\n",
       "Name: Tags, dtype: float64"
      ]
     },
     "execution_count": 337,
     "metadata": {},
     "output_type": "execute_result"
    }
   ],
   "source": [
    "leadswithoutduplicate['Tags'].value_counts(normalize=True)"
   ]
  },
  {
   "cell_type": "code",
   "execution_count": 338,
   "id": "c47003fe",
   "metadata": {},
   "outputs": [],
   "source": [
    "leadswithoutduplicate['Tags'] = leadswithoutduplicate['Tags'].replace(['switched off','Already a student','Not doing further education','invalid number','wrong number given','Interested  in full time MBA','In confusion whether part time or DLP', 'in touch with EINS','Diploma holder (Not Eligible)','Approached upfront','Graduation in progress','number not provided', 'opp hangup','Still Thinking','Lost to Others','Shall take in the next coming month','Lateral student','Interested in Next batch','Recognition issue (DEC approval)','Want to take admission but has financial problems','University not recognized'], 'Other_Tags')"
   ]
  },
  {
   "cell_type": "code",
   "execution_count": 339,
   "id": "2aac3ba8",
   "metadata": {},
   "outputs": [],
   "source": [
    "leadswithoutduplicate['Tags'] = leadswithoutduplicate['Tags'].replace(['not provided'], 'Not Specified')"
   ]
  },
  {
   "cell_type": "code",
   "execution_count": 340,
   "id": "8ab2837b",
   "metadata": {},
   "outputs": [
    {
     "data": {
      "text/plain": [
       "Not Specified                          0.362879\n",
       "Will revert after reading the email    0.224242\n",
       "Other_Tags                             0.149351\n",
       "Ringing                                0.130195\n",
       "Interested in other courses            0.055519\n",
       "Closed by Horizzon                     0.038745\n",
       "Busy                                   0.020130\n",
       "Lost to EINS                           0.018939\n",
       "Name: Tags, dtype: float64"
      ]
     },
     "execution_count": 340,
     "metadata": {},
     "output_type": "execute_result"
    }
   ],
   "source": [
    "leadswithoutduplicate['Tags'].value_counts(normalize=True)"
   ]
  },
  {
   "cell_type": "code",
   "execution_count": 341,
   "id": "f699b15d",
   "metadata": {},
   "outputs": [
    {
     "data": {
      "text/plain": [
       "No    1.0\n",
       "Name: Update me on Supply Chain Content, dtype: float64"
      ]
     },
     "execution_count": 341,
     "metadata": {},
     "output_type": "execute_result"
    }
   ],
   "source": [
    "leadswithoutduplicate['Update me on Supply Chain Content'].value_counts(normalize=True)"
   ]
  },
  {
   "cell_type": "code",
   "execution_count": 342,
   "id": "7cdcc56f",
   "metadata": {},
   "outputs": [
    {
     "data": {
      "text/plain": [
       "No    1.0\n",
       "Name: Get updates on DM Content, dtype: float64"
      ]
     },
     "execution_count": 342,
     "metadata": {},
     "output_type": "execute_result"
    }
   ],
   "source": [
    "leadswithoutduplicate['Get updates on DM Content'].value_counts(normalize=True)"
   ]
  },
  {
   "cell_type": "code",
   "execution_count": 343,
   "id": "875d2cd7",
   "metadata": {},
   "outputs": [
    {
     "data": {
      "text/plain": [
       "Select                         0.634819\n",
       "Potential Lead                 0.246976\n",
       "Other Leads                    0.074567\n",
       "Student of SomeSchool          0.036901\n",
       "Lateral Student                0.003675\n",
       "Dual Specialization Student    0.003062\n",
       "Name: Lead Profile, dtype: float64"
      ]
     },
     "execution_count": 343,
     "metadata": {},
     "output_type": "execute_result"
    }
   ],
   "source": [
    "leadswithoutduplicate['Lead Profile'].value_counts(normalize=True)"
   ]
  },
  {
   "cell_type": "code",
   "execution_count": 344,
   "id": "da22674b",
   "metadata": {},
   "outputs": [
    {
     "data": {
      "text/plain": [
       "No    1.0\n",
       "Name: I agree to pay the amount through cheque, dtype: float64"
      ]
     },
     "execution_count": 344,
     "metadata": {},
     "output_type": "execute_result"
    }
   ],
   "source": [
    "leadswithoutduplicate['I agree to pay the amount through cheque'].value_counts(normalize=True)"
   ]
  },
  {
   "cell_type": "code",
   "execution_count": 345,
   "id": "2847f02b",
   "metadata": {},
   "outputs": [
    {
     "data": {
      "text/plain": [
       "No     0.687446\n",
       "Yes    0.312554\n",
       "Name: A free copy of Mastering The Interview, dtype: float64"
      ]
     },
     "execution_count": 345,
     "metadata": {},
     "output_type": "execute_result"
    }
   ],
   "source": [
    "leadswithoutduplicate['A free copy of Mastering The Interview'].value_counts(normalize=True)"
   ]
  },
  {
   "cell_type": "code",
   "execution_count": 346,
   "id": "641b0359",
   "metadata": {},
   "outputs": [
    {
     "data": {
      "text/plain": [
       "Modified                   0.368723\n",
       "Email Opened               0.305952\n",
       "SMS Sent                   0.235065\n",
       "Page Visited on Website    0.034416\n",
       "Olark Chat Conversation    0.019805\n",
       "Email Link Clicked         0.018723\n",
       "Email Bounced              0.006494\n",
       "Unsubscribed               0.005087\n",
       "Unreachable                0.003463\n",
       "Others                     0.002273\n",
       "Name: Last Notable Activity, dtype: float64"
      ]
     },
     "execution_count": 346,
     "metadata": {},
     "output_type": "execute_result"
    }
   ],
   "source": [
    "leadswithoutduplicate['Last Notable Activity'].value_counts(normalize=True)"
   ]
  },
  {
   "cell_type": "code",
   "execution_count": 347,
   "id": "232da080",
   "metadata": {},
   "outputs": [
    {
     "data": {
      "text/plain": [
       "Select                   0.717048\n",
       "Online Search            0.114887\n",
       "Word Of Mouth            0.049481\n",
       "Student of SomeSchool    0.044078\n",
       "Other                    0.026447\n",
       "Multiple Sources         0.021612\n",
       "Advertisements           0.009953\n",
       "Social Media             0.009527\n",
       "Email                    0.003697\n",
       "SMS                      0.003270\n",
       "Name: How did you hear about X Education, dtype: float64"
      ]
     },
     "execution_count": 347,
     "metadata": {},
     "output_type": "execute_result"
    }
   ],
   "source": [
    "leadswithoutduplicate['How did you hear about X Education'].value_counts(normalize=True)"
   ]
  },
  {
   "cell_type": "code",
   "execution_count": 348,
   "id": "d9f99718",
   "metadata": {},
   "outputs": [],
   "source": [
    "# Dropping these values as they contain values belonging to one category\n",
    "leadswithoutduplicate.drop(['Magazine', 'Receive More Updates About Our Courses', 'Update me on Supply Chain Content', \n",
    "                          'Get updates on DM Content', 'I agree to pay the amount through cheque'], axis=1,inplace=True)"
   ]
  },
  {
   "cell_type": "code",
   "execution_count": 349,
   "id": "46a2f9c5",
   "metadata": {},
   "outputs": [
    {
     "data": {
      "text/plain": [
       "Select                         0.634819\n",
       "Potential Lead                 0.246976\n",
       "Other Leads                    0.074567\n",
       "Student of SomeSchool          0.036901\n",
       "Lateral Student                0.003675\n",
       "Dual Specialization Student    0.003062\n",
       "Name: Lead Profile, dtype: float64"
      ]
     },
     "execution_count": 349,
     "metadata": {},
     "output_type": "execute_result"
    }
   ],
   "source": [
    "leadswithoutduplicate['Lead Profile'].value_counts(normalize=True)"
   ]
  },
  {
   "cell_type": "code",
   "execution_count": 350,
   "id": "7207718d",
   "metadata": {},
   "outputs": [],
   "source": [
    "#Dropping these columns as they contain 40% or more missing values\n",
    "leadswithoutduplicate.drop(['Lead Profile','How did you hear about X Education'], axis=1,inplace=True)"
   ]
  },
  {
   "cell_type": "code",
   "execution_count": 351,
   "id": "67626bc1",
   "metadata": {},
   "outputs": [
    {
     "name": "stdout",
     "output_type": "stream",
     "text": [
      "<class 'pandas.core.frame.DataFrame'>\n",
      "Int64Index: 9240 entries, 0 to 9239\n",
      "Data columns (total 22 columns):\n",
      " #   Column                                         Non-Null Count  Dtype  \n",
      "---  ------                                         --------------  -----  \n",
      " 0   Prospect ID                                    9240 non-null   object \n",
      " 1   Lead Origin                                    9240 non-null   object \n",
      " 2   Lead Source                                    9240 non-null   object \n",
      " 3   Do Not Email                                   9240 non-null   object \n",
      " 4   Do Not Call                                    9240 non-null   object \n",
      " 5   Converted                                      9240 non-null   int64  \n",
      " 6   TotalVisits                                    9103 non-null   float64\n",
      " 7   Total Time Spent on Website                    9240 non-null   int64  \n",
      " 8   Page Views Per Visit                           9103 non-null   float64\n",
      " 9   Last Activity                                  9240 non-null   object \n",
      " 10  Specialization                                 9240 non-null   object \n",
      " 11  What is your current occupation                9240 non-null   object \n",
      " 12  What matters most to you in choosing a course  9240 non-null   object \n",
      " 13  Search                                         9240 non-null   object \n",
      " 14  Newspaper Article                              9240 non-null   object \n",
      " 15  X Education Forums                             9240 non-null   object \n",
      " 16  Newspaper                                      9240 non-null   object \n",
      " 17  Digital Advertisement                          9240 non-null   object \n",
      " 18  Through Recommendations                        9240 non-null   object \n",
      " 19  Tags                                           9240 non-null   object \n",
      " 20  A free copy of Mastering The Interview         9240 non-null   object \n",
      " 21  Last Notable Activity                          9240 non-null   object \n",
      "dtypes: float64(2), int64(2), object(18)\n",
      "memory usage: 1.6+ MB\n"
     ]
    }
   ],
   "source": [
    "leadswithoutduplicate.info()"
   ]
  },
  {
   "cell_type": "code",
   "execution_count": 352,
   "id": "88dac19d",
   "metadata": {},
   "outputs": [
    {
     "data": {
      "text/html": [
       "<div>\n",
       "<style scoped>\n",
       "    .dataframe tbody tr th:only-of-type {\n",
       "        vertical-align: middle;\n",
       "    }\n",
       "\n",
       "    .dataframe tbody tr th {\n",
       "        vertical-align: top;\n",
       "    }\n",
       "\n",
       "    .dataframe thead th {\n",
       "        text-align: right;\n",
       "    }\n",
       "</style>\n",
       "<table border=\"1\" class=\"dataframe\">\n",
       "  <thead>\n",
       "    <tr style=\"text-align: right;\">\n",
       "      <th></th>\n",
       "      <th>Converted</th>\n",
       "      <th>TotalVisits</th>\n",
       "      <th>Total Time Spent on Website</th>\n",
       "      <th>Page Views Per Visit</th>\n",
       "    </tr>\n",
       "  </thead>\n",
       "  <tbody>\n",
       "    <tr>\n",
       "      <th>count</th>\n",
       "      <td>9240.000000</td>\n",
       "      <td>9103.000000</td>\n",
       "      <td>9240.000000</td>\n",
       "      <td>9103.000000</td>\n",
       "    </tr>\n",
       "    <tr>\n",
       "      <th>mean</th>\n",
       "      <td>0.385390</td>\n",
       "      <td>3.445238</td>\n",
       "      <td>487.698268</td>\n",
       "      <td>2.362820</td>\n",
       "    </tr>\n",
       "    <tr>\n",
       "      <th>std</th>\n",
       "      <td>0.486714</td>\n",
       "      <td>4.854853</td>\n",
       "      <td>548.021466</td>\n",
       "      <td>2.161418</td>\n",
       "    </tr>\n",
       "    <tr>\n",
       "      <th>min</th>\n",
       "      <td>0.000000</td>\n",
       "      <td>0.000000</td>\n",
       "      <td>0.000000</td>\n",
       "      <td>0.000000</td>\n",
       "    </tr>\n",
       "    <tr>\n",
       "      <th>25%</th>\n",
       "      <td>0.000000</td>\n",
       "      <td>1.000000</td>\n",
       "      <td>12.000000</td>\n",
       "      <td>1.000000</td>\n",
       "    </tr>\n",
       "    <tr>\n",
       "      <th>50%</th>\n",
       "      <td>0.000000</td>\n",
       "      <td>3.000000</td>\n",
       "      <td>248.000000</td>\n",
       "      <td>2.000000</td>\n",
       "    </tr>\n",
       "    <tr>\n",
       "      <th>75%</th>\n",
       "      <td>1.000000</td>\n",
       "      <td>5.000000</td>\n",
       "      <td>936.000000</td>\n",
       "      <td>3.000000</td>\n",
       "    </tr>\n",
       "    <tr>\n",
       "      <th>90%</th>\n",
       "      <td>1.000000</td>\n",
       "      <td>7.000000</td>\n",
       "      <td>1380.000000</td>\n",
       "      <td>5.000000</td>\n",
       "    </tr>\n",
       "    <tr>\n",
       "      <th>95%</th>\n",
       "      <td>1.000000</td>\n",
       "      <td>10.000000</td>\n",
       "      <td>1562.000000</td>\n",
       "      <td>6.000000</td>\n",
       "    </tr>\n",
       "    <tr>\n",
       "      <th>99%</th>\n",
       "      <td>1.000000</td>\n",
       "      <td>17.000000</td>\n",
       "      <td>1840.610000</td>\n",
       "      <td>9.000000</td>\n",
       "    </tr>\n",
       "    <tr>\n",
       "      <th>max</th>\n",
       "      <td>1.000000</td>\n",
       "      <td>251.000000</td>\n",
       "      <td>2272.000000</td>\n",
       "      <td>55.000000</td>\n",
       "    </tr>\n",
       "  </tbody>\n",
       "</table>\n",
       "</div>"
      ],
      "text/plain": [
       "         Converted  TotalVisits  Total Time Spent on Website  \\\n",
       "count  9240.000000  9103.000000                  9240.000000   \n",
       "mean      0.385390     3.445238                   487.698268   \n",
       "std       0.486714     4.854853                   548.021466   \n",
       "min       0.000000     0.000000                     0.000000   \n",
       "25%       0.000000     1.000000                    12.000000   \n",
       "50%       0.000000     3.000000                   248.000000   \n",
       "75%       1.000000     5.000000                   936.000000   \n",
       "90%       1.000000     7.000000                  1380.000000   \n",
       "95%       1.000000    10.000000                  1562.000000   \n",
       "99%       1.000000    17.000000                  1840.610000   \n",
       "max       1.000000   251.000000                  2272.000000   \n",
       "\n",
       "       Page Views Per Visit  \n",
       "count           9103.000000  \n",
       "mean               2.362820  \n",
       "std                2.161418  \n",
       "min                0.000000  \n",
       "25%                1.000000  \n",
       "50%                2.000000  \n",
       "75%                3.000000  \n",
       "90%                5.000000  \n",
       "95%                6.000000  \n",
       "99%                9.000000  \n",
       "max               55.000000  "
      ]
     },
     "execution_count": 352,
     "metadata": {},
     "output_type": "execute_result"
    }
   ],
   "source": [
    "# Checking for outliers\n",
    "leadswithoutduplicate.describe([.25,.5,.75,.90,.95,.99])"
   ]
  },
  {
   "cell_type": "code",
   "execution_count": 353,
   "id": "7cafc3fa",
   "metadata": {},
   "outputs": [
    {
     "data": {
      "image/png": "[encoded data removed]",
      "text/plain": [
       "<Figure size 1440x1800 with 3 Axes>"
      ]
     },
     "metadata": {
      "needs_background": "light"
     },
     "output_type": "display_data"
    }
   ],
   "source": [
    "#Checking for outliers among numerical variables\n",
    "plt.figure(figsize=(20, 25))\n",
    "plt.subplot(4,3,1)\n",
    "sns.boxplot(y = 'TotalVisits',  data = leadswithoutduplicate)\n",
    "plt.subplot(4,3,2)\n",
    "sns.boxplot(y = 'Total Time Spent on Website', data = leadswithoutduplicate)\n",
    "plt.subplot(4,3,3)\n",
    "sns.boxplot(y = 'Page Views Per Visit',  data = leadswithoutduplicate)\n",
    "plt.show()\n",
    "# Outlier observed in the case of TotalVisits and Page Views Per Visit"
   ]
  },
  {
   "cell_type": "code",
   "execution_count": 354,
   "id": "a2631875",
   "metadata": {},
   "outputs": [],
   "source": [
    "# Due to the presence of outliers missing values have been imputed with the median\n",
    "leadswithoutduplicate['TotalVisits'] = leadswithoutduplicate['TotalVisits'].replace(np.NaN, leadswithoutduplicate['TotalVisits'].median())"
   ]
  },
  {
   "cell_type": "code",
   "execution_count": 355,
   "id": "28bd2e69",
   "metadata": {},
   "outputs": [],
   "source": [
    "leadswithoutduplicate['Page Views Per Visit'] = leadswithoutduplicate['Page Views Per Visit'].replace(np.NaN, leadswithoutduplicate['Page Views Per Visit'].median())"
   ]
  },
  {
   "cell_type": "markdown",
   "id": "39f60290",
   "metadata": {},
   "source": [
    "# Exploratory Data Analysis"
   ]
  },
  {
   "cell_type": "code",
   "execution_count": 356,
   "id": "2475347d",
   "metadata": {},
   "outputs": [
    {
     "data": {
      "image/png": "[encoded data removed]",
      "text/plain": [
       "<Figure size 720x360 with 1 Axes>"
      ]
     },
     "metadata": {
      "needs_background": "light"
     },
     "output_type": "display_data"
    }
   ],
   "source": [
    "# Lead Origin \n",
    "plt.figure(figsize=(10,5))\n",
    "b1=sns.countplot(leadswithoutduplicate['Lead Origin'], hue=leadswithoutduplicate.Converted)\n",
    "b1.set_xticklabels(b1.get_xticklabels(),rotation=90)\n",
    "for label in b1.containers:\n",
    "    b1.bar_label(label)\n",
    "plt.show()\n",
    "#maximum conversion has been observed in the case of  Landing Page Submission."
   ]
  },
  {
   "cell_type": "code",
   "execution_count": 357,
   "id": "7931d37f",
   "metadata": {},
   "outputs": [
    {
     "data": {
      "image/png": "[encoded data removed]",
      "text/plain": [
       "<Figure size 720x360 with 1 Axes>"
      ]
     },
     "metadata": {
      "needs_background": "light"
     },
     "output_type": "display_data"
    }
   ],
   "source": [
    "# Lead Source\n",
    "plt.figure(figsize=(10,5))\n",
    "c1=sns.countplot(leadswithoutduplicate['Lead Source'], hue=leadswithoutduplicate.Converted)\n",
    "c1.set_xticklabels(c1.get_xticklabels(),rotation=90)\n",
    "for label in c1.containers:\n",
    "    c1.bar_label(label)\n",
    "plt.show()\n",
    "#maximum conversion has been observed in the case of Google"
   ]
  },
  {
   "cell_type": "code",
   "execution_count": 358,
   "id": "65b85278",
   "metadata": {},
   "outputs": [
    {
     "data": {
      "image/png": "[encoded data removed]",
      "text/plain": [
       "<Figure size 504x360 with 1 Axes>"
      ]
     },
     "metadata": {
      "needs_background": "light"
     },
     "output_type": "display_data"
    }
   ],
   "source": [
    "# Do Not Email\n",
    "plt.figure(figsize=(7,5))\n",
    "d1=sns.countplot(leadswithoutduplicate['Do Not Email'], hue=leadswithoutduplicate.Converted)\n",
    "d1.set_xticklabels(d1.get_xticklabels(),rotation=90)\n",
    "for label in d1.containers:\n",
    "    d1.bar_label(label)\n",
    "plt.show()\n",
    "#maximum conversion has been observed in the case of No "
   ]
  },
  {
   "cell_type": "code",
   "execution_count": 359,
   "id": "f23d8260",
   "metadata": {},
   "outputs": [
    {
     "data": {
      "image/png": "[encoded data removed]",
      "text/plain": [
       "<Figure size 720x360 with 1 Axes>"
      ]
     },
     "metadata": {
      "needs_background": "light"
     },
     "output_type": "display_data"
    }
   ],
   "source": [
    "plt.figure(figsize=(10,5))\n",
    "e1=sns.countplot(leadswithoutduplicate['Do Not Call'], hue=leadswithoutduplicate.Converted)\n",
    "e1.set_xticklabels(e1.get_xticklabels(),rotation=90)\n",
    "for label in e1.containers:\n",
    "    e1.bar_label(label)\n",
    "plt.show()"
   ]
  },
  {
   "cell_type": "code",
   "execution_count": 360,
   "id": "e3c5a3e6",
   "metadata": {},
   "outputs": [
    {
     "data": {
      "image/png": "[encoded data removed]",
      "text/plain": [
       "<Figure size 504x360 with 1 Axes>"
      ]
     },
     "metadata": {
      "needs_background": "light"
     },
     "output_type": "display_data"
    }
   ],
   "source": [
    "plt.figure(figsize=(7,5))\n",
    "f1=sns.countplot(leadswithoutduplicate['Last Activity'], hue=leadswithoutduplicate.Converted)\n",
    "f1.set_xticklabels(f1.get_xticklabels(),rotation=90)\n",
    "for label in f1.containers:\n",
    "    f1.bar_label(label)\n",
    "plt.show()"
   ]
  },
  {
   "cell_type": "code",
   "execution_count": 361,
   "id": "f863e1da",
   "metadata": {},
   "outputs": [
    {
     "data": {
      "image/png": "[encoded data removed]",
      "text/plain": [
       "<Figure size 504x360 with 1 Axes>"
      ]
     },
     "metadata": {
      "needs_background": "light"
     },
     "output_type": "display_data"
    }
   ],
   "source": [
    "plt.figure(figsize=(7,5))\n",
    "g1=sns.countplot(leadswithoutduplicate['Specialization'], hue=leadswithoutduplicate.Converted)\n",
    "g1.set_xticklabels(g1.get_xticklabels(),rotation=90)\n",
    "for label in g1.containers:\n",
    "    g1.bar_label(label)\n",
    "plt.show()"
   ]
  },
  {
   "cell_type": "code",
   "execution_count": 362,
   "id": "6099db48",
   "metadata": {},
   "outputs": [
    {
     "data": {
      "image/png": "[encoded data removed]",
      "text/plain": [
       "<Figure size 720x360 with 1 Axes>"
      ]
     },
     "metadata": {
      "needs_background": "light"
     },
     "output_type": "display_data"
    }
   ],
   "source": [
    "plt.figure(figsize=(10,5))\n",
    "j1=sns.countplot(leadswithoutduplicate['Search'], hue=leadswithoutduplicate.Converted)\n",
    "j1.set_xticklabels(j1.get_xticklabels(),rotation=90)\n",
    "for label in j1.containers:\n",
    "    j1.bar_label(label)\n",
    "plt.show()"
   ]
  },
  {
   "cell_type": "code",
   "execution_count": 363,
   "id": "586c11b6",
   "metadata": {},
   "outputs": [
    {
     "data": {
      "image/png": "[encoded data removed]",
      "text/plain": [
       "<Figure size 720x360 with 1 Axes>"
      ]
     },
     "metadata": {
      "needs_background": "light"
     },
     "output_type": "display_data"
    }
   ],
   "source": [
    "plt.figure(figsize=(10,5))\n",
    "k1=sns.countplot(leadswithoutduplicate['Newspaper Article'], hue=leadswithoutduplicate.Converted)\n",
    "k1.set_xticklabels(k1.get_xticklabels(),rotation=90)\n",
    "for label in k1.containers:\n",
    "    k1.bar_label(label)\n",
    "plt.show()"
   ]
  },
  {
   "cell_type": "code",
   "execution_count": 364,
   "id": "0d4c9f4b",
   "metadata": {},
   "outputs": [
    {
     "data": {
      "image/png": "[encoded data removed]",
      "text/plain": [
       "<Figure size 720x360 with 1 Axes>"
      ]
     },
     "metadata": {
      "needs_background": "light"
     },
     "output_type": "display_data"
    }
   ],
   "source": [
    "plt.figure(figsize=(10,5))\n",
    "k1=sns.countplot(leadswithoutduplicate['X Education Forums'], hue=leadswithoutduplicate.Converted)\n",
    "k1.set_xticklabels(k1.get_xticklabels(),rotation=90)\n",
    "for label in k1.containers:\n",
    "    k1.bar_label(label)\n",
    "plt.show()"
   ]
  },
  {
   "cell_type": "code",
   "execution_count": 365,
   "id": "b65e6e3e",
   "metadata": {},
   "outputs": [
    {
     "data": {
      "image/png": "[encoded data removed]",
      "text/plain": [
       "<Figure size 720x360 with 1 Axes>"
      ]
     },
     "metadata": {
      "needs_background": "light"
     },
     "output_type": "display_data"
    }
   ],
   "source": [
    "plt.figure(figsize=(10,5))\n",
    "m1=sns.countplot(leadswithoutduplicate['Digital Advertisement'], hue=leadswithoutduplicate.Converted)\n",
    "m1.set_xticklabels(m1.get_xticklabels(),rotation=90)\n",
    "for label in m1.containers:\n",
    "    m1.bar_label(label)\n",
    "plt.show()"
   ]
  },
  {
   "cell_type": "code",
   "execution_count": 366,
   "id": "68da90ba",
   "metadata": {},
   "outputs": [
    {
     "data": {
      "image/png": "[encoded data removed]",
      "text/plain": [
       "<Figure size 720x360 with 1 Axes>"
      ]
     },
     "metadata": {
      "needs_background": "light"
     },
     "output_type": "display_data"
    }
   ],
   "source": [
    "plt.figure(figsize=(10,5))\n",
    "n1=sns.countplot(leadswithoutduplicate['Through Recommendations'], hue=leadswithoutduplicate.Converted)\n",
    "n1.set_xticklabels(n1.get_xticklabels(),rotation=90)\n",
    "for label in n1.containers:\n",
    "    n1.bar_label(label)\n",
    "plt.show()"
   ]
  },
  {
   "cell_type": "code",
   "execution_count": 367,
   "id": "21ccf947",
   "metadata": {},
   "outputs": [
    {
     "data": {
      "image/png": "[encoded data removed]",
      "text/plain": [
       "<Figure size 504x360 with 1 Axes>"
      ]
     },
     "metadata": {
      "needs_background": "light"
     },
     "output_type": "display_data"
    }
   ],
   "source": [
    "plt.figure(figsize=(7,5))\n",
    "o1=sns.countplot(leadswithoutduplicate['Tags'], hue=leadswithoutduplicate.Converted)\n",
    "o1.set_xticklabels(o1.get_xticklabels(),rotation=90)\n",
    "for label in o1.containers:\n",
    "    o1.bar_label(label)\n",
    "plt.show()\n",
    "#"
   ]
  },
  {
   "cell_type": "code",
   "execution_count": 368,
   "id": "89282fed",
   "metadata": {},
   "outputs": [
    {
     "data": {
      "image/png": "[encoded data removed]",
      "text/plain": [
       "<Figure size 504x360 with 1 Axes>"
      ]
     },
     "metadata": {
      "needs_background": "light"
     },
     "output_type": "display_data"
    }
   ],
   "source": [
    "plt.figure(figsize=(7,5))\n",
    "p1=sns.countplot(leadswithoutduplicate['A free copy of Mastering The Interview'], hue=leadswithoutduplicate.Converted)\n",
    "p1.set_xticklabels(p1.get_xticklabels(),rotation=90)\n",
    "for label in p1.containers:\n",
    "    p1.bar_label(label)\n",
    "plt.show()"
   ]
  },
  {
   "cell_type": "code",
   "execution_count": 369,
   "id": "7fb25923",
   "metadata": {},
   "outputs": [
    {
     "data": {
      "image/png": "[encoded data removed]",
      "text/plain": [
       "<Figure size 720x360 with 1 Axes>"
      ]
     },
     "metadata": {
      "needs_background": "light"
     },
     "output_type": "display_data"
    }
   ],
   "source": [
    "plt.figure(figsize=(10,5))\n",
    "q1=sns.countplot(leadswithoutduplicate['Last Notable Activity'], hue=leadswithoutduplicate.Converted)\n",
    "q1.set_xticklabels(q1.get_xticklabels(),rotation=90)\n",
    "for label in q1.containers:\n",
    "    q1.bar_label(label)\n",
    "plt.show()"
   ]
  },
  {
   "cell_type": "code",
   "execution_count": 370,
   "id": "e9adf025",
   "metadata": {},
   "outputs": [
    {
     "data": {
      "image/png": "[encoded data removed]",
      "text/plain": [
       "<Figure size 720x360 with 1 Axes>"
      ]
     },
     "metadata": {
      "needs_background": "light"
     },
     "output_type": "display_data"
    }
   ],
   "source": [
    "plt.figure(figsize=(10,5))\n",
    "i1=sns.countplot(leadswithoutduplicate['What matters most to you in choosing a course'], hue=leadswithoutduplicate.Converted)\n",
    "i1.set_xticklabels(i1.get_xticklabels(),rotation=90)\n",
    "for label in i1.containers:\n",
    "    i1.bar_label(label)\n",
    "plt.show()"
   ]
  },
  {
   "cell_type": "code",
   "execution_count": 371,
   "id": "7776d1cf",
   "metadata": {},
   "outputs": [],
   "source": [
    "# Dropping these columns due to the lack of variation in data\n",
    "leadswithoutduplicate.drop(['Search','Through Recommendations','Newspaper','X Education Forums','Digital Advertisement','Newspaper Article'],axis=1,inplace=True)"
   ]
  },
  {
   "cell_type": "code",
   "execution_count": 372,
   "id": "be3b874c",
   "metadata": {},
   "outputs": [],
   "source": [
    "# Dropping this column due to the lack of variation in data\n",
    "leadswithoutduplicate.drop(['Do Not Call'],axis=1,inplace=True)"
   ]
  },
  {
   "cell_type": "code",
   "execution_count": 373,
   "id": "3f301316",
   "metadata": {},
   "outputs": [],
   "source": [
    "# Dropping this column due to the lack of variation in data\n",
    "leadswithoutduplicate.drop(['What matters most to you in choosing a course'],axis=1,inplace=True)"
   ]
  },
  {
   "cell_type": "code",
   "execution_count": 374,
   "id": "77e18860",
   "metadata": {},
   "outputs": [
    {
     "data": {
      "image/png": "[encoded data removed]",
      "text/plain": [
       "<Figure size 720x360 with 1 Axes>"
      ]
     },
     "metadata": {
      "needs_background": "light"
     },
     "output_type": "display_data"
    }
   ],
   "source": [
    "plt.figure(figsize=(10,5))\n",
    "h1=sns.countplot(leadswithoutduplicate['What is your current occupation'], hue=leadswithoutduplicate.Converted)\n",
    "h1.set_xticklabels(h1.get_xticklabels(),rotation=90)\n",
    "for label in h1.containers:\n",
    "    h1.bar_label(label)\n",
    "plt.show()"
   ]
  },
  {
   "cell_type": "markdown",
   "id": "b438f95b",
   "metadata": {},
   "source": [
    "In the case of Specialization maximum conversion has been observed in the case of Management Specialization\n",
    "\n",
    "In the case of Occupation maximum conversion has been observed in the case of Unemployed\n",
    "\n",
    "In the case of Do Not Email maximum conversion has been observed in the case of No \n",
    "\n",
    "In the case of Lead Origin maximum conversion has been observed in the case of  Landing Page Submission.\n",
    "\n",
    "In the case of Lead Source maximum conversion has been observed in the case of Google\n",
    "\n",
    "In the case of Last Activity maximum conversion has been observed in the case of SMS Sent\n",
    "\n",
    "In the case of Last Notable Activity maximum conversion has been observed in the case of SMS Sent\n",
    "\n",
    "In the case of A free copy of mastering the interview  maximum conversion has been observed in the case of No"
   ]
  },
  {
   "cell_type": "code",
   "execution_count": 375,
   "id": "b502f184",
   "metadata": {},
   "outputs": [
    {
     "data": {
      "image/png": "[encoded data removed]",
      "text/plain": [
       "<Figure size 504x360 with 1 Axes>"
      ]
     },
     "metadata": {
      "needs_background": "light"
     },
     "output_type": "display_data"
    }
   ],
   "source": [
    "#Numerical Variables\n",
    "plt.figure(figsize=(7,5))\n",
    "r1=sns.barplot(y='TotalVisits', x='Converted',data=leadswithoutduplicate)\n",
    "r1.set_xticklabels(r1.get_xticklabels(),rotation=360)\n",
    "for label in r1.containers:\n",
    "    r1.bar_label(label)\n",
    "plt.show()"
   ]
  },
  {
   "cell_type": "code",
   "execution_count": 376,
   "id": "4c5abf12",
   "metadata": {},
   "outputs": [
    {
     "data": {
      "image/png": "[encoded data removed]",
      "text/plain": [
       "<Figure size 504x360 with 1 Axes>"
      ]
     },
     "metadata": {
      "needs_background": "light"
     },
     "output_type": "display_data"
    }
   ],
   "source": [
    "plt.figure(figsize=(7,5))\n",
    "t1=sns.barplot(y='Total Time Spent on Website', x='Converted',data=leadswithoutduplicate)\n",
    "t1.set_xticklabels(t1.get_xticklabels(),rotation=360,ha='center')\n",
    "for label in t1.containers:\n",
    "    t1.bar_label(label)\n",
    "plt.show()"
   ]
  },
  {
   "cell_type": "code",
   "execution_count": 377,
   "id": "3b457a8e",
   "metadata": {},
   "outputs": [
    {
     "data": {
      "image/png": "[encoded data removed]",
      "text/plain": [
       "<Figure size 504x360 with 1 Axes>"
      ]
     },
     "metadata": {
      "needs_background": "light"
     },
     "output_type": "display_data"
    }
   ],
   "source": [
    "plt.figure(figsize=(7,5))\n",
    "t1=sns.barplot(y='Page Views Per Visit', x='Converted',data=leadswithoutduplicate)\n",
    "t1.set_xticklabels(t1.get_xticklabels(),rotation=360,ha='center')\n",
    "for label in t1.containers:\n",
    "    t1.bar_label(label)\n",
    "plt.show()"
   ]
  },
  {
   "cell_type": "code",
   "execution_count": 378,
   "id": "40e6fb73",
   "metadata": {},
   "outputs": [
    {
     "data": {
      "image/png": "[encoded data removed]",
      "text/plain": [
       "<Figure size 432x432 with 2 Axes>"
      ]
     },
     "metadata": {
      "needs_background": "light"
     },
     "output_type": "display_data"
    }
   ],
   "source": [
    "plt.figure(figsize = (6,6))\n",
    "sns.heatmap(leadswithoutduplicate[['Converted','TotalVisits','Total Time Spent on Website','Page Views Per Visit']].corr(), annot = True, fmt='0.3g', cmap=\"YlGnBu\")\n",
    "plt.show()"
   ]
  },
  {
   "cell_type": "code",
   "execution_count": 380,
   "id": "1c673a84",
   "metadata": {},
   "outputs": [
    {
     "name": "stdout",
     "output_type": "stream",
     "text": [
      "<class 'pandas.core.frame.DataFrame'>\n",
      "Int64Index: 9240 entries, 0 to 9239\n",
      "Data columns (total 14 columns):\n",
      " #   Column                                  Non-Null Count  Dtype  \n",
      "---  ------                                  --------------  -----  \n",
      " 0   Prospect ID                             9240 non-null   object \n",
      " 1   Lead Origin                             9240 non-null   object \n",
      " 2   Lead Source                             9240 non-null   object \n",
      " 3   Do Not Email                            9240 non-null   object \n",
      " 4   Converted                               9240 non-null   int64  \n",
      " 5   TotalVisits                             9240 non-null   float64\n",
      " 6   Total Time Spent on Website             9240 non-null   int64  \n",
      " 7   Page Views Per Visit                    9240 non-null   float64\n",
      " 8   Last Activity                           9240 non-null   object \n",
      " 9   Specialization                          9240 non-null   object \n",
      " 10  What is your current occupation         9240 non-null   object \n",
      " 11  Tags                                    9240 non-null   object \n",
      " 12  A free copy of Mastering The Interview  9240 non-null   object \n",
      " 13  Last Notable Activity                   9240 non-null   object \n",
      "dtypes: float64(2), int64(2), object(10)\n",
      "memory usage: 1.1+ MB\n"
     ]
    }
   ],
   "source": [
    "leadswithoutduplicate.info()"
   ]
  },
  {
   "cell_type": "markdown",
   "id": "4fe26d15",
   "metadata": {},
   "source": [
    "## Dummy Variable Creation"
   ]
  },
  {
   "cell_type": "code",
   "execution_count": 381,
   "id": "c960e2c4",
   "metadata": {},
   "outputs": [],
   "source": [
    "# Creating Dummies\n",
    "LeadOrigin=pd.get_dummies(leadswithoutduplicate['Lead Origin'],prefix='LeadOrigin',drop_first=True)"
   ]
  },
  {
   "cell_type": "code",
   "execution_count": 382,
   "id": "c9c87fa6",
   "metadata": {},
   "outputs": [],
   "source": [
    "LeadSource=pd.get_dummies(leadswithoutduplicate['Lead Source'],prefix='LeadSource',drop_first=True)"
   ]
  },
  {
   "cell_type": "code",
   "execution_count": 383,
   "id": "bdb0eb58",
   "metadata": {},
   "outputs": [],
   "source": [
    "DoNotEmail=pd.get_dummies(leadswithoutduplicate['Do Not Email'],prefix='DoNotEmail',drop_first=True)"
   ]
  },
  {
   "cell_type": "code",
   "execution_count": 384,
   "id": "9a62d9e6",
   "metadata": {},
   "outputs": [],
   "source": [
    "LastActivity=pd.get_dummies(leadswithoutduplicate['Last Activity'],prefix='LastActivity',drop_first=True)"
   ]
  },
  {
   "cell_type": "code",
   "execution_count": 385,
   "id": "4b325889",
   "metadata": {},
   "outputs": [],
   "source": [
    "Specialization1=pd.get_dummies(leadswithoutduplicate['Specialization'],prefix='Specialization1',drop_first=True)"
   ]
  },
  {
   "cell_type": "code",
   "execution_count": 386,
   "id": "17f0f486",
   "metadata": {},
   "outputs": [],
   "source": [
    "Whatisyourcurrentoccupation=pd.get_dummies(leadswithoutduplicate['What is your current occupation'],prefix='Whatisyourcurrentoccupation',drop_first=True)"
   ]
  },
  {
   "cell_type": "code",
   "execution_count": 387,
   "id": "6e3ac2f4",
   "metadata": {},
   "outputs": [],
   "source": [
    "Tags1=pd.get_dummies(leadswithoutduplicate['Tags'],prefix='Tags1',drop_first=True)"
   ]
  },
  {
   "cell_type": "code",
   "execution_count": 388,
   "id": "9b951bce",
   "metadata": {},
   "outputs": [],
   "source": [
    "AfreecopyofMasteringTheInterview=pd.get_dummies(leadswithoutduplicate['A free copy of Mastering The Interview'],prefix='AfreecopyofMasteringTheInterview',drop_first=True)"
   ]
  },
  {
   "cell_type": "code",
   "execution_count": 389,
   "id": "93a6c87e",
   "metadata": {},
   "outputs": [],
   "source": [
    "LastNotableActivity=pd.get_dummies(leadswithoutduplicate['Last Notable Activity'],prefix='LastNotableActivity',drop_first=True)"
   ]
  },
  {
   "cell_type": "code",
   "execution_count": 390,
   "id": "bda654dd",
   "metadata": {},
   "outputs": [],
   "source": [
    "leadswithoutduplicate=pd.concat([leadswithoutduplicate,LeadOrigin,LeadSource,DoNotEmail,LastActivity,Specialization1,Whatisyourcurrentoccupation,Tags1,AfreecopyofMasteringTheInterview,LastNotableActivity],axis=1)"
   ]
  },
  {
   "cell_type": "code",
   "execution_count": 391,
   "id": "11a96479",
   "metadata": {},
   "outputs": [],
   "source": [
    "leadswithoutduplicate.drop(['Lead Origin','Lead Source','Do Not Email','Last Activity','Specialization','A free copy of Mastering The Interview','Last Notable Activity','What is your current occupation','Tags'],axis=1,inplace=True)"
   ]
  },
  {
   "cell_type": "code",
   "execution_count": 392,
   "id": "171ce4d6",
   "metadata": {},
   "outputs": [
    {
     "name": "stdout",
     "output_type": "stream",
     "text": [
      "<class 'pandas.core.frame.DataFrame'>\n",
      "Int64Index: 9240 entries, 0 to 9239\n",
      "Data columns (total 77 columns):\n",
      " #   Column                                            Non-Null Count  Dtype  \n",
      "---  ------                                            --------------  -----  \n",
      " 0   Prospect ID                                       9240 non-null   object \n",
      " 1   Converted                                         9240 non-null   int64  \n",
      " 2   TotalVisits                                       9240 non-null   float64\n",
      " 3   Total Time Spent on Website                       9240 non-null   int64  \n",
      " 4   Page Views Per Visit                              9240 non-null   float64\n",
      " 5   LeadOrigin_Landing Page Submission                9240 non-null   uint8  \n",
      " 6   LeadOrigin_Lead Add Form                          9240 non-null   uint8  \n",
      " 7   LeadOrigin_Lead Import                            9240 non-null   uint8  \n",
      " 8   LeadOrigin_Quick Add Form                         9240 non-null   uint8  \n",
      " 9   LeadSource_Direct Traffic                         9240 non-null   uint8  \n",
      " 10  LeadSource_Facebook                               9240 non-null   uint8  \n",
      " 11  LeadSource_Google                                 9240 non-null   uint8  \n",
      " 12  LeadSource_Live Chat                              9240 non-null   uint8  \n",
      " 13  LeadSource_NC_EDM                                 9240 non-null   uint8  \n",
      " 14  LeadSource_Olark Chat                             9240 non-null   uint8  \n",
      " 15  LeadSource_Organic Search                         9240 non-null   uint8  \n",
      " 16  LeadSource_Pay per Click Ads                      9240 non-null   uint8  \n",
      " 17  LeadSource_Press_Release                          9240 non-null   uint8  \n",
      " 18  LeadSource_Reference                              9240 non-null   uint8  \n",
      " 19  LeadSource_Referral Sites                         9240 non-null   uint8  \n",
      " 20  LeadSource_Social Media                           9240 non-null   uint8  \n",
      " 21  LeadSource_WeLearn                                9240 non-null   uint8  \n",
      " 22  LeadSource_Welingak Website                       9240 non-null   uint8  \n",
      " 23  LeadSource_bing                                   9240 non-null   uint8  \n",
      " 24  LeadSource_blog                                   9240 non-null   uint8  \n",
      " 25  LeadSource_testone                                9240 non-null   uint8  \n",
      " 26  LeadSource_welearnblog_Home                       9240 non-null   uint8  \n",
      " 27  LeadSource_youtubechannel                         9240 non-null   uint8  \n",
      " 28  DoNotEmail_Yes                                    9240 non-null   uint8  \n",
      " 29  LastActivity_Converted to Lead                    9240 non-null   uint8  \n",
      " 30  LastActivity_Email Bounced                        9240 non-null   uint8  \n",
      " 31  LastActivity_Email Link Clicked                   9240 non-null   uint8  \n",
      " 32  LastActivity_Email Marked Spam                    9240 non-null   uint8  \n",
      " 33  LastActivity_Email Opened                         9240 non-null   uint8  \n",
      " 34  LastActivity_Email Received                       9240 non-null   uint8  \n",
      " 35  LastActivity_Form Submitted on Website            9240 non-null   uint8  \n",
      " 36  LastActivity_Had a Phone Conversation             9240 non-null   uint8  \n",
      " 37  LastActivity_Olark Chat Conversation              9240 non-null   uint8  \n",
      " 38  LastActivity_Page Visited on Website              9240 non-null   uint8  \n",
      " 39  LastActivity_Resubscribed to emails               9240 non-null   uint8  \n",
      " 40  LastActivity_SMS Sent                             9240 non-null   uint8  \n",
      " 41  LastActivity_Unreachable                          9240 non-null   uint8  \n",
      " 42  LastActivity_Unsubscribed                         9240 non-null   uint8  \n",
      " 43  LastActivity_View in browser link Clicked         9240 non-null   uint8  \n",
      " 44  LastActivity_Visited Booth in Tradeshow           9240 non-null   uint8  \n",
      " 45  Specialization1_Business Administration           9240 non-null   uint8  \n",
      " 46  Specialization1_E-Business                        9240 non-null   uint8  \n",
      " 47  Specialization1_E-COMMERCE                        9240 non-null   uint8  \n",
      " 48  Specialization1_International Business            9240 non-null   uint8  \n",
      " 49  Specialization1_Management Specializations        9240 non-null   uint8  \n",
      " 50  Specialization1_Media and Advertising             9240 non-null   uint8  \n",
      " 51  Specialization1_No Information                    9240 non-null   uint8  \n",
      " 52  Specialization1_Rural and Agribusiness            9240 non-null   uint8  \n",
      " 53  Specialization1_Services Excellence               9240 non-null   uint8  \n",
      " 54  Specialization1_Travel and Tourism                9240 non-null   uint8  \n",
      " 55  Whatisyourcurrentoccupation_Housewife             9240 non-null   uint8  \n",
      " 56  Whatisyourcurrentoccupation_Other                 9240 non-null   uint8  \n",
      " 57  Whatisyourcurrentoccupation_Student               9240 non-null   uint8  \n",
      " 58  Whatisyourcurrentoccupation_Unemployed            9240 non-null   uint8  \n",
      " 59  Whatisyourcurrentoccupation_Working Professional  9240 non-null   uint8  \n",
      " 60  Tags1_Closed by Horizzon                          9240 non-null   uint8  \n",
      " 61  Tags1_Interested in other courses                 9240 non-null   uint8  \n",
      " 62  Tags1_Lost to EINS                                9240 non-null   uint8  \n",
      " 63  Tags1_Not Specified                               9240 non-null   uint8  \n",
      " 64  Tags1_Other_Tags                                  9240 non-null   uint8  \n",
      " 65  Tags1_Ringing                                     9240 non-null   uint8  \n",
      " 66  Tags1_Will revert after reading the email         9240 non-null   uint8  \n",
      " 67  AfreecopyofMasteringTheInterview_Yes              9240 non-null   uint8  \n",
      " 68  LastNotableActivity_Email Link Clicked            9240 non-null   uint8  \n",
      " 69  LastNotableActivity_Email Opened                  9240 non-null   uint8  \n",
      " 70  LastNotableActivity_Modified                      9240 non-null   uint8  \n",
      " 71  LastNotableActivity_Olark Chat Conversation       9240 non-null   uint8  \n",
      " 72  LastNotableActivity_Others                        9240 non-null   uint8  \n",
      " 73  LastNotableActivity_Page Visited on Website       9240 non-null   uint8  \n",
      " 74  LastNotableActivity_SMS Sent                      9240 non-null   uint8  \n",
      " 75  LastNotableActivity_Unreachable                   9240 non-null   uint8  \n",
      " 76  LastNotableActivity_Unsubscribed                  9240 non-null   uint8  \n",
      "dtypes: float64(2), int64(2), object(1), uint8(72)\n",
      "memory usage: 1.1+ MB\n"
     ]
    }
   ],
   "source": [
    "leadswithoutduplicate.info()"
   ]
  },
  {
   "cell_type": "markdown",
   "id": "26fb9281",
   "metadata": {},
   "source": [
    "# Spliting into Train and Test Dataset"
   ]
  },
  {
   "cell_type": "code",
   "execution_count": 393,
   "id": "80506b18",
   "metadata": {},
   "outputs": [
    {
     "data": {
      "text/plain": [
       "0    0\n",
       "1    0\n",
       "2    1\n",
       "3    0\n",
       "4    1\n",
       "Name: Converted, dtype: int64"
      ]
     },
     "execution_count": 393,
     "metadata": {},
     "output_type": "execute_result"
    }
   ],
   "source": [
    "Y=leadswithoutduplicate['Converted']\n",
    "Y.head()"
   ]
  },
  {
   "cell_type": "code",
   "execution_count": 394,
   "id": "12759355",
   "metadata": {},
   "outputs": [
    {
     "data": {
      "text/html": [
       "<div>\n",
       "<style scoped>\n",
       "    .dataframe tbody tr th:only-of-type {\n",
       "        vertical-align: middle;\n",
       "    }\n",
       "\n",
       "    .dataframe tbody tr th {\n",
       "        vertical-align: top;\n",
       "    }\n",
       "\n",
       "    .dataframe thead th {\n",
       "        text-align: right;\n",
       "    }\n",
       "</style>\n",
       "<table border=\"1\" class=\"dataframe\">\n",
       "  <thead>\n",
       "    <tr style=\"text-align: right;\">\n",
       "      <th></th>\n",
       "      <th>TotalVisits</th>\n",
       "      <th>Total Time Spent on Website</th>\n",
       "      <th>Page Views Per Visit</th>\n",
       "      <th>LeadOrigin_Landing Page Submission</th>\n",
       "      <th>LeadOrigin_Lead Add Form</th>\n",
       "      <th>LeadOrigin_Lead Import</th>\n",
       "      <th>LeadOrigin_Quick Add Form</th>\n",
       "      <th>LeadSource_Direct Traffic</th>\n",
       "      <th>LeadSource_Facebook</th>\n",
       "      <th>LeadSource_Google</th>\n",
       "      <th>...</th>\n",
       "      <th>AfreecopyofMasteringTheInterview_Yes</th>\n",
       "      <th>LastNotableActivity_Email Link Clicked</th>\n",
       "      <th>LastNotableActivity_Email Opened</th>\n",
       "      <th>LastNotableActivity_Modified</th>\n",
       "      <th>LastNotableActivity_Olark Chat Conversation</th>\n",
       "      <th>LastNotableActivity_Others</th>\n",
       "      <th>LastNotableActivity_Page Visited on Website</th>\n",
       "      <th>LastNotableActivity_SMS Sent</th>\n",
       "      <th>LastNotableActivity_Unreachable</th>\n",
       "      <th>LastNotableActivity_Unsubscribed</th>\n",
       "    </tr>\n",
       "  </thead>\n",
       "  <tbody>\n",
       "    <tr>\n",
       "      <th>0</th>\n",
       "      <td>0.0</td>\n",
       "      <td>0</td>\n",
       "      <td>0.0</td>\n",
       "      <td>0</td>\n",
       "      <td>0</td>\n",
       "      <td>0</td>\n",
       "      <td>0</td>\n",
       "      <td>0</td>\n",
       "      <td>0</td>\n",
       "      <td>0</td>\n",
       "      <td>...</td>\n",
       "      <td>0</td>\n",
       "      <td>0</td>\n",
       "      <td>0</td>\n",
       "      <td>1</td>\n",
       "      <td>0</td>\n",
       "      <td>0</td>\n",
       "      <td>0</td>\n",
       "      <td>0</td>\n",
       "      <td>0</td>\n",
       "      <td>0</td>\n",
       "    </tr>\n",
       "    <tr>\n",
       "      <th>1</th>\n",
       "      <td>5.0</td>\n",
       "      <td>674</td>\n",
       "      <td>2.5</td>\n",
       "      <td>0</td>\n",
       "      <td>0</td>\n",
       "      <td>0</td>\n",
       "      <td>0</td>\n",
       "      <td>0</td>\n",
       "      <td>0</td>\n",
       "      <td>0</td>\n",
       "      <td>...</td>\n",
       "      <td>0</td>\n",
       "      <td>0</td>\n",
       "      <td>1</td>\n",
       "      <td>0</td>\n",
       "      <td>0</td>\n",
       "      <td>0</td>\n",
       "      <td>0</td>\n",
       "      <td>0</td>\n",
       "      <td>0</td>\n",
       "      <td>0</td>\n",
       "    </tr>\n",
       "    <tr>\n",
       "      <th>2</th>\n",
       "      <td>2.0</td>\n",
       "      <td>1532</td>\n",
       "      <td>2.0</td>\n",
       "      <td>1</td>\n",
       "      <td>0</td>\n",
       "      <td>0</td>\n",
       "      <td>0</td>\n",
       "      <td>1</td>\n",
       "      <td>0</td>\n",
       "      <td>0</td>\n",
       "      <td>...</td>\n",
       "      <td>1</td>\n",
       "      <td>0</td>\n",
       "      <td>1</td>\n",
       "      <td>0</td>\n",
       "      <td>0</td>\n",
       "      <td>0</td>\n",
       "      <td>0</td>\n",
       "      <td>0</td>\n",
       "      <td>0</td>\n",
       "      <td>0</td>\n",
       "    </tr>\n",
       "    <tr>\n",
       "      <th>3</th>\n",
       "      <td>1.0</td>\n",
       "      <td>305</td>\n",
       "      <td>1.0</td>\n",
       "      <td>1</td>\n",
       "      <td>0</td>\n",
       "      <td>0</td>\n",
       "      <td>0</td>\n",
       "      <td>1</td>\n",
       "      <td>0</td>\n",
       "      <td>0</td>\n",
       "      <td>...</td>\n",
       "      <td>0</td>\n",
       "      <td>0</td>\n",
       "      <td>0</td>\n",
       "      <td>1</td>\n",
       "      <td>0</td>\n",
       "      <td>0</td>\n",
       "      <td>0</td>\n",
       "      <td>0</td>\n",
       "      <td>0</td>\n",
       "      <td>0</td>\n",
       "    </tr>\n",
       "    <tr>\n",
       "      <th>4</th>\n",
       "      <td>2.0</td>\n",
       "      <td>1428</td>\n",
       "      <td>1.0</td>\n",
       "      <td>1</td>\n",
       "      <td>0</td>\n",
       "      <td>0</td>\n",
       "      <td>0</td>\n",
       "      <td>0</td>\n",
       "      <td>0</td>\n",
       "      <td>1</td>\n",
       "      <td>...</td>\n",
       "      <td>0</td>\n",
       "      <td>0</td>\n",
       "      <td>0</td>\n",
       "      <td>1</td>\n",
       "      <td>0</td>\n",
       "      <td>0</td>\n",
       "      <td>0</td>\n",
       "      <td>0</td>\n",
       "      <td>0</td>\n",
       "      <td>0</td>\n",
       "    </tr>\n",
       "  </tbody>\n",
       "</table>\n",
       "<p>5 rows × 75 columns</p>\n",
       "</div>"
      ],
      "text/plain": [
       "   TotalVisits  Total Time Spent on Website  Page Views Per Visit  \\\n",
       "0          0.0                            0                   0.0   \n",
       "1          5.0                          674                   2.5   \n",
       "2          2.0                         1532                   2.0   \n",
       "3          1.0                          305                   1.0   \n",
       "4          2.0                         1428                   1.0   \n",
       "\n",
       "   LeadOrigin_Landing Page Submission  LeadOrigin_Lead Add Form  \\\n",
       "0                                   0                         0   \n",
       "1                                   0                         0   \n",
       "2                                   1                         0   \n",
       "3                                   1                         0   \n",
       "4                                   1                         0   \n",
       "\n",
       "   LeadOrigin_Lead Import  LeadOrigin_Quick Add Form  \\\n",
       "0                       0                          0   \n",
       "1                       0                          0   \n",
       "2                       0                          0   \n",
       "3                       0                          0   \n",
       "4                       0                          0   \n",
       "\n",
       "   LeadSource_Direct Traffic  LeadSource_Facebook  LeadSource_Google  ...  \\\n",
       "0                          0                    0                  0  ...   \n",
       "1                          0                    0                  0  ...   \n",
       "2                          1                    0                  0  ...   \n",
       "3                          1                    0                  0  ...   \n",
       "4                          0                    0                  1  ...   \n",
       "\n",
       "   AfreecopyofMasteringTheInterview_Yes  \\\n",
       "0                                     0   \n",
       "1                                     0   \n",
       "2                                     1   \n",
       "3                                     0   \n",
       "4                                     0   \n",
       "\n",
       "   LastNotableActivity_Email Link Clicked  LastNotableActivity_Email Opened  \\\n",
       "0                                       0                                 0   \n",
       "1                                       0                                 1   \n",
       "2                                       0                                 1   \n",
       "3                                       0                                 0   \n",
       "4                                       0                                 0   \n",
       "\n",
       "   LastNotableActivity_Modified  LastNotableActivity_Olark Chat Conversation  \\\n",
       "0                             1                                            0   \n",
       "1                             0                                            0   \n",
       "2                             0                                            0   \n",
       "3                             1                                            0   \n",
       "4                             1                                            0   \n",
       "\n",
       "   LastNotableActivity_Others  LastNotableActivity_Page Visited on Website  \\\n",
       "0                           0                                            0   \n",
       "1                           0                                            0   \n",
       "2                           0                                            0   \n",
       "3                           0                                            0   \n",
       "4                           0                                            0   \n",
       "\n",
       "   LastNotableActivity_SMS Sent  LastNotableActivity_Unreachable  \\\n",
       "0                             0                                0   \n",
       "1                             0                                0   \n",
       "2                             0                                0   \n",
       "3                             0                                0   \n",
       "4                             0                                0   \n",
       "\n",
       "   LastNotableActivity_Unsubscribed  \n",
       "0                                 0  \n",
       "1                                 0  \n",
       "2                                 0  \n",
       "3                                 0  \n",
       "4                                 0  \n",
       "\n",
       "[5 rows x 75 columns]"
      ]
     },
     "execution_count": 394,
     "metadata": {},
     "output_type": "execute_result"
    }
   ],
   "source": [
    "X=leadswithoutduplicate.drop(['Converted','Prospect ID'], axis=1)\n",
    "X.head()"
   ]
  },
  {
   "cell_type": "code",
   "execution_count": 395,
   "id": "965d6ffe",
   "metadata": {},
   "outputs": [],
   "source": [
    "# Spliting data into train and test sets\n",
    "X_train, X_test, Y_train, Y_test = train_test_split(X, Y, train_size=0.7, test_size=0.3, random_state=100)"
   ]
  },
  {
   "cell_type": "code",
   "execution_count": 396,
   "id": "bb1dbce7",
   "metadata": {},
   "outputs": [
    {
     "data": {
      "text/html": [
       "<div>\n",
       "<style scoped>\n",
       "    .dataframe tbody tr th:only-of-type {\n",
       "        vertical-align: middle;\n",
       "    }\n",
       "\n",
       "    .dataframe tbody tr th {\n",
       "        vertical-align: top;\n",
       "    }\n",
       "\n",
       "    .dataframe thead th {\n",
       "        text-align: right;\n",
       "    }\n",
       "</style>\n",
       "<table border=\"1\" class=\"dataframe\">\n",
       "  <thead>\n",
       "    <tr style=\"text-align: right;\">\n",
       "      <th></th>\n",
       "      <th>TotalVisits</th>\n",
       "      <th>Total Time Spent on Website</th>\n",
       "      <th>Page Views Per Visit</th>\n",
       "      <th>LeadOrigin_Landing Page Submission</th>\n",
       "      <th>LeadOrigin_Lead Add Form</th>\n",
       "      <th>LeadOrigin_Lead Import</th>\n",
       "      <th>LeadOrigin_Quick Add Form</th>\n",
       "      <th>LeadSource_Direct Traffic</th>\n",
       "      <th>LeadSource_Facebook</th>\n",
       "      <th>LeadSource_Google</th>\n",
       "      <th>...</th>\n",
       "      <th>AfreecopyofMasteringTheInterview_Yes</th>\n",
       "      <th>LastNotableActivity_Email Link Clicked</th>\n",
       "      <th>LastNotableActivity_Email Opened</th>\n",
       "      <th>LastNotableActivity_Modified</th>\n",
       "      <th>LastNotableActivity_Olark Chat Conversation</th>\n",
       "      <th>LastNotableActivity_Others</th>\n",
       "      <th>LastNotableActivity_Page Visited on Website</th>\n",
       "      <th>LastNotableActivity_SMS Sent</th>\n",
       "      <th>LastNotableActivity_Unreachable</th>\n",
       "      <th>LastNotableActivity_Unsubscribed</th>\n",
       "    </tr>\n",
       "  </thead>\n",
       "  <tbody>\n",
       "    <tr>\n",
       "      <th>1871</th>\n",
       "      <td>0.000000</td>\n",
       "      <td>0.000000</td>\n",
       "      <td>0.000000</td>\n",
       "      <td>0</td>\n",
       "      <td>0</td>\n",
       "      <td>0</td>\n",
       "      <td>0</td>\n",
       "      <td>0</td>\n",
       "      <td>0</td>\n",
       "      <td>0</td>\n",
       "      <td>...</td>\n",
       "      <td>0</td>\n",
       "      <td>0</td>\n",
       "      <td>1</td>\n",
       "      <td>0</td>\n",
       "      <td>0</td>\n",
       "      <td>0</td>\n",
       "      <td>0</td>\n",
       "      <td>0</td>\n",
       "      <td>0</td>\n",
       "      <td>0</td>\n",
       "    </tr>\n",
       "    <tr>\n",
       "      <th>6795</th>\n",
       "      <td>0.015936</td>\n",
       "      <td>0.214349</td>\n",
       "      <td>0.024182</td>\n",
       "      <td>1</td>\n",
       "      <td>0</td>\n",
       "      <td>0</td>\n",
       "      <td>0</td>\n",
       "      <td>1</td>\n",
       "      <td>0</td>\n",
       "      <td>0</td>\n",
       "      <td>...</td>\n",
       "      <td>1</td>\n",
       "      <td>0</td>\n",
       "      <td>1</td>\n",
       "      <td>0</td>\n",
       "      <td>0</td>\n",
       "      <td>0</td>\n",
       "      <td>0</td>\n",
       "      <td>0</td>\n",
       "      <td>0</td>\n",
       "      <td>0</td>\n",
       "    </tr>\n",
       "    <tr>\n",
       "      <th>3516</th>\n",
       "      <td>0.019920</td>\n",
       "      <td>0.046655</td>\n",
       "      <td>0.045455</td>\n",
       "      <td>0</td>\n",
       "      <td>0</td>\n",
       "      <td>0</td>\n",
       "      <td>0</td>\n",
       "      <td>0</td>\n",
       "      <td>0</td>\n",
       "      <td>0</td>\n",
       "      <td>...</td>\n",
       "      <td>0</td>\n",
       "      <td>0</td>\n",
       "      <td>1</td>\n",
       "      <td>0</td>\n",
       "      <td>0</td>\n",
       "      <td>0</td>\n",
       "      <td>0</td>\n",
       "      <td>0</td>\n",
       "      <td>0</td>\n",
       "      <td>0</td>\n",
       "    </tr>\n",
       "    <tr>\n",
       "      <th>8105</th>\n",
       "      <td>0.019920</td>\n",
       "      <td>0.541373</td>\n",
       "      <td>0.090909</td>\n",
       "      <td>1</td>\n",
       "      <td>0</td>\n",
       "      <td>0</td>\n",
       "      <td>0</td>\n",
       "      <td>0</td>\n",
       "      <td>0</td>\n",
       "      <td>1</td>\n",
       "      <td>...</td>\n",
       "      <td>0</td>\n",
       "      <td>0</td>\n",
       "      <td>0</td>\n",
       "      <td>0</td>\n",
       "      <td>0</td>\n",
       "      <td>0</td>\n",
       "      <td>0</td>\n",
       "      <td>1</td>\n",
       "      <td>0</td>\n",
       "      <td>0</td>\n",
       "    </tr>\n",
       "    <tr>\n",
       "      <th>3934</th>\n",
       "      <td>0.000000</td>\n",
       "      <td>0.000000</td>\n",
       "      <td>0.000000</td>\n",
       "      <td>0</td>\n",
       "      <td>0</td>\n",
       "      <td>0</td>\n",
       "      <td>0</td>\n",
       "      <td>0</td>\n",
       "      <td>0</td>\n",
       "      <td>0</td>\n",
       "      <td>...</td>\n",
       "      <td>0</td>\n",
       "      <td>0</td>\n",
       "      <td>0</td>\n",
       "      <td>1</td>\n",
       "      <td>0</td>\n",
       "      <td>0</td>\n",
       "      <td>0</td>\n",
       "      <td>0</td>\n",
       "      <td>0</td>\n",
       "      <td>0</td>\n",
       "    </tr>\n",
       "  </tbody>\n",
       "</table>\n",
       "<p>5 rows × 75 columns</p>\n",
       "</div>"
      ],
      "text/plain": [
       "      TotalVisits  Total Time Spent on Website  Page Views Per Visit  \\\n",
       "1871     0.000000                     0.000000              0.000000   \n",
       "6795     0.015936                     0.214349              0.024182   \n",
       "3516     0.019920                     0.046655              0.045455   \n",
       "8105     0.019920                     0.541373              0.090909   \n",
       "3934     0.000000                     0.000000              0.000000   \n",
       "\n",
       "      LeadOrigin_Landing Page Submission  LeadOrigin_Lead Add Form  \\\n",
       "1871                                   0                         0   \n",
       "6795                                   1                         0   \n",
       "3516                                   0                         0   \n",
       "8105                                   1                         0   \n",
       "3934                                   0                         0   \n",
       "\n",
       "      LeadOrigin_Lead Import  LeadOrigin_Quick Add Form  \\\n",
       "1871                       0                          0   \n",
       "6795                       0                          0   \n",
       "3516                       0                          0   \n",
       "8105                       0                          0   \n",
       "3934                       0                          0   \n",
       "\n",
       "      LeadSource_Direct Traffic  LeadSource_Facebook  LeadSource_Google  ...  \\\n",
       "1871                          0                    0                  0  ...   \n",
       "6795                          1                    0                  0  ...   \n",
       "3516                          0                    0                  0  ...   \n",
       "8105                          0                    0                  1  ...   \n",
       "3934                          0                    0                  0  ...   \n",
       "\n",
       "      AfreecopyofMasteringTheInterview_Yes  \\\n",
       "1871                                     0   \n",
       "6795                                     1   \n",
       "3516                                     0   \n",
       "8105                                     0   \n",
       "3934                                     0   \n",
       "\n",
       "      LastNotableActivity_Email Link Clicked  \\\n",
       "1871                                       0   \n",
       "6795                                       0   \n",
       "3516                                       0   \n",
       "8105                                       0   \n",
       "3934                                       0   \n",
       "\n",
       "      LastNotableActivity_Email Opened  LastNotableActivity_Modified  \\\n",
       "1871                                 1                             0   \n",
       "6795                                 1                             0   \n",
       "3516                                 1                             0   \n",
       "8105                                 0                             0   \n",
       "3934                                 0                             1   \n",
       "\n",
       "      LastNotableActivity_Olark Chat Conversation  LastNotableActivity_Others  \\\n",
       "1871                                            0                           0   \n",
       "6795                                            0                           0   \n",
       "3516                                            0                           0   \n",
       "8105                                            0                           0   \n",
       "3934                                            0                           0   \n",
       "\n",
       "      LastNotableActivity_Page Visited on Website  \\\n",
       "1871                                            0   \n",
       "6795                                            0   \n",
       "3516                                            0   \n",
       "8105                                            0   \n",
       "3934                                            0   \n",
       "\n",
       "      LastNotableActivity_SMS Sent  LastNotableActivity_Unreachable  \\\n",
       "1871                             0                                0   \n",
       "6795                             0                                0   \n",
       "3516                             0                                0   \n",
       "8105                             1                                0   \n",
       "3934                             0                                0   \n",
       "\n",
       "      LastNotableActivity_Unsubscribed  \n",
       "1871                                 0  \n",
       "6795                                 0  \n",
       "3516                                 0  \n",
       "8105                                 0  \n",
       "3934                                 0  \n",
       "\n",
       "[5 rows x 75 columns]"
      ]
     },
     "execution_count": 396,
     "metadata": {},
     "output_type": "execute_result"
    }
   ],
   "source": [
    "# Scaling the numerical variables\n",
    "scaler=MinMaxScaler()\n",
    "num_vars=['TotalVisits','Total Time Spent on Website','Page Views Per Visit']\n",
    "X_train[num_vars]=scaler.fit_transform(X_train[num_vars])\n",
    "X_train.head()"
   ]
  },
  {
   "cell_type": "code",
   "execution_count": 397,
   "id": "89bd88ad",
   "metadata": {},
   "outputs": [],
   "source": [
    "rfe=RFE(estimator=LogisticRegression())\n",
    "rfe=rfe.fit(X_train,Y_train)"
   ]
  },
  {
   "cell_type": "code",
   "execution_count": 398,
   "id": "4409ddf7",
   "metadata": {},
   "outputs": [
    {
     "data": {
      "text/plain": [
       "array([ True,  True, False,  True,  True, False,  True, False,  True,\n",
       "       False, False,  True,  True, False, False, False,  True, False,\n",
       "       False, False,  True,  True, False, False, False, False,  True,\n",
       "        True,  True, False, False, False, False, False, False,  True,\n",
       "        True, False,  True, False, False,  True, False, False, False,\n",
       "        True,  True, False, False, False,  True,  True,  True,  True,\n",
       "       False, False, False,  True,  True,  True,  True,  True,  True,\n",
       "        True,  True, False,  True, False,  True,  True,  True, False,\n",
       "        True, False, False])"
      ]
     },
     "execution_count": 398,
     "metadata": {},
     "output_type": "execute_result"
    }
   ],
   "source": [
    "rfe.support_"
   ]
  },
  {
   "cell_type": "code",
   "execution_count": 399,
   "id": "abb317e4",
   "metadata": {},
   "outputs": [
    {
     "data": {
      "text/plain": [
       "[('TotalVisits', True, 1),\n",
       " ('Total Time Spent on Website', True, 1),\n",
       " ('Page Views Per Visit', False, 25),\n",
       " ('LeadOrigin_Landing Page Submission', True, 1),\n",
       " ('LeadOrigin_Lead Add Form', True, 1),\n",
       " ('LeadOrigin_Lead Import', False, 29),\n",
       " ('LeadOrigin_Quick Add Form', True, 1),\n",
       " ('LeadSource_Direct Traffic', False, 3),\n",
       " ('LeadSource_Facebook', True, 1),\n",
       " ('LeadSource_Google', False, 5),\n",
       " ('LeadSource_Live Chat', False, 37),\n",
       " ('LeadSource_NC_EDM', True, 1),\n",
       " ('LeadSource_Olark Chat', True, 1),\n",
       " ('LeadSource_Organic Search', False, 4),\n",
       " ('LeadSource_Pay per Click Ads', False, 35),\n",
       " ('LeadSource_Press_Release', False, 24),\n",
       " ('LeadSource_Reference', True, 1),\n",
       " ('LeadSource_Referral Sites', False, 2),\n",
       " ('LeadSource_Social Media', False, 23),\n",
       " ('LeadSource_WeLearn', False, 31),\n",
       " ('LeadSource_Welingak Website', True, 1),\n",
       " ('LeadSource_bing', True, 1),\n",
       " ('LeadSource_blog', False, 6),\n",
       " ('LeadSource_testone', False, 39),\n",
       " ('LeadSource_welearnblog_Home', False, 12),\n",
       " ('LeadSource_youtubechannel', False, 15),\n",
       " ('DoNotEmail_Yes', True, 1),\n",
       " ('LastActivity_Converted to Lead', True, 1),\n",
       " ('LastActivity_Email Bounced', True, 1),\n",
       " ('LastActivity_Email Link Clicked', False, 13),\n",
       " ('LastActivity_Email Marked Spam', False, 34),\n",
       " ('LastActivity_Email Opened', False, 32),\n",
       " ('LastActivity_Email Received', False, 27),\n",
       " ('LastActivity_Form Submitted on Website', False, 9),\n",
       " ('LastActivity_Had a Phone Conversation', False, 19),\n",
       " ('LastActivity_Olark Chat Conversation', True, 1),\n",
       " ('LastActivity_Page Visited on Website', True, 1),\n",
       " ('LastActivity_Resubscribed to emails', False, 33),\n",
       " ('LastActivity_SMS Sent', True, 1),\n",
       " ('LastActivity_Unreachable', False, 18),\n",
       " ('LastActivity_Unsubscribed', False, 28),\n",
       " ('LastActivity_View in browser link Clicked', True, 1),\n",
       " ('LastActivity_Visited Booth in Tradeshow', False, 36),\n",
       " ('Specialization1_Business Administration', False, 17),\n",
       " ('Specialization1_E-Business', False, 10),\n",
       " ('Specialization1_E-COMMERCE', True, 1),\n",
       " ('Specialization1_International Business', True, 1),\n",
       " ('Specialization1_Management Specializations', False, 16),\n",
       " ('Specialization1_Media and Advertising', False, 26),\n",
       " ('Specialization1_No Information', False, 14),\n",
       " ('Specialization1_Rural and Agribusiness', True, 1),\n",
       " ('Specialization1_Services Excellence', True, 1),\n",
       " ('Specialization1_Travel and Tourism', True, 1),\n",
       " ('Whatisyourcurrentoccupation_Housewife', True, 1),\n",
       " ('Whatisyourcurrentoccupation_Other', False, 30),\n",
       " ('Whatisyourcurrentoccupation_Student', False, 21),\n",
       " ('Whatisyourcurrentoccupation_Unemployed', False, 22),\n",
       " ('Whatisyourcurrentoccupation_Working Professional', True, 1),\n",
       " ('Tags1_Closed by Horizzon', True, 1),\n",
       " ('Tags1_Interested in other courses', True, 1),\n",
       " ('Tags1_Lost to EINS', True, 1),\n",
       " ('Tags1_Not Specified', True, 1),\n",
       " ('Tags1_Other_Tags', True, 1),\n",
       " ('Tags1_Ringing', True, 1),\n",
       " ('Tags1_Will revert after reading the email', True, 1),\n",
       " ('AfreecopyofMasteringTheInterview_Yes', False, 11),\n",
       " ('LastNotableActivity_Email Link Clicked', True, 1),\n",
       " ('LastNotableActivity_Email Opened', False, 8),\n",
       " ('LastNotableActivity_Modified', True, 1),\n",
       " ('LastNotableActivity_Olark Chat Conversation', True, 1),\n",
       " ('LastNotableActivity_Others', True, 1),\n",
       " ('LastNotableActivity_Page Visited on Website', False, 7),\n",
       " ('LastNotableActivity_SMS Sent', True, 1),\n",
       " ('LastNotableActivity_Unreachable', False, 20),\n",
       " ('LastNotableActivity_Unsubscribed', False, 38)]"
      ]
     },
     "execution_count": 399,
     "metadata": {},
     "output_type": "execute_result"
    }
   ],
   "source": [
    "list(zip(X_train.columns,rfe.support_,rfe.ranking_))"
   ]
  },
  {
   "cell_type": "code",
   "execution_count": 400,
   "id": "efef0a2a",
   "metadata": {},
   "outputs": [],
   "source": [
    "col=X_train.columns[rfe.support_]"
   ]
  },
  {
   "cell_type": "code",
   "execution_count": 401,
   "id": "31abe635",
   "metadata": {},
   "outputs": [
    {
     "data": {
      "text/plain": [
       "Index(['Page Views Per Visit', 'LeadOrigin_Lead Import',\n",
       "       'LeadSource_Direct Traffic', 'LeadSource_Google',\n",
       "       'LeadSource_Live Chat', 'LeadSource_Organic Search',\n",
       "       'LeadSource_Pay per Click Ads', 'LeadSource_Press_Release',\n",
       "       'LeadSource_Referral Sites', 'LeadSource_Social Media',\n",
       "       'LeadSource_WeLearn', 'LeadSource_blog', 'LeadSource_testone',\n",
       "       'LeadSource_welearnblog_Home', 'LeadSource_youtubechannel',\n",
       "       'LastActivity_Email Link Clicked', 'LastActivity_Email Marked Spam',\n",
       "       'LastActivity_Email Opened', 'LastActivity_Email Received',\n",
       "       'LastActivity_Form Submitted on Website',\n",
       "       'LastActivity_Had a Phone Conversation',\n",
       "       'LastActivity_Resubscribed to emails', 'LastActivity_Unreachable',\n",
       "       'LastActivity_Unsubscribed', 'LastActivity_Visited Booth in Tradeshow',\n",
       "       'Specialization1_Business Administration', 'Specialization1_E-Business',\n",
       "       'Specialization1_Management Specializations',\n",
       "       'Specialization1_Media and Advertising',\n",
       "       'Specialization1_No Information', 'Whatisyourcurrentoccupation_Other',\n",
       "       'Whatisyourcurrentoccupation_Student',\n",
       "       'Whatisyourcurrentoccupation_Unemployed',\n",
       "       'AfreecopyofMasteringTheInterview_Yes',\n",
       "       'LastNotableActivity_Email Opened',\n",
       "       'LastNotableActivity_Page Visited on Website',\n",
       "       'LastNotableActivity_Unreachable', 'LastNotableActivity_Unsubscribed'],\n",
       "      dtype='object')"
      ]
     },
     "execution_count": 401,
     "metadata": {},
     "output_type": "execute_result"
    }
   ],
   "source": [
    "X_train.columns[~rfe.support_]"
   ]
  },
  {
   "cell_type": "code",
   "execution_count": 402,
   "id": "12f9383a",
   "metadata": {},
   "outputs": [
    {
     "data": {
      "text/html": [
       "<table class=\"simpletable\">\n",
       "<caption>Generalized Linear Model Regression Results</caption>\n",
       "<tr>\n",
       "  <th>Dep. Variable:</th>       <td>Converted</td>    <th>  No. Observations:  </th>  <td>  6468</td> \n",
       "</tr>\n",
       "<tr>\n",
       "  <th>Model:</th>                  <td>GLM</td>       <th>  Df Residuals:      </th>  <td>  6430</td> \n",
       "</tr>\n",
       "<tr>\n",
       "  <th>Model Family:</th>        <td>Binomial</td>     <th>  Df Model:          </th>  <td>    37</td> \n",
       "</tr>\n",
       "<tr>\n",
       "  <th>Link Function:</th>         <td>Logit</td>      <th>  Scale:             </th> <td>  1.0000</td>\n",
       "</tr>\n",
       "<tr>\n",
       "  <th>Method:</th>                <td>IRLS</td>       <th>  Log-Likelihood:    </th> <td> -1243.6</td>\n",
       "</tr>\n",
       "<tr>\n",
       "  <th>Date:</th>            <td>Tue, 21 Mar 2023</td> <th>  Deviance:          </th> <td>  2487.2</td>\n",
       "</tr>\n",
       "<tr>\n",
       "  <th>Time:</th>                <td>16:56:14</td>     <th>  Pearson chi2:      </th> <td>1.14e+04</td>\n",
       "</tr>\n",
       "<tr>\n",
       "  <th>No. Iterations:</th>         <td>21</td>        <th>  Pseudo R-squ. (CS):</th>  <td>0.6112</td> \n",
       "</tr>\n",
       "<tr>\n",
       "  <th>Covariance Type:</th>     <td>nonrobust</td>    <th>                     </th>     <td> </td>   \n",
       "</tr>\n",
       "</table>\n",
       "<table class=\"simpletable\">\n",
       "<tr>\n",
       "                          <td></td>                            <th>coef</th>     <th>std err</th>      <th>z</th>      <th>P>|z|</th>  <th>[0.025</th>    <th>0.975]</th>  \n",
       "</tr>\n",
       "<tr>\n",
       "  <th>const</th>                                            <td>   -1.4711</td> <td>    0.273</td> <td>   -5.382</td> <td> 0.000</td> <td>   -2.007</td> <td>   -0.935</td>\n",
       "</tr>\n",
       "<tr>\n",
       "  <th>TotalVisits</th>                                      <td>    6.4382</td> <td>    1.769</td> <td>    3.639</td> <td> 0.000</td> <td>    2.970</td> <td>    9.906</td>\n",
       "</tr>\n",
       "<tr>\n",
       "  <th>Total Time Spent on Website</th>                      <td>    4.2949</td> <td>    0.250</td> <td>   17.172</td> <td> 0.000</td> <td>    3.805</td> <td>    4.785</td>\n",
       "</tr>\n",
       "<tr>\n",
       "  <th>LeadOrigin_Landing Page Submission</th>               <td>   -0.8253</td> <td>    0.138</td> <td>   -5.974</td> <td> 0.000</td> <td>   -1.096</td> <td>   -0.555</td>\n",
       "</tr>\n",
       "<tr>\n",
       "  <th>LeadOrigin_Lead Add Form</th>                         <td>    1.8593</td> <td>    0.770</td> <td>    2.413</td> <td> 0.016</td> <td>    0.349</td> <td>    3.369</td>\n",
       "</tr>\n",
       "<tr>\n",
       "  <th>LeadOrigin_Quick Add Form</th>                        <td>   22.2407</td> <td> 4.82e+04</td> <td>    0.000</td> <td> 1.000</td> <td>-9.44e+04</td> <td> 9.45e+04</td>\n",
       "</tr>\n",
       "<tr>\n",
       "  <th>LeadSource_Facebook</th>                              <td>   -0.5792</td> <td>    0.758</td> <td>   -0.765</td> <td> 0.445</td> <td>   -2.064</td> <td>    0.906</td>\n",
       "</tr>\n",
       "<tr>\n",
       "  <th>LeadSource_NC_EDM</th>                                <td>   23.5169</td> <td> 4.82e+04</td> <td>    0.000</td> <td> 1.000</td> <td>-9.44e+04</td> <td> 9.45e+04</td>\n",
       "</tr>\n",
       "<tr>\n",
       "  <th>LeadSource_Olark Chat</th>                            <td>    0.7489</td> <td>    0.169</td> <td>    4.433</td> <td> 0.000</td> <td>    0.418</td> <td>    1.080</td>\n",
       "</tr>\n",
       "<tr>\n",
       "  <th>LeadSource_Reference</th>                             <td>   -1.0207</td> <td>    0.856</td> <td>   -1.193</td> <td> 0.233</td> <td>   -2.698</td> <td>    0.657</td>\n",
       "</tr>\n",
       "<tr>\n",
       "  <th>LeadSource_Welingak Website</th>                      <td>    3.2138</td> <td>    1.056</td> <td>    3.044</td> <td> 0.002</td> <td>    1.145</td> <td>    5.283</td>\n",
       "</tr>\n",
       "<tr>\n",
       "  <th>LeadSource_bing</th>                                  <td>    1.5423</td> <td>    1.876</td> <td>    0.822</td> <td> 0.411</td> <td>   -2.134</td> <td>    5.219</td>\n",
       "</tr>\n",
       "<tr>\n",
       "  <th>DoNotEmail_Yes</th>                                   <td>   -0.6706</td> <td>    0.284</td> <td>   -2.360</td> <td> 0.018</td> <td>   -1.227</td> <td>   -0.114</td>\n",
       "</tr>\n",
       "<tr>\n",
       "  <th>LastActivity_Converted to Lead</th>                   <td>   -0.5153</td> <td>    0.397</td> <td>   -1.297</td> <td> 0.195</td> <td>   -1.294</td> <td>    0.263</td>\n",
       "</tr>\n",
       "<tr>\n",
       "  <th>LastActivity_Email Bounced</th>                       <td>   -0.4135</td> <td>    0.526</td> <td>   -0.786</td> <td> 0.432</td> <td>   -1.444</td> <td>    0.617</td>\n",
       "</tr>\n",
       "<tr>\n",
       "  <th>LastActivity_Olark Chat Conversation</th>             <td>   -0.6579</td> <td>    0.307</td> <td>   -2.146</td> <td> 0.032</td> <td>   -1.259</td> <td>   -0.057</td>\n",
       "</tr>\n",
       "<tr>\n",
       "  <th>LastActivity_Page Visited on Website</th>             <td>   -0.7174</td> <td>    0.250</td> <td>   -2.874</td> <td> 0.004</td> <td>   -1.207</td> <td>   -0.228</td>\n",
       "</tr>\n",
       "<tr>\n",
       "  <th>LastActivity_SMS Sent</th>                            <td>    1.2224</td> <td>    0.261</td> <td>    4.684</td> <td> 0.000</td> <td>    0.711</td> <td>    1.734</td>\n",
       "</tr>\n",
       "<tr>\n",
       "  <th>LastActivity_View in browser link Clicked</th>        <td>    1.4814</td> <td>    1.286</td> <td>    1.152</td> <td> 0.250</td> <td>   -1.040</td> <td>    4.003</td>\n",
       "</tr>\n",
       "<tr>\n",
       "  <th>Specialization1_E-COMMERCE</th>                       <td>    0.3735</td> <td>    0.480</td> <td>    0.778</td> <td> 0.437</td> <td>   -0.567</td> <td>    1.314</td>\n",
       "</tr>\n",
       "<tr>\n",
       "  <th>Specialization1_International Business</th>           <td>   -0.6346</td> <td>    0.435</td> <td>   -1.459</td> <td> 0.145</td> <td>   -1.487</td> <td>    0.218</td>\n",
       "</tr>\n",
       "<tr>\n",
       "  <th>Specialization1_Rural and Agribusiness</th>           <td>    0.3288</td> <td>    0.738</td> <td>    0.445</td> <td> 0.656</td> <td>   -1.118</td> <td>    1.775</td>\n",
       "</tr>\n",
       "<tr>\n",
       "  <th>Specialization1_Services Excellence</th>              <td>    0.7374</td> <td>    0.663</td> <td>    1.111</td> <td> 0.266</td> <td>   -0.563</td> <td>    2.038</td>\n",
       "</tr>\n",
       "<tr>\n",
       "  <th>Specialization1_Travel and Tourism</th>               <td>   -0.7880</td> <td>    0.457</td> <td>   -1.726</td> <td> 0.084</td> <td>   -1.683</td> <td>    0.107</td>\n",
       "</tr>\n",
       "<tr>\n",
       "  <th>Whatisyourcurrentoccupation_Housewife</th>            <td>   19.6047</td> <td> 1.46e+04</td> <td>    0.001</td> <td> 0.999</td> <td>-2.86e+04</td> <td> 2.87e+04</td>\n",
       "</tr>\n",
       "<tr>\n",
       "  <th>Whatisyourcurrentoccupation_Working Professional</th> <td>    0.8017</td> <td>    0.371</td> <td>    2.164</td> <td> 0.031</td> <td>    0.075</td> <td>    1.528</td>\n",
       "</tr>\n",
       "<tr>\n",
       "  <th>Tags1_Closed by Horizzon</th>                         <td>    6.5952</td> <td>    1.053</td> <td>    6.262</td> <td> 0.000</td> <td>    4.531</td> <td>    8.660</td>\n",
       "</tr>\n",
       "<tr>\n",
       "  <th>Tags1_Interested in other courses</th>                <td>   -2.5264</td> <td>    0.429</td> <td>   -5.889</td> <td> 0.000</td> <td>   -3.367</td> <td>   -1.686</td>\n",
       "</tr>\n",
       "<tr>\n",
       "  <th>Tags1_Lost to EINS</th>                               <td>    5.5242</td> <td>    0.768</td> <td>    7.190</td> <td> 0.000</td> <td>    4.018</td> <td>    7.030</td>\n",
       "</tr>\n",
       "<tr>\n",
       "  <th>Tags1_Not Specified</th>                              <td>   -0.5939</td> <td>    0.240</td> <td>   -2.472</td> <td> 0.013</td> <td>   -1.065</td> <td>   -0.123</td>\n",
       "</tr>\n",
       "<tr>\n",
       "  <th>Tags1_Other_Tags</th>                                 <td>   -2.8985</td> <td>    0.302</td> <td>   -9.608</td> <td> 0.000</td> <td>   -3.490</td> <td>   -2.307</td>\n",
       "</tr>\n",
       "<tr>\n",
       "  <th>Tags1_Ringing</th>                                    <td>   -4.0224</td> <td>    0.318</td> <td>  -12.658</td> <td> 0.000</td> <td>   -4.645</td> <td>   -3.400</td>\n",
       "</tr>\n",
       "<tr>\n",
       "  <th>Tags1_Will revert after reading the email</th>        <td>    3.8352</td> <td>    0.295</td> <td>   12.993</td> <td> 0.000</td> <td>    3.257</td> <td>    4.414</td>\n",
       "</tr>\n",
       "<tr>\n",
       "  <th>LastNotableActivity_Email Link Clicked</th>           <td>   -1.2802</td> <td>    0.459</td> <td>   -2.787</td> <td> 0.005</td> <td>   -2.181</td> <td>   -0.380</td>\n",
       "</tr>\n",
       "<tr>\n",
       "  <th>LastNotableActivity_Modified</th>                     <td>   -1.1669</td> <td>    0.197</td> <td>   -5.930</td> <td> 0.000</td> <td>   -1.553</td> <td>   -0.781</td>\n",
       "</tr>\n",
       "<tr>\n",
       "  <th>LastNotableActivity_Olark Chat Conversation</th>      <td>   -1.0341</td> <td>    0.522</td> <td>   -1.979</td> <td> 0.048</td> <td>   -2.058</td> <td>   -0.010</td>\n",
       "</tr>\n",
       "<tr>\n",
       "  <th>LastNotableActivity_Others</th>                       <td>    2.2046</td> <td>    1.239</td> <td>    1.779</td> <td> 0.075</td> <td>   -0.224</td> <td>    4.634</td>\n",
       "</tr>\n",
       "<tr>\n",
       "  <th>LastNotableActivity_SMS Sent</th>                     <td>    0.9065</td> <td>    0.287</td> <td>    3.159</td> <td> 0.002</td> <td>    0.344</td> <td>    1.469</td>\n",
       "</tr>\n",
       "</table>"
      ],
      "text/plain": [
       "<class 'statsmodels.iolib.summary.Summary'>\n",
       "\"\"\"\n",
       "                 Generalized Linear Model Regression Results                  \n",
       "==============================================================================\n",
       "Dep. Variable:              Converted   No. Observations:                 6468\n",
       "Model:                            GLM   Df Residuals:                     6430\n",
       "Model Family:                Binomial   Df Model:                           37\n",
       "Link Function:                  Logit   Scale:                          1.0000\n",
       "Method:                          IRLS   Log-Likelihood:                -1243.6\n",
       "Date:                Tue, 21 Mar 2023   Deviance:                       2487.2\n",
       "Time:                        16:56:14   Pearson chi2:                 1.14e+04\n",
       "No. Iterations:                    21   Pseudo R-squ. (CS):             0.6112\n",
       "Covariance Type:            nonrobust                                         \n",
       "====================================================================================================================\n",
       "                                                       coef    std err          z      P>|z|      [0.025      0.975]\n",
       "--------------------------------------------------------------------------------------------------------------------\n",
       "const                                               -1.4711      0.273     -5.382      0.000      -2.007      -0.935\n",
       "TotalVisits                                          6.4382      1.769      3.639      0.000       2.970       9.906\n",
       "Total Time Spent on Website                          4.2949      0.250     17.172      0.000       3.805       4.785\n",
       "LeadOrigin_Landing Page Submission                  -0.8253      0.138     -5.974      0.000      -1.096      -0.555\n",
       "LeadOrigin_Lead Add Form                             1.8593      0.770      2.413      0.016       0.349       3.369\n",
       "LeadOrigin_Quick Add Form                           22.2407   4.82e+04      0.000      1.000   -9.44e+04    9.45e+04\n",
       "LeadSource_Facebook                                 -0.5792      0.758     -0.765      0.445      -2.064       0.906\n",
       "LeadSource_NC_EDM                                   23.5169   4.82e+04      0.000      1.000   -9.44e+04    9.45e+04\n",
       "LeadSource_Olark Chat                                0.7489      0.169      4.433      0.000       0.418       1.080\n",
       "LeadSource_Reference                                -1.0207      0.856     -1.193      0.233      -2.698       0.657\n",
       "LeadSource_Welingak Website                          3.2138      1.056      3.044      0.002       1.145       5.283\n",
       "LeadSource_bing                                      1.5423      1.876      0.822      0.411      -2.134       5.219\n",
       "DoNotEmail_Yes                                      -0.6706      0.284     -2.360      0.018      -1.227      -0.114\n",
       "LastActivity_Converted to Lead                      -0.5153      0.397     -1.297      0.195      -1.294       0.263\n",
       "LastActivity_Email Bounced                          -0.4135      0.526     -0.786      0.432      -1.444       0.617\n",
       "LastActivity_Olark Chat Conversation                -0.6579      0.307     -2.146      0.032      -1.259      -0.057\n",
       "LastActivity_Page Visited on Website                -0.7174      0.250     -2.874      0.004      -1.207      -0.228\n",
       "LastActivity_SMS Sent                                1.2224      0.261      4.684      0.000       0.711       1.734\n",
       "LastActivity_View in browser link Clicked            1.4814      1.286      1.152      0.250      -1.040       4.003\n",
       "Specialization1_E-COMMERCE                           0.3735      0.480      0.778      0.437      -0.567       1.314\n",
       "Specialization1_International Business              -0.6346      0.435     -1.459      0.145      -1.487       0.218\n",
       "Specialization1_Rural and Agribusiness               0.3288      0.738      0.445      0.656      -1.118       1.775\n",
       "Specialization1_Services Excellence                  0.7374      0.663      1.111      0.266      -0.563       2.038\n",
       "Specialization1_Travel and Tourism                  -0.7880      0.457     -1.726      0.084      -1.683       0.107\n",
       "Whatisyourcurrentoccupation_Housewife               19.6047   1.46e+04      0.001      0.999   -2.86e+04    2.87e+04\n",
       "Whatisyourcurrentoccupation_Working Professional     0.8017      0.371      2.164      0.031       0.075       1.528\n",
       "Tags1_Closed by Horizzon                             6.5952      1.053      6.262      0.000       4.531       8.660\n",
       "Tags1_Interested in other courses                   -2.5264      0.429     -5.889      0.000      -3.367      -1.686\n",
       "Tags1_Lost to EINS                                   5.5242      0.768      7.190      0.000       4.018       7.030\n",
       "Tags1_Not Specified                                 -0.5939      0.240     -2.472      0.013      -1.065      -0.123\n",
       "Tags1_Other_Tags                                    -2.8985      0.302     -9.608      0.000      -3.490      -2.307\n",
       "Tags1_Ringing                                       -4.0224      0.318    -12.658      0.000      -4.645      -3.400\n",
       "Tags1_Will revert after reading the email            3.8352      0.295     12.993      0.000       3.257       4.414\n",
       "LastNotableActivity_Email Link Clicked              -1.2802      0.459     -2.787      0.005      -2.181      -0.380\n",
       "LastNotableActivity_Modified                        -1.1669      0.197     -5.930      0.000      -1.553      -0.781\n",
       "LastNotableActivity_Olark Chat Conversation         -1.0341      0.522     -1.979      0.048      -2.058      -0.010\n",
       "LastNotableActivity_Others                           2.2046      1.239      1.779      0.075      -0.224       4.634\n",
       "LastNotableActivity_SMS Sent                         0.9065      0.287      3.159      0.002       0.344       1.469\n",
       "====================================================================================================================\n",
       "\"\"\""
      ]
     },
     "execution_count": 402,
     "metadata": {},
     "output_type": "execute_result"
    }
   ],
   "source": [
    "X_train_sm=sm.add_constant(X_train[col])\n",
    "logm2=sm.GLM(Y_train,X_train_sm,family=sm.families.Binomial())\n",
    "res=logm2.fit()\n",
    "res.summary()"
   ]
  },
  {
   "cell_type": "code",
   "execution_count": 403,
   "id": "c7bec0f0",
   "metadata": {},
   "outputs": [],
   "source": [
    "Y_train_pred1=res.predict(X_train_sm)"
   ]
  },
  {
   "cell_type": "code",
   "execution_count": 404,
   "id": "4a22cbc7",
   "metadata": {},
   "outputs": [
    {
     "data": {
      "text/html": [
       "<div>\n",
       "<style scoped>\n",
       "    .dataframe tbody tr th:only-of-type {\n",
       "        vertical-align: middle;\n",
       "    }\n",
       "\n",
       "    .dataframe tbody tr th {\n",
       "        vertical-align: top;\n",
       "    }\n",
       "\n",
       "    .dataframe thead th {\n",
       "        text-align: right;\n",
       "    }\n",
       "</style>\n",
       "<table border=\"1\" class=\"dataframe\">\n",
       "  <thead>\n",
       "    <tr style=\"text-align: right;\">\n",
       "      <th></th>\n",
       "      <th>Converted</th>\n",
       "      <th>Converted_Prob</th>\n",
       "      <th>Prospect ID</th>\n",
       "    </tr>\n",
       "  </thead>\n",
       "  <tbody>\n",
       "    <tr>\n",
       "      <th>1871</th>\n",
       "      <td>0</td>\n",
       "      <td>0.008623</td>\n",
       "      <td>1871</td>\n",
       "    </tr>\n",
       "    <tr>\n",
       "      <th>6795</th>\n",
       "      <td>0</td>\n",
       "      <td>0.133877</td>\n",
       "      <td>6795</td>\n",
       "    </tr>\n",
       "    <tr>\n",
       "      <th>3516</th>\n",
       "      <td>0</td>\n",
       "      <td>0.011938</td>\n",
       "      <td>3516</td>\n",
       "    </tr>\n",
       "    <tr>\n",
       "      <th>8105</th>\n",
       "      <td>0</td>\n",
       "      <td>0.269107</td>\n",
       "      <td>8105</td>\n",
       "    </tr>\n",
       "    <tr>\n",
       "      <th>3934</th>\n",
       "      <td>0</td>\n",
       "      <td>0.077053</td>\n",
       "      <td>3934</td>\n",
       "    </tr>\n",
       "  </tbody>\n",
       "</table>\n",
       "</div>"
      ],
      "text/plain": [
       "      Converted  Converted_Prob  Prospect ID\n",
       "1871          0        0.008623         1871\n",
       "6795          0        0.133877         6795\n",
       "3516          0        0.011938         3516\n",
       "8105          0        0.269107         8105\n",
       "3934          0        0.077053         3934"
      ]
     },
     "execution_count": 404,
     "metadata": {},
     "output_type": "execute_result"
    }
   ],
   "source": [
    "Y_train_pred_final1=pd.DataFrame({'Converted':Y_train.values,'Converted_Prob':Y_train_pred1})\n",
    "Y_train_pred_final1['Prospect ID']=Y_train.index\n",
    "Y_train_pred_final1.head()"
   ]
  },
  {
   "cell_type": "code",
   "execution_count": 405,
   "id": "a4d121f8",
   "metadata": {},
   "outputs": [
    {
     "data": {
      "text/html": [
       "<div>\n",
       "<style scoped>\n",
       "    .dataframe tbody tr th:only-of-type {\n",
       "        vertical-align: middle;\n",
       "    }\n",
       "\n",
       "    .dataframe tbody tr th {\n",
       "        vertical-align: top;\n",
       "    }\n",
       "\n",
       "    .dataframe thead th {\n",
       "        text-align: right;\n",
       "    }\n",
       "</style>\n",
       "<table border=\"1\" class=\"dataframe\">\n",
       "  <thead>\n",
       "    <tr style=\"text-align: right;\">\n",
       "      <th></th>\n",
       "      <th>Converted</th>\n",
       "      <th>Converted_Prob</th>\n",
       "      <th>Prospect ID</th>\n",
       "      <th>predicted</th>\n",
       "    </tr>\n",
       "  </thead>\n",
       "  <tbody>\n",
       "    <tr>\n",
       "      <th>1871</th>\n",
       "      <td>0</td>\n",
       "      <td>0.008623</td>\n",
       "      <td>1871</td>\n",
       "      <td>0</td>\n",
       "    </tr>\n",
       "    <tr>\n",
       "      <th>6795</th>\n",
       "      <td>0</td>\n",
       "      <td>0.133877</td>\n",
       "      <td>6795</td>\n",
       "      <td>0</td>\n",
       "    </tr>\n",
       "    <tr>\n",
       "      <th>3516</th>\n",
       "      <td>0</td>\n",
       "      <td>0.011938</td>\n",
       "      <td>3516</td>\n",
       "      <td>0</td>\n",
       "    </tr>\n",
       "    <tr>\n",
       "      <th>8105</th>\n",
       "      <td>0</td>\n",
       "      <td>0.269107</td>\n",
       "      <td>8105</td>\n",
       "      <td>0</td>\n",
       "    </tr>\n",
       "    <tr>\n",
       "      <th>3934</th>\n",
       "      <td>0</td>\n",
       "      <td>0.077053</td>\n",
       "      <td>3934</td>\n",
       "      <td>0</td>\n",
       "    </tr>\n",
       "  </tbody>\n",
       "</table>\n",
       "</div>"
      ],
      "text/plain": [
       "      Converted  Converted_Prob  Prospect ID  predicted\n",
       "1871          0        0.008623         1871          0\n",
       "6795          0        0.133877         6795          0\n",
       "3516          0        0.011938         3516          0\n",
       "8105          0        0.269107         8105          0\n",
       "3934          0        0.077053         3934          0"
      ]
     },
     "execution_count": 405,
     "metadata": {},
     "output_type": "execute_result"
    }
   ],
   "source": [
    "Y_train_pred_final1['predicted']=Y_train_pred_final1.Converted_Prob.map(lambda x:1 if x>0.5 else 0)\n",
    "Y_train_pred_final1.head()"
   ]
  },
  {
   "cell_type": "code",
   "execution_count": 406,
   "id": "d7cad1bf",
   "metadata": {},
   "outputs": [
    {
     "name": "stdout",
     "output_type": "stream",
     "text": [
      "[[3836  166]\n",
      " [ 285 2181]]\n"
     ]
    }
   ],
   "source": [
    "confusion1=metrics.confusion_matrix(Y_train_pred_final1.Converted,Y_train_pred_final1.predicted)\n",
    "print(confusion1)"
   ]
  },
  {
   "cell_type": "code",
   "execution_count": 407,
   "id": "9b99e761",
   "metadata": {},
   "outputs": [
    {
     "name": "stdout",
     "output_type": "stream",
     "text": [
      "0.9302721088435374\n"
     ]
    }
   ],
   "source": [
    "print(metrics.accuracy_score(Y_train_pred_final1.Converted,Y_train_pred_final1.predicted))"
   ]
  },
  {
   "cell_type": "code",
   "execution_count": 408,
   "id": "fd41e803",
   "metadata": {},
   "outputs": [
    {
     "data": {
      "text/html": [
       "<div>\n",
       "<style scoped>\n",
       "    .dataframe tbody tr th:only-of-type {\n",
       "        vertical-align: middle;\n",
       "    }\n",
       "\n",
       "    .dataframe tbody tr th {\n",
       "        vertical-align: top;\n",
       "    }\n",
       "\n",
       "    .dataframe thead th {\n",
       "        text-align: right;\n",
       "    }\n",
       "</style>\n",
       "<table border=\"1\" class=\"dataframe\">\n",
       "  <thead>\n",
       "    <tr style=\"text-align: right;\">\n",
       "      <th></th>\n",
       "      <th>Features</th>\n",
       "      <th>VIF</th>\n",
       "    </tr>\n",
       "  </thead>\n",
       "  <tbody>\n",
       "    <tr>\n",
       "      <th>3</th>\n",
       "      <td>LeadOrigin_Lead Add Form</td>\n",
       "      <td>16.31</td>\n",
       "    </tr>\n",
       "    <tr>\n",
       "      <th>8</th>\n",
       "      <td>LeadSource_Reference</td>\n",
       "      <td>13.09</td>\n",
       "    </tr>\n",
       "    <tr>\n",
       "      <th>16</th>\n",
       "      <td>LastActivity_SMS Sent</td>\n",
       "      <td>7.30</td>\n",
       "    </tr>\n",
       "    <tr>\n",
       "      <th>36</th>\n",
       "      <td>LastNotableActivity_SMS Sent</td>\n",
       "      <td>7.24</td>\n",
       "    </tr>\n",
       "    <tr>\n",
       "      <th>9</th>\n",
       "      <td>LeadSource_Welingak Website</td>\n",
       "      <td>3.81</td>\n",
       "    </tr>\n",
       "    <tr>\n",
       "      <th>33</th>\n",
       "      <td>LastNotableActivity_Modified</td>\n",
       "      <td>3.80</td>\n",
       "    </tr>\n",
       "    <tr>\n",
       "      <th>2</th>\n",
       "      <td>LeadOrigin_Landing Page Submission</td>\n",
       "      <td>3.67</td>\n",
       "    </tr>\n",
       "    <tr>\n",
       "      <th>28</th>\n",
       "      <td>Tags1_Not Specified</td>\n",
       "      <td>3.59</td>\n",
       "    </tr>\n",
       "    <tr>\n",
       "      <th>31</th>\n",
       "      <td>Tags1_Will revert after reading the email</td>\n",
       "      <td>3.43</td>\n",
       "    </tr>\n",
       "    <tr>\n",
       "      <th>1</th>\n",
       "      <td>Total Time Spent on Website</td>\n",
       "      <td>2.45</td>\n",
       "    </tr>\n",
       "    <tr>\n",
       "      <th>7</th>\n",
       "      <td>LeadSource_Olark Chat</td>\n",
       "      <td>2.40</td>\n",
       "    </tr>\n",
       "    <tr>\n",
       "      <th>14</th>\n",
       "      <td>LastActivity_Olark Chat Conversation</td>\n",
       "      <td>2.33</td>\n",
       "    </tr>\n",
       "    <tr>\n",
       "      <th>29</th>\n",
       "      <td>Tags1_Other_Tags</td>\n",
       "      <td>2.11</td>\n",
       "    </tr>\n",
       "    <tr>\n",
       "      <th>13</th>\n",
       "      <td>LastActivity_Email Bounced</td>\n",
       "      <td>1.97</td>\n",
       "    </tr>\n",
       "    <tr>\n",
       "      <th>11</th>\n",
       "      <td>DoNotEmail_Yes</td>\n",
       "      <td>1.92</td>\n",
       "    </tr>\n",
       "    <tr>\n",
       "      <th>30</th>\n",
       "      <td>Tags1_Ringing</td>\n",
       "      <td>1.88</td>\n",
       "    </tr>\n",
       "    <tr>\n",
       "      <th>25</th>\n",
       "      <td>Tags1_Closed by Horizzon</td>\n",
       "      <td>1.74</td>\n",
       "    </tr>\n",
       "    <tr>\n",
       "      <th>0</th>\n",
       "      <td>TotalVisits</td>\n",
       "      <td>1.74</td>\n",
       "    </tr>\n",
       "    <tr>\n",
       "      <th>26</th>\n",
       "      <td>Tags1_Interested in other courses</td>\n",
       "      <td>1.43</td>\n",
       "    </tr>\n",
       "    <tr>\n",
       "      <th>34</th>\n",
       "      <td>LastNotableActivity_Olark Chat Conversation</td>\n",
       "      <td>1.42</td>\n",
       "    </tr>\n",
       "    <tr>\n",
       "      <th>12</th>\n",
       "      <td>LastActivity_Converted to Lead</td>\n",
       "      <td>1.42</td>\n",
       "    </tr>\n",
       "    <tr>\n",
       "      <th>24</th>\n",
       "      <td>Whatisyourcurrentoccupation_Working Professional</td>\n",
       "      <td>1.36</td>\n",
       "    </tr>\n",
       "    <tr>\n",
       "      <th>15</th>\n",
       "      <td>LastActivity_Page Visited on Website</td>\n",
       "      <td>1.31</td>\n",
       "    </tr>\n",
       "    <tr>\n",
       "      <th>27</th>\n",
       "      <td>Tags1_Lost to EINS</td>\n",
       "      <td>1.21</td>\n",
       "    </tr>\n",
       "    <tr>\n",
       "      <th>32</th>\n",
       "      <td>LastNotableActivity_Email Link Clicked</td>\n",
       "      <td>1.06</td>\n",
       "    </tr>\n",
       "    <tr>\n",
       "      <th>22</th>\n",
       "      <td>Specialization1_Travel and Tourism</td>\n",
       "      <td>1.05</td>\n",
       "    </tr>\n",
       "    <tr>\n",
       "      <th>18</th>\n",
       "      <td>Specialization1_E-COMMERCE</td>\n",
       "      <td>1.04</td>\n",
       "    </tr>\n",
       "    <tr>\n",
       "      <th>19</th>\n",
       "      <td>Specialization1_International Business</td>\n",
       "      <td>1.03</td>\n",
       "    </tr>\n",
       "    <tr>\n",
       "      <th>5</th>\n",
       "      <td>LeadSource_Facebook</td>\n",
       "      <td>1.03</td>\n",
       "    </tr>\n",
       "    <tr>\n",
       "      <th>4</th>\n",
       "      <td>LeadOrigin_Quick Add Form</td>\n",
       "      <td>1.02</td>\n",
       "    </tr>\n",
       "    <tr>\n",
       "      <th>20</th>\n",
       "      <td>Specialization1_Rural and Agribusiness</td>\n",
       "      <td>1.02</td>\n",
       "    </tr>\n",
       "    <tr>\n",
       "      <th>23</th>\n",
       "      <td>Whatisyourcurrentoccupation_Housewife</td>\n",
       "      <td>1.01</td>\n",
       "    </tr>\n",
       "    <tr>\n",
       "      <th>21</th>\n",
       "      <td>Specialization1_Services Excellence</td>\n",
       "      <td>1.01</td>\n",
       "    </tr>\n",
       "    <tr>\n",
       "      <th>35</th>\n",
       "      <td>LastNotableActivity_Others</td>\n",
       "      <td>1.01</td>\n",
       "    </tr>\n",
       "    <tr>\n",
       "      <th>17</th>\n",
       "      <td>LastActivity_View in browser link Clicked</td>\n",
       "      <td>1.01</td>\n",
       "    </tr>\n",
       "    <tr>\n",
       "      <th>10</th>\n",
       "      <td>LeadSource_bing</td>\n",
       "      <td>1.00</td>\n",
       "    </tr>\n",
       "    <tr>\n",
       "      <th>6</th>\n",
       "      <td>LeadSource_NC_EDM</td>\n",
       "      <td>1.00</td>\n",
       "    </tr>\n",
       "  </tbody>\n",
       "</table>\n",
       "</div>"
      ],
      "text/plain": [
       "                                            Features    VIF\n",
       "3                           LeadOrigin_Lead Add Form  16.31\n",
       "8                               LeadSource_Reference  13.09\n",
       "16                             LastActivity_SMS Sent   7.30\n",
       "36                      LastNotableActivity_SMS Sent   7.24\n",
       "9                        LeadSource_Welingak Website   3.81\n",
       "33                      LastNotableActivity_Modified   3.80\n",
       "2                 LeadOrigin_Landing Page Submission   3.67\n",
       "28                               Tags1_Not Specified   3.59\n",
       "31         Tags1_Will revert after reading the email   3.43\n",
       "1                        Total Time Spent on Website   2.45\n",
       "7                              LeadSource_Olark Chat   2.40\n",
       "14              LastActivity_Olark Chat Conversation   2.33\n",
       "29                                  Tags1_Other_Tags   2.11\n",
       "13                        LastActivity_Email Bounced   1.97\n",
       "11                                    DoNotEmail_Yes   1.92\n",
       "30                                     Tags1_Ringing   1.88\n",
       "25                          Tags1_Closed by Horizzon   1.74\n",
       "0                                        TotalVisits   1.74\n",
       "26                 Tags1_Interested in other courses   1.43\n",
       "34       LastNotableActivity_Olark Chat Conversation   1.42\n",
       "12                    LastActivity_Converted to Lead   1.42\n",
       "24  Whatisyourcurrentoccupation_Working Professional   1.36\n",
       "15              LastActivity_Page Visited on Website   1.31\n",
       "27                                Tags1_Lost to EINS   1.21\n",
       "32            LastNotableActivity_Email Link Clicked   1.06\n",
       "22                Specialization1_Travel and Tourism   1.05\n",
       "18                        Specialization1_E-COMMERCE   1.04\n",
       "19            Specialization1_International Business   1.03\n",
       "5                                LeadSource_Facebook   1.03\n",
       "4                          LeadOrigin_Quick Add Form   1.02\n",
       "20            Specialization1_Rural and Agribusiness   1.02\n",
       "23             Whatisyourcurrentoccupation_Housewife   1.01\n",
       "21               Specialization1_Services Excellence   1.01\n",
       "35                        LastNotableActivity_Others   1.01\n",
       "17         LastActivity_View in browser link Clicked   1.01\n",
       "10                                   LeadSource_bing   1.00\n",
       "6                                  LeadSource_NC_EDM   1.00"
      ]
     },
     "execution_count": 408,
     "metadata": {},
     "output_type": "execute_result"
    }
   ],
   "source": [
    "# Checking for multicollinearity\n",
    "vif=pd.DataFrame()\n",
    "vif['Features']=X_train[col].columns\n",
    "vif['VIF']=[variance_inflation_factor(X_train[col].values,i)for i in range(X_train[col].shape[1])]\n",
    "vif['VIF']=round(vif['VIF'],2)\n",
    "vif=vif.sort_values(by='VIF',ascending=False)\n",
    "vif"
   ]
  },
  {
   "cell_type": "code",
   "execution_count": 409,
   "id": "ef3ccf2d",
   "metadata": {},
   "outputs": [],
   "source": [
    "# Dropping variables with high p value low VIF\n",
    "X_train_rfe1=X_train[col].drop(columns=['LeadSource_Facebook','LeadSource_NC_EDM','LeadSource_Reference','LeadSource_bing','LastActivity_Converted to Lead','LastActivity_Email Bounced','LastActivity_View in browser link Clicked','Specialization1_E-COMMERCE','Specialization1_International Business','Specialization1_Rural and Agribusiness','Specialization1_Services Excellence','Specialization1_Travel and Tourism','Whatisyourcurrentoccupation_Housewife','LastNotableActivity_Others'],axis=1)"
   ]
  },
  {
   "cell_type": "code",
   "execution_count": 410,
   "id": "20d797b7",
   "metadata": {},
   "outputs": [],
   "source": [
    "X_train_rfe2=sm.add_constant(X_train_rfe1)"
   ]
  },
  {
   "cell_type": "code",
   "execution_count": 411,
   "id": "3786c2a6",
   "metadata": {},
   "outputs": [
    {
     "data": {
      "text/html": [
       "<table class=\"simpletable\">\n",
       "<caption>Generalized Linear Model Regression Results</caption>\n",
       "<tr>\n",
       "  <th>Dep. Variable:</th>       <td>Converted</td>    <th>  No. Observations:  </th>  <td>  6468</td> \n",
       "</tr>\n",
       "<tr>\n",
       "  <th>Model:</th>                  <td>GLM</td>       <th>  Df Residuals:      </th>  <td>  6444</td> \n",
       "</tr>\n",
       "<tr>\n",
       "  <th>Model Family:</th>        <td>Binomial</td>     <th>  Df Model:          </th>  <td>    23</td> \n",
       "</tr>\n",
       "<tr>\n",
       "  <th>Link Function:</th>         <td>Logit</td>      <th>  Scale:             </th> <td>  1.0000</td>\n",
       "</tr>\n",
       "<tr>\n",
       "  <th>Method:</th>                <td>IRLS</td>       <th>  Log-Likelihood:    </th> <td> -1253.6</td>\n",
       "</tr>\n",
       "<tr>\n",
       "  <th>Date:</th>            <td>Tue, 21 Mar 2023</td> <th>  Deviance:          </th> <td>  2507.2</td>\n",
       "</tr>\n",
       "<tr>\n",
       "  <th>Time:</th>                <td>16:56:53</td>     <th>  Pearson chi2:      </th> <td>1.01e+04</td>\n",
       "</tr>\n",
       "<tr>\n",
       "  <th>No. Iterations:</th>         <td>19</td>        <th>  Pseudo R-squ. (CS):</th>  <td>0.6100</td> \n",
       "</tr>\n",
       "<tr>\n",
       "  <th>Covariance Type:</th>     <td>nonrobust</td>    <th>                     </th>     <td> </td>   \n",
       "</tr>\n",
       "</table>\n",
       "<table class=\"simpletable\">\n",
       "<tr>\n",
       "                          <td></td>                            <th>coef</th>     <th>std err</th>      <th>z</th>      <th>P>|z|</th>  <th>[0.025</th>    <th>0.975]</th>  \n",
       "</tr>\n",
       "<tr>\n",
       "  <th>const</th>                                            <td>   -1.5028</td> <td>    0.270</td> <td>   -5.558</td> <td> 0.000</td> <td>   -2.033</td> <td>   -0.973</td>\n",
       "</tr>\n",
       "<tr>\n",
       "  <th>TotalVisits</th>                                      <td>    6.6702</td> <td>    1.834</td> <td>    3.637</td> <td> 0.000</td> <td>    3.076</td> <td>   10.265</td>\n",
       "</tr>\n",
       "<tr>\n",
       "  <th>Total Time Spent on Website</th>                      <td>    4.2761</td> <td>    0.247</td> <td>   17.296</td> <td> 0.000</td> <td>    3.792</td> <td>    4.761</td>\n",
       "</tr>\n",
       "<tr>\n",
       "  <th>LeadOrigin_Landing Page Submission</th>               <td>   -0.7993</td> <td>    0.135</td> <td>   -5.928</td> <td> 0.000</td> <td>   -1.064</td> <td>   -0.535</td>\n",
       "</tr>\n",
       "<tr>\n",
       "  <th>LeadOrigin_Lead Add Form</th>                         <td>    1.1079</td> <td>    0.375</td> <td>    2.958</td> <td> 0.003</td> <td>    0.374</td> <td>    1.842</td>\n",
       "</tr>\n",
       "<tr>\n",
       "  <th>LeadOrigin_Quick Add Form</th>                        <td>   20.4270</td> <td> 1.77e+04</td> <td>    0.001</td> <td> 0.999</td> <td>-3.47e+04</td> <td> 3.48e+04</td>\n",
       "</tr>\n",
       "<tr>\n",
       "  <th>LeadSource_Olark Chat</th>                            <td>    0.7806</td> <td>    0.167</td> <td>    4.675</td> <td> 0.000</td> <td>    0.453</td> <td>    1.108</td>\n",
       "</tr>\n",
       "<tr>\n",
       "  <th>LeadSource_Welingak Website</th>                      <td>    3.9972</td> <td>    0.815</td> <td>    4.905</td> <td> 0.000</td> <td>    2.400</td> <td>    5.595</td>\n",
       "</tr>\n",
       "<tr>\n",
       "  <th>DoNotEmail_Yes</th>                                   <td>   -0.7534</td> <td>    0.241</td> <td>   -3.129</td> <td> 0.002</td> <td>   -1.225</td> <td>   -0.281</td>\n",
       "</tr>\n",
       "<tr>\n",
       "  <th>LastActivity_Olark Chat Conversation</th>             <td>   -0.5463</td> <td>    0.293</td> <td>   -1.867</td> <td> 0.062</td> <td>   -1.120</td> <td>    0.027</td>\n",
       "</tr>\n",
       "<tr>\n",
       "  <th>LastActivity_Page Visited on Website</th>             <td>   -0.6806</td> <td>    0.245</td> <td>   -2.780</td> <td> 0.005</td> <td>   -1.160</td> <td>   -0.201</td>\n",
       "</tr>\n",
       "<tr>\n",
       "  <th>LastActivity_SMS Sent</th>                            <td>    1.3257</td> <td>    0.241</td> <td>    5.500</td> <td> 0.000</td> <td>    0.853</td> <td>    1.798</td>\n",
       "</tr>\n",
       "<tr>\n",
       "  <th>Whatisyourcurrentoccupation_Working Professional</th> <td>    0.8158</td> <td>    0.369</td> <td>    2.209</td> <td> 0.027</td> <td>    0.092</td> <td>    1.540</td>\n",
       "</tr>\n",
       "<tr>\n",
       "  <th>Tags1_Closed by Horizzon</th>                         <td>    6.5392</td> <td>    1.047</td> <td>    6.248</td> <td> 0.000</td> <td>    4.488</td> <td>    8.590</td>\n",
       "</tr>\n",
       "<tr>\n",
       "  <th>Tags1_Interested in other courses</th>                <td>   -2.5155</td> <td>    0.427</td> <td>   -5.887</td> <td> 0.000</td> <td>   -3.353</td> <td>   -1.678</td>\n",
       "</tr>\n",
       "<tr>\n",
       "  <th>Tags1_Lost to EINS</th>                               <td>    5.5113</td> <td>    0.766</td> <td>    7.196</td> <td> 0.000</td> <td>    4.010</td> <td>    7.012</td>\n",
       "</tr>\n",
       "<tr>\n",
       "  <th>Tags1_Not Specified</th>                              <td>   -0.5829</td> <td>    0.238</td> <td>   -2.445</td> <td> 0.014</td> <td>   -1.050</td> <td>   -0.116</td>\n",
       "</tr>\n",
       "<tr>\n",
       "  <th>Tags1_Other_Tags</th>                                 <td>   -2.8888</td> <td>    0.300</td> <td>   -9.637</td> <td> 0.000</td> <td>   -3.476</td> <td>   -2.301</td>\n",
       "</tr>\n",
       "<tr>\n",
       "  <th>Tags1_Ringing</th>                                    <td>   -3.9998</td> <td>    0.316</td> <td>  -12.650</td> <td> 0.000</td> <td>   -4.620</td> <td>   -3.380</td>\n",
       "</tr>\n",
       "<tr>\n",
       "  <th>Tags1_Will revert after reading the email</th>        <td>    3.8114</td> <td>    0.292</td> <td>   13.070</td> <td> 0.000</td> <td>    3.240</td> <td>    4.383</td>\n",
       "</tr>\n",
       "<tr>\n",
       "  <th>LastNotableActivity_Email Link Clicked</th>           <td>   -1.2572</td> <td>    0.449</td> <td>   -2.800</td> <td> 0.005</td> <td>   -2.137</td> <td>   -0.377</td>\n",
       "</tr>\n",
       "<tr>\n",
       "  <th>LastNotableActivity_Modified</th>                     <td>   -1.2742</td> <td>    0.176</td> <td>   -7.248</td> <td> 0.000</td> <td>   -1.619</td> <td>   -0.930</td>\n",
       "</tr>\n",
       "<tr>\n",
       "  <th>LastNotableActivity_Olark Chat Conversation</th>      <td>   -1.1276</td> <td>    0.513</td> <td>   -2.196</td> <td> 0.028</td> <td>   -2.134</td> <td>   -0.121</td>\n",
       "</tr>\n",
       "<tr>\n",
       "  <th>LastNotableActivity_SMS Sent</th>                     <td>    0.7863</td> <td>    0.272</td> <td>    2.895</td> <td> 0.004</td> <td>    0.254</td> <td>    1.319</td>\n",
       "</tr>\n",
       "</table>"
      ],
      "text/plain": [
       "<class 'statsmodels.iolib.summary.Summary'>\n",
       "\"\"\"\n",
       "                 Generalized Linear Model Regression Results                  \n",
       "==============================================================================\n",
       "Dep. Variable:              Converted   No. Observations:                 6468\n",
       "Model:                            GLM   Df Residuals:                     6444\n",
       "Model Family:                Binomial   Df Model:                           23\n",
       "Link Function:                  Logit   Scale:                          1.0000\n",
       "Method:                          IRLS   Log-Likelihood:                -1253.6\n",
       "Date:                Tue, 21 Mar 2023   Deviance:                       2507.2\n",
       "Time:                        16:56:53   Pearson chi2:                 1.01e+04\n",
       "No. Iterations:                    19   Pseudo R-squ. (CS):             0.6100\n",
       "Covariance Type:            nonrobust                                         \n",
       "====================================================================================================================\n",
       "                                                       coef    std err          z      P>|z|      [0.025      0.975]\n",
       "--------------------------------------------------------------------------------------------------------------------\n",
       "const                                               -1.5028      0.270     -5.558      0.000      -2.033      -0.973\n",
       "TotalVisits                                          6.6702      1.834      3.637      0.000       3.076      10.265\n",
       "Total Time Spent on Website                          4.2761      0.247     17.296      0.000       3.792       4.761\n",
       "LeadOrigin_Landing Page Submission                  -0.7993      0.135     -5.928      0.000      -1.064      -0.535\n",
       "LeadOrigin_Lead Add Form                             1.1079      0.375      2.958      0.003       0.374       1.842\n",
       "LeadOrigin_Quick Add Form                           20.4270   1.77e+04      0.001      0.999   -3.47e+04    3.48e+04\n",
       "LeadSource_Olark Chat                                0.7806      0.167      4.675      0.000       0.453       1.108\n",
       "LeadSource_Welingak Website                          3.9972      0.815      4.905      0.000       2.400       5.595\n",
       "DoNotEmail_Yes                                      -0.7534      0.241     -3.129      0.002      -1.225      -0.281\n",
       "LastActivity_Olark Chat Conversation                -0.5463      0.293     -1.867      0.062      -1.120       0.027\n",
       "LastActivity_Page Visited on Website                -0.6806      0.245     -2.780      0.005      -1.160      -0.201\n",
       "LastActivity_SMS Sent                                1.3257      0.241      5.500      0.000       0.853       1.798\n",
       "Whatisyourcurrentoccupation_Working Professional     0.8158      0.369      2.209      0.027       0.092       1.540\n",
       "Tags1_Closed by Horizzon                             6.5392      1.047      6.248      0.000       4.488       8.590\n",
       "Tags1_Interested in other courses                   -2.5155      0.427     -5.887      0.000      -3.353      -1.678\n",
       "Tags1_Lost to EINS                                   5.5113      0.766      7.196      0.000       4.010       7.012\n",
       "Tags1_Not Specified                                 -0.5829      0.238     -2.445      0.014      -1.050      -0.116\n",
       "Tags1_Other_Tags                                    -2.8888      0.300     -9.637      0.000      -3.476      -2.301\n",
       "Tags1_Ringing                                       -3.9998      0.316    -12.650      0.000      -4.620      -3.380\n",
       "Tags1_Will revert after reading the email            3.8114      0.292     13.070      0.000       3.240       4.383\n",
       "LastNotableActivity_Email Link Clicked              -1.2572      0.449     -2.800      0.005      -2.137      -0.377\n",
       "LastNotableActivity_Modified                        -1.2742      0.176     -7.248      0.000      -1.619      -0.930\n",
       "LastNotableActivity_Olark Chat Conversation         -1.1276      0.513     -2.196      0.028      -2.134      -0.121\n",
       "LastNotableActivity_SMS Sent                         0.7863      0.272      2.895      0.004       0.254       1.319\n",
       "====================================================================================================================\n",
       "\"\"\""
      ]
     },
     "execution_count": 411,
     "metadata": {},
     "output_type": "execute_result"
    }
   ],
   "source": [
    "logm3=sm.GLM(Y_train,X_train_rfe2,family=sm.families.Binomial())\n",
    "res=logm3.fit()\n",
    "res.summary()"
   ]
  },
  {
   "cell_type": "code",
   "execution_count": 412,
   "id": "c9b38e64",
   "metadata": {},
   "outputs": [],
   "source": [
    "Y_train_pred2=res.predict(X_train_rfe2)"
   ]
  },
  {
   "cell_type": "code",
   "execution_count": 413,
   "id": "dde84707",
   "metadata": {},
   "outputs": [
    {
     "data": {
      "text/html": [
       "<div>\n",
       "<style scoped>\n",
       "    .dataframe tbody tr th:only-of-type {\n",
       "        vertical-align: middle;\n",
       "    }\n",
       "\n",
       "    .dataframe tbody tr th {\n",
       "        vertical-align: top;\n",
       "    }\n",
       "\n",
       "    .dataframe thead th {\n",
       "        text-align: right;\n",
       "    }\n",
       "</style>\n",
       "<table border=\"1\" class=\"dataframe\">\n",
       "  <thead>\n",
       "    <tr style=\"text-align: right;\">\n",
       "      <th></th>\n",
       "      <th>Converted</th>\n",
       "      <th>Converted_Prob</th>\n",
       "      <th>Prospect ID</th>\n",
       "    </tr>\n",
       "  </thead>\n",
       "  <tbody>\n",
       "    <tr>\n",
       "      <th>1871</th>\n",
       "      <td>0</td>\n",
       "      <td>0.008819</td>\n",
       "      <td>1871</td>\n",
       "    </tr>\n",
       "    <tr>\n",
       "      <th>6795</th>\n",
       "      <td>0</td>\n",
       "      <td>0.134459</td>\n",
       "      <td>6795</td>\n",
       "    </tr>\n",
       "    <tr>\n",
       "      <th>3516</th>\n",
       "      <td>0</td>\n",
       "      <td>0.012253</td>\n",
       "      <td>3516</td>\n",
       "    </tr>\n",
       "    <tr>\n",
       "      <th>8105</th>\n",
       "      <td>0</td>\n",
       "      <td>0.149057</td>\n",
       "      <td>8105</td>\n",
       "    </tr>\n",
       "    <tr>\n",
       "      <th>3934</th>\n",
       "      <td>0</td>\n",
       "      <td>0.070483</td>\n",
       "      <td>3934</td>\n",
       "    </tr>\n",
       "  </tbody>\n",
       "</table>\n",
       "</div>"
      ],
      "text/plain": [
       "      Converted  Converted_Prob  Prospect ID\n",
       "1871          0        0.008819         1871\n",
       "6795          0        0.134459         6795\n",
       "3516          0        0.012253         3516\n",
       "8105          0        0.149057         8105\n",
       "3934          0        0.070483         3934"
      ]
     },
     "execution_count": 413,
     "metadata": {},
     "output_type": "execute_result"
    }
   ],
   "source": [
    "Y_train_pred_final2=pd.DataFrame({'Converted':Y_train.values,'Converted_Prob':Y_train_pred2})\n",
    "Y_train_pred_final2['Prospect ID']=Y_train.index\n",
    "Y_train_pred_final2.head()"
   ]
  },
  {
   "cell_type": "code",
   "execution_count": 414,
   "id": "09c8570e",
   "metadata": {},
   "outputs": [
    {
     "data": {
      "text/html": [
       "<div>\n",
       "<style scoped>\n",
       "    .dataframe tbody tr th:only-of-type {\n",
       "        vertical-align: middle;\n",
       "    }\n",
       "\n",
       "    .dataframe tbody tr th {\n",
       "        vertical-align: top;\n",
       "    }\n",
       "\n",
       "    .dataframe thead th {\n",
       "        text-align: right;\n",
       "    }\n",
       "</style>\n",
       "<table border=\"1\" class=\"dataframe\">\n",
       "  <thead>\n",
       "    <tr style=\"text-align: right;\">\n",
       "      <th></th>\n",
       "      <th>Converted</th>\n",
       "      <th>Converted_Prob</th>\n",
       "      <th>Prospect ID</th>\n",
       "      <th>predicted</th>\n",
       "    </tr>\n",
       "  </thead>\n",
       "  <tbody>\n",
       "    <tr>\n",
       "      <th>1871</th>\n",
       "      <td>0</td>\n",
       "      <td>0.008819</td>\n",
       "      <td>1871</td>\n",
       "      <td>0</td>\n",
       "    </tr>\n",
       "    <tr>\n",
       "      <th>6795</th>\n",
       "      <td>0</td>\n",
       "      <td>0.134459</td>\n",
       "      <td>6795</td>\n",
       "      <td>0</td>\n",
       "    </tr>\n",
       "    <tr>\n",
       "      <th>3516</th>\n",
       "      <td>0</td>\n",
       "      <td>0.012253</td>\n",
       "      <td>3516</td>\n",
       "      <td>0</td>\n",
       "    </tr>\n",
       "    <tr>\n",
       "      <th>8105</th>\n",
       "      <td>0</td>\n",
       "      <td>0.149057</td>\n",
       "      <td>8105</td>\n",
       "      <td>0</td>\n",
       "    </tr>\n",
       "    <tr>\n",
       "      <th>3934</th>\n",
       "      <td>0</td>\n",
       "      <td>0.070483</td>\n",
       "      <td>3934</td>\n",
       "      <td>0</td>\n",
       "    </tr>\n",
       "  </tbody>\n",
       "</table>\n",
       "</div>"
      ],
      "text/plain": [
       "      Converted  Converted_Prob  Prospect ID  predicted\n",
       "1871          0        0.008819         1871          0\n",
       "6795          0        0.134459         6795          0\n",
       "3516          0        0.012253         3516          0\n",
       "8105          0        0.149057         8105          0\n",
       "3934          0        0.070483         3934          0"
      ]
     },
     "execution_count": 414,
     "metadata": {},
     "output_type": "execute_result"
    }
   ],
   "source": [
    "Y_train_pred_final2['predicted']=Y_train_pred_final2.Converted_Prob.map(lambda x:1 if x>0.5 else 0)\n",
    "Y_train_pred_final2.head()"
   ]
  },
  {
   "cell_type": "code",
   "execution_count": 415,
   "id": "ceb9a275",
   "metadata": {},
   "outputs": [
    {
     "name": "stdout",
     "output_type": "stream",
     "text": [
      "[[3837  165]\n",
      " [ 287 2179]]\n"
     ]
    }
   ],
   "source": [
    "confusion2=metrics.confusion_matrix(Y_train_pred_final2.Converted,Y_train_pred_final2.predicted)\n",
    "print(confusion2)"
   ]
  },
  {
   "cell_type": "code",
   "execution_count": 416,
   "id": "0a78a722",
   "metadata": {},
   "outputs": [
    {
     "name": "stdout",
     "output_type": "stream",
     "text": [
      "0.930117501546073\n"
     ]
    }
   ],
   "source": [
    "print(metrics.accuracy_score(Y_train_pred_final2.Converted,Y_train_pred_final2.predicted))"
   ]
  },
  {
   "cell_type": "code",
   "execution_count": 417,
   "id": "dd7a122f",
   "metadata": {},
   "outputs": [
    {
     "data": {
      "text/html": [
       "<div>\n",
       "<style scoped>\n",
       "    .dataframe tbody tr th:only-of-type {\n",
       "        vertical-align: middle;\n",
       "    }\n",
       "\n",
       "    .dataframe tbody tr th {\n",
       "        vertical-align: top;\n",
       "    }\n",
       "\n",
       "    .dataframe thead th {\n",
       "        text-align: right;\n",
       "    }\n",
       "</style>\n",
       "<table border=\"1\" class=\"dataframe\">\n",
       "  <thead>\n",
       "    <tr style=\"text-align: right;\">\n",
       "      <th></th>\n",
       "      <th>Features</th>\n",
       "      <th>VIF</th>\n",
       "    </tr>\n",
       "  </thead>\n",
       "  <tbody>\n",
       "    <tr>\n",
       "      <th>22</th>\n",
       "      <td>LastNotableActivity_SMS Sent</td>\n",
       "      <td>6.68</td>\n",
       "    </tr>\n",
       "    <tr>\n",
       "      <th>10</th>\n",
       "      <td>LastActivity_SMS Sent</td>\n",
       "      <td>6.44</td>\n",
       "    </tr>\n",
       "    <tr>\n",
       "      <th>2</th>\n",
       "      <td>LeadOrigin_Landing Page Submission</td>\n",
       "      <td>3.55</td>\n",
       "    </tr>\n",
       "    <tr>\n",
       "      <th>15</th>\n",
       "      <td>Tags1_Not Specified</td>\n",
       "      <td>3.50</td>\n",
       "    </tr>\n",
       "    <tr>\n",
       "      <th>18</th>\n",
       "      <td>Tags1_Will revert after reading the email</td>\n",
       "      <td>3.36</td>\n",
       "    </tr>\n",
       "    <tr>\n",
       "      <th>20</th>\n",
       "      <td>LastNotableActivity_Modified</td>\n",
       "      <td>2.99</td>\n",
       "    </tr>\n",
       "    <tr>\n",
       "      <th>1</th>\n",
       "      <td>Total Time Spent on Website</td>\n",
       "      <td>2.43</td>\n",
       "    </tr>\n",
       "    <tr>\n",
       "      <th>5</th>\n",
       "      <td>LeadSource_Olark Chat</td>\n",
       "      <td>2.34</td>\n",
       "    </tr>\n",
       "    <tr>\n",
       "      <th>3</th>\n",
       "      <td>LeadOrigin_Lead Add Form</td>\n",
       "      <td>2.13</td>\n",
       "    </tr>\n",
       "    <tr>\n",
       "      <th>8</th>\n",
       "      <td>LastActivity_Olark Chat Conversation</td>\n",
       "      <td>2.07</td>\n",
       "    </tr>\n",
       "    <tr>\n",
       "      <th>16</th>\n",
       "      <td>Tags1_Other_Tags</td>\n",
       "      <td>2.06</td>\n",
       "    </tr>\n",
       "    <tr>\n",
       "      <th>17</th>\n",
       "      <td>Tags1_Ringing</td>\n",
       "      <td>1.83</td>\n",
       "    </tr>\n",
       "    <tr>\n",
       "      <th>0</th>\n",
       "      <td>TotalVisits</td>\n",
       "      <td>1.73</td>\n",
       "    </tr>\n",
       "    <tr>\n",
       "      <th>12</th>\n",
       "      <td>Tags1_Closed by Horizzon</td>\n",
       "      <td>1.71</td>\n",
       "    </tr>\n",
       "    <tr>\n",
       "      <th>13</th>\n",
       "      <td>Tags1_Interested in other courses</td>\n",
       "      <td>1.41</td>\n",
       "    </tr>\n",
       "    <tr>\n",
       "      <th>21</th>\n",
       "      <td>LastNotableActivity_Olark Chat Conversation</td>\n",
       "      <td>1.37</td>\n",
       "    </tr>\n",
       "    <tr>\n",
       "      <th>11</th>\n",
       "      <td>Whatisyourcurrentoccupation_Working Professional</td>\n",
       "      <td>1.35</td>\n",
       "    </tr>\n",
       "    <tr>\n",
       "      <th>6</th>\n",
       "      <td>LeadSource_Welingak Website</td>\n",
       "      <td>1.28</td>\n",
       "    </tr>\n",
       "    <tr>\n",
       "      <th>9</th>\n",
       "      <td>LastActivity_Page Visited on Website</td>\n",
       "      <td>1.22</td>\n",
       "    </tr>\n",
       "    <tr>\n",
       "      <th>14</th>\n",
       "      <td>Tags1_Lost to EINS</td>\n",
       "      <td>1.20</td>\n",
       "    </tr>\n",
       "    <tr>\n",
       "      <th>7</th>\n",
       "      <td>DoNotEmail_Yes</td>\n",
       "      <td>1.17</td>\n",
       "    </tr>\n",
       "    <tr>\n",
       "      <th>19</th>\n",
       "      <td>LastNotableActivity_Email Link Clicked</td>\n",
       "      <td>1.06</td>\n",
       "    </tr>\n",
       "    <tr>\n",
       "      <th>4</th>\n",
       "      <td>LeadOrigin_Quick Add Form</td>\n",
       "      <td>1.01</td>\n",
       "    </tr>\n",
       "  </tbody>\n",
       "</table>\n",
       "</div>"
      ],
      "text/plain": [
       "                                            Features   VIF\n",
       "22                      LastNotableActivity_SMS Sent  6.68\n",
       "10                             LastActivity_SMS Sent  6.44\n",
       "2                 LeadOrigin_Landing Page Submission  3.55\n",
       "15                               Tags1_Not Specified  3.50\n",
       "18         Tags1_Will revert after reading the email  3.36\n",
       "20                      LastNotableActivity_Modified  2.99\n",
       "1                        Total Time Spent on Website  2.43\n",
       "5                              LeadSource_Olark Chat  2.34\n",
       "3                           LeadOrigin_Lead Add Form  2.13\n",
       "8               LastActivity_Olark Chat Conversation  2.07\n",
       "16                                  Tags1_Other_Tags  2.06\n",
       "17                                     Tags1_Ringing  1.83\n",
       "0                                        TotalVisits  1.73\n",
       "12                          Tags1_Closed by Horizzon  1.71\n",
       "13                 Tags1_Interested in other courses  1.41\n",
       "21       LastNotableActivity_Olark Chat Conversation  1.37\n",
       "11  Whatisyourcurrentoccupation_Working Professional  1.35\n",
       "6                        LeadSource_Welingak Website  1.28\n",
       "9               LastActivity_Page Visited on Website  1.22\n",
       "14                                Tags1_Lost to EINS  1.20\n",
       "7                                     DoNotEmail_Yes  1.17\n",
       "19            LastNotableActivity_Email Link Clicked  1.06\n",
       "4                          LeadOrigin_Quick Add Form  1.01"
      ]
     },
     "execution_count": 417,
     "metadata": {},
     "output_type": "execute_result"
    }
   ],
   "source": [
    "vif1=pd.DataFrame()\n",
    "vif1['Features']=X_train_rfe1.columns\n",
    "vif1['VIF']=[variance_inflation_factor(X_train_rfe1.values,i)for i in range(X_train_rfe1.shape[1])]\n",
    "vif1['VIF']=round(vif1['VIF'],2)\n",
    "vif1=vif1.sort_values(by='VIF',ascending=False)\n",
    "vif1"
   ]
  },
  {
   "cell_type": "code",
   "execution_count": 418,
   "id": "d6684519",
   "metadata": {},
   "outputs": [],
   "source": [
    "# Dropping variables with high p value and low VIF\n",
    "X_train_rfe3=X_train_rfe1.drop(columns=['LeadOrigin_Quick Add Form','LastActivity_Olark Chat Conversation'],axis=1)"
   ]
  },
  {
   "cell_type": "code",
   "execution_count": 419,
   "id": "dc09f030",
   "metadata": {},
   "outputs": [],
   "source": [
    "X_train_rfe4=sm.add_constant(X_train_rfe3)"
   ]
  },
  {
   "cell_type": "code",
   "execution_count": 420,
   "id": "5c11388d",
   "metadata": {},
   "outputs": [
    {
     "data": {
      "text/html": [
       "<table class=\"simpletable\">\n",
       "<caption>Generalized Linear Model Regression Results</caption>\n",
       "<tr>\n",
       "  <th>Dep. Variable:</th>       <td>Converted</td>    <th>  No. Observations:  </th>  <td>  6468</td> \n",
       "</tr>\n",
       "<tr>\n",
       "  <th>Model:</th>                  <td>GLM</td>       <th>  Df Residuals:      </th>  <td>  6446</td> \n",
       "</tr>\n",
       "<tr>\n",
       "  <th>Model Family:</th>        <td>Binomial</td>     <th>  Df Model:          </th>  <td>    21</td> \n",
       "</tr>\n",
       "<tr>\n",
       "  <th>Link Function:</th>         <td>Logit</td>      <th>  Scale:             </th> <td>  1.0000</td>\n",
       "</tr>\n",
       "<tr>\n",
       "  <th>Method:</th>                <td>IRLS</td>       <th>  Log-Likelihood:    </th> <td> -1256.1</td>\n",
       "</tr>\n",
       "<tr>\n",
       "  <th>Date:</th>            <td>Tue, 21 Mar 2023</td> <th>  Deviance:          </th> <td>  2512.2</td>\n",
       "</tr>\n",
       "<tr>\n",
       "  <th>Time:</th>                <td>16:57:07</td>     <th>  Pearson chi2:      </th> <td>1.06e+04</td>\n",
       "</tr>\n",
       "<tr>\n",
       "  <th>No. Iterations:</th>          <td>8</td>        <th>  Pseudo R-squ. (CS):</th>  <td>0.6097</td> \n",
       "</tr>\n",
       "<tr>\n",
       "  <th>Covariance Type:</th>     <td>nonrobust</td>    <th>                     </th>     <td> </td>   \n",
       "</tr>\n",
       "</table>\n",
       "<table class=\"simpletable\">\n",
       "<tr>\n",
       "                          <td></td>                            <th>coef</th>     <th>std err</th>      <th>z</th>      <th>P>|z|</th>  <th>[0.025</th>    <th>0.975]</th>  \n",
       "</tr>\n",
       "<tr>\n",
       "  <th>const</th>                                            <td>   -1.5118</td> <td>    0.271</td> <td>   -5.580</td> <td> 0.000</td> <td>   -2.043</td> <td>   -0.981</td>\n",
       "</tr>\n",
       "<tr>\n",
       "  <th>TotalVisits</th>                                      <td>    6.5103</td> <td>    1.809</td> <td>    3.599</td> <td> 0.000</td> <td>    2.965</td> <td>   10.056</td>\n",
       "</tr>\n",
       "<tr>\n",
       "  <th>Total Time Spent on Website</th>                      <td>    4.3155</td> <td>    0.247</td> <td>   17.484</td> <td> 0.000</td> <td>    3.832</td> <td>    4.799</td>\n",
       "</tr>\n",
       "<tr>\n",
       "  <th>LeadOrigin_Landing Page Submission</th>               <td>   -0.7904</td> <td>    0.135</td> <td>   -5.860</td> <td> 0.000</td> <td>   -1.055</td> <td>   -0.526</td>\n",
       "</tr>\n",
       "<tr>\n",
       "  <th>LeadOrigin_Lead Add Form</th>                         <td>    1.1330</td> <td>    0.376</td> <td>    3.009</td> <td> 0.003</td> <td>    0.395</td> <td>    1.871</td>\n",
       "</tr>\n",
       "<tr>\n",
       "  <th>LeadSource_Olark Chat</th>                            <td>    0.7347</td> <td>    0.165</td> <td>    4.447</td> <td> 0.000</td> <td>    0.411</td> <td>    1.058</td>\n",
       "</tr>\n",
       "<tr>\n",
       "  <th>LeadSource_Welingak Website</th>                      <td>    4.0100</td> <td>    0.817</td> <td>    4.909</td> <td> 0.000</td> <td>    2.409</td> <td>    5.611</td>\n",
       "</tr>\n",
       "<tr>\n",
       "  <th>DoNotEmail_Yes</th>                                   <td>   -0.6968</td> <td>    0.238</td> <td>   -2.925</td> <td> 0.003</td> <td>   -1.164</td> <td>   -0.230</td>\n",
       "</tr>\n",
       "<tr>\n",
       "  <th>LastActivity_Page Visited on Website</th>             <td>   -0.6269</td> <td>    0.243</td> <td>   -2.578</td> <td> 0.010</td> <td>   -1.104</td> <td>   -0.150</td>\n",
       "</tr>\n",
       "<tr>\n",
       "  <th>LastActivity_SMS Sent</th>                            <td>    1.4881</td> <td>    0.226</td> <td>    6.578</td> <td> 0.000</td> <td>    1.045</td> <td>    1.931</td>\n",
       "</tr>\n",
       "<tr>\n",
       "  <th>Whatisyourcurrentoccupation_Working Professional</th> <td>    0.8314</td> <td>    0.371</td> <td>    2.244</td> <td> 0.025</td> <td>    0.105</td> <td>    1.558</td>\n",
       "</tr>\n",
       "<tr>\n",
       "  <th>Tags1_Closed by Horizzon</th>                         <td>    6.6289</td> <td>    1.047</td> <td>    6.334</td> <td> 0.000</td> <td>    4.578</td> <td>    8.680</td>\n",
       "</tr>\n",
       "<tr>\n",
       "  <th>Tags1_Interested in other courses</th>                <td>   -2.5061</td> <td>    0.428</td> <td>   -5.862</td> <td> 0.000</td> <td>   -3.344</td> <td>   -1.668</td>\n",
       "</tr>\n",
       "<tr>\n",
       "  <th>Tags1_Lost to EINS</th>                               <td>    5.5851</td> <td>    0.767</td> <td>    7.285</td> <td> 0.000</td> <td>    4.082</td> <td>    7.088</td>\n",
       "</tr>\n",
       "<tr>\n",
       "  <th>Tags1_Not Specified</th>                              <td>   -0.5827</td> <td>    0.239</td> <td>   -2.439</td> <td> 0.015</td> <td>   -1.051</td> <td>   -0.114</td>\n",
       "</tr>\n",
       "<tr>\n",
       "  <th>Tags1_Other_Tags</th>                                 <td>   -2.8954</td> <td>    0.300</td> <td>   -9.644</td> <td> 0.000</td> <td>   -3.484</td> <td>   -2.307</td>\n",
       "</tr>\n",
       "<tr>\n",
       "  <th>Tags1_Ringing</th>                                    <td>   -4.0077</td> <td>    0.317</td> <td>  -12.653</td> <td> 0.000</td> <td>   -4.629</td> <td>   -3.387</td>\n",
       "</tr>\n",
       "<tr>\n",
       "  <th>Tags1_Will revert after reading the email</th>        <td>    3.8375</td> <td>    0.293</td> <td>   13.113</td> <td> 0.000</td> <td>    3.264</td> <td>    4.411</td>\n",
       "</tr>\n",
       "<tr>\n",
       "  <th>LastNotableActivity_Email Link Clicked</th>           <td>   -1.2509</td> <td>    0.454</td> <td>   -2.758</td> <td> 0.006</td> <td>   -2.140</td> <td>   -0.362</td>\n",
       "</tr>\n",
       "<tr>\n",
       "  <th>LastNotableActivity_Modified</th>                     <td>   -1.4431</td> <td>    0.153</td> <td>   -9.450</td> <td> 0.000</td> <td>   -1.742</td> <td>   -1.144</td>\n",
       "</tr>\n",
       "<tr>\n",
       "  <th>LastNotableActivity_Olark Chat Conversation</th>      <td>   -1.6436</td> <td>    0.435</td> <td>   -3.780</td> <td> 0.000</td> <td>   -2.496</td> <td>   -0.791</td>\n",
       "</tr>\n",
       "<tr>\n",
       "  <th>LastNotableActivity_SMS Sent</th>                     <td>    0.6270</td> <td>    0.259</td> <td>    2.422</td> <td> 0.015</td> <td>    0.120</td> <td>    1.134</td>\n",
       "</tr>\n",
       "</table>"
      ],
      "text/plain": [
       "<class 'statsmodels.iolib.summary.Summary'>\n",
       "\"\"\"\n",
       "                 Generalized Linear Model Regression Results                  \n",
       "==============================================================================\n",
       "Dep. Variable:              Converted   No. Observations:                 6468\n",
       "Model:                            GLM   Df Residuals:                     6446\n",
       "Model Family:                Binomial   Df Model:                           21\n",
       "Link Function:                  Logit   Scale:                          1.0000\n",
       "Method:                          IRLS   Log-Likelihood:                -1256.1\n",
       "Date:                Tue, 21 Mar 2023   Deviance:                       2512.2\n",
       "Time:                        16:57:07   Pearson chi2:                 1.06e+04\n",
       "No. Iterations:                     8   Pseudo R-squ. (CS):             0.6097\n",
       "Covariance Type:            nonrobust                                         \n",
       "====================================================================================================================\n",
       "                                                       coef    std err          z      P>|z|      [0.025      0.975]\n",
       "--------------------------------------------------------------------------------------------------------------------\n",
       "const                                               -1.5118      0.271     -5.580      0.000      -2.043      -0.981\n",
       "TotalVisits                                          6.5103      1.809      3.599      0.000       2.965      10.056\n",
       "Total Time Spent on Website                          4.3155      0.247     17.484      0.000       3.832       4.799\n",
       "LeadOrigin_Landing Page Submission                  -0.7904      0.135     -5.860      0.000      -1.055      -0.526\n",
       "LeadOrigin_Lead Add Form                             1.1330      0.376      3.009      0.003       0.395       1.871\n",
       "LeadSource_Olark Chat                                0.7347      0.165      4.447      0.000       0.411       1.058\n",
       "LeadSource_Welingak Website                          4.0100      0.817      4.909      0.000       2.409       5.611\n",
       "DoNotEmail_Yes                                      -0.6968      0.238     -2.925      0.003      -1.164      -0.230\n",
       "LastActivity_Page Visited on Website                -0.6269      0.243     -2.578      0.010      -1.104      -0.150\n",
       "LastActivity_SMS Sent                                1.4881      0.226      6.578      0.000       1.045       1.931\n",
       "Whatisyourcurrentoccupation_Working Professional     0.8314      0.371      2.244      0.025       0.105       1.558\n",
       "Tags1_Closed by Horizzon                             6.6289      1.047      6.334      0.000       4.578       8.680\n",
       "Tags1_Interested in other courses                   -2.5061      0.428     -5.862      0.000      -3.344      -1.668\n",
       "Tags1_Lost to EINS                                   5.5851      0.767      7.285      0.000       4.082       7.088\n",
       "Tags1_Not Specified                                 -0.5827      0.239     -2.439      0.015      -1.051      -0.114\n",
       "Tags1_Other_Tags                                    -2.8954      0.300     -9.644      0.000      -3.484      -2.307\n",
       "Tags1_Ringing                                       -4.0077      0.317    -12.653      0.000      -4.629      -3.387\n",
       "Tags1_Will revert after reading the email            3.8375      0.293     13.113      0.000       3.264       4.411\n",
       "LastNotableActivity_Email Link Clicked              -1.2509      0.454     -2.758      0.006      -2.140      -0.362\n",
       "LastNotableActivity_Modified                        -1.4431      0.153     -9.450      0.000      -1.742      -1.144\n",
       "LastNotableActivity_Olark Chat Conversation         -1.6436      0.435     -3.780      0.000      -2.496      -0.791\n",
       "LastNotableActivity_SMS Sent                         0.6270      0.259      2.422      0.015       0.120       1.134\n",
       "====================================================================================================================\n",
       "\"\"\""
      ]
     },
     "execution_count": 420,
     "metadata": {},
     "output_type": "execute_result"
    }
   ],
   "source": [
    "logm4=sm.GLM(Y_train,X_train_rfe4,family=sm.families.Binomial())\n",
    "res=logm4.fit()\n",
    "res.summary()"
   ]
  },
  {
   "cell_type": "code",
   "execution_count": 421,
   "id": "7608877b",
   "metadata": {},
   "outputs": [],
   "source": [
    "Y_train_pred3=res.predict(X_train_rfe4)"
   ]
  },
  {
   "cell_type": "code",
   "execution_count": 422,
   "id": "81bc7784",
   "metadata": {},
   "outputs": [
    {
     "data": {
      "text/html": [
       "<div>\n",
       "<style scoped>\n",
       "    .dataframe tbody tr th:only-of-type {\n",
       "        vertical-align: middle;\n",
       "    }\n",
       "\n",
       "    .dataframe tbody tr th {\n",
       "        vertical-align: top;\n",
       "    }\n",
       "\n",
       "    .dataframe thead th {\n",
       "        text-align: right;\n",
       "    }\n",
       "</style>\n",
       "<table border=\"1\" class=\"dataframe\">\n",
       "  <thead>\n",
       "    <tr style=\"text-align: right;\">\n",
       "      <th></th>\n",
       "      <th>Converted</th>\n",
       "      <th>Converted_Prob</th>\n",
       "      <th>Prospect ID</th>\n",
       "    </tr>\n",
       "  </thead>\n",
       "  <tbody>\n",
       "    <tr>\n",
       "      <th>1871</th>\n",
       "      <td>0</td>\n",
       "      <td>0.008286</td>\n",
       "      <td>1871</td>\n",
       "    </tr>\n",
       "    <tr>\n",
       "      <th>6795</th>\n",
       "      <td>0</td>\n",
       "      <td>0.135153</td>\n",
       "      <td>6795</td>\n",
       "    </tr>\n",
       "    <tr>\n",
       "      <th>3516</th>\n",
       "      <td>0</td>\n",
       "      <td>0.011500</td>\n",
       "      <td>3516</td>\n",
       "    </tr>\n",
       "    <tr>\n",
       "      <th>8105</th>\n",
       "      <td>0</td>\n",
       "      <td>0.150736</td>\n",
       "      <td>8105</td>\n",
       "    </tr>\n",
       "    <tr>\n",
       "      <th>3934</th>\n",
       "      <td>0</td>\n",
       "      <td>0.057166</td>\n",
       "      <td>3934</td>\n",
       "    </tr>\n",
       "  </tbody>\n",
       "</table>\n",
       "</div>"
      ],
      "text/plain": [
       "      Converted  Converted_Prob  Prospect ID\n",
       "1871          0        0.008286         1871\n",
       "6795          0        0.135153         6795\n",
       "3516          0        0.011500         3516\n",
       "8105          0        0.150736         8105\n",
       "3934          0        0.057166         3934"
      ]
     },
     "execution_count": 422,
     "metadata": {},
     "output_type": "execute_result"
    }
   ],
   "source": [
    "Y_train_pred_final3=pd.DataFrame({'Converted':Y_train.values,'Converted_Prob':Y_train_pred3})\n",
    "Y_train_pred_final3['Prospect ID']=Y_train.index\n",
    "Y_train_pred_final3.head()"
   ]
  },
  {
   "cell_type": "code",
   "execution_count": 423,
   "id": "a51fdcf6",
   "metadata": {},
   "outputs": [
    {
     "data": {
      "text/html": [
       "<div>\n",
       "<style scoped>\n",
       "    .dataframe tbody tr th:only-of-type {\n",
       "        vertical-align: middle;\n",
       "    }\n",
       "\n",
       "    .dataframe tbody tr th {\n",
       "        vertical-align: top;\n",
       "    }\n",
       "\n",
       "    .dataframe thead th {\n",
       "        text-align: right;\n",
       "    }\n",
       "</style>\n",
       "<table border=\"1\" class=\"dataframe\">\n",
       "  <thead>\n",
       "    <tr style=\"text-align: right;\">\n",
       "      <th></th>\n",
       "      <th>Converted</th>\n",
       "      <th>Converted_Prob</th>\n",
       "      <th>Prospect ID</th>\n",
       "      <th>predicted</th>\n",
       "    </tr>\n",
       "  </thead>\n",
       "  <tbody>\n",
       "    <tr>\n",
       "      <th>1871</th>\n",
       "      <td>0</td>\n",
       "      <td>0.008286</td>\n",
       "      <td>1871</td>\n",
       "      <td>0</td>\n",
       "    </tr>\n",
       "    <tr>\n",
       "      <th>6795</th>\n",
       "      <td>0</td>\n",
       "      <td>0.135153</td>\n",
       "      <td>6795</td>\n",
       "      <td>0</td>\n",
       "    </tr>\n",
       "    <tr>\n",
       "      <th>3516</th>\n",
       "      <td>0</td>\n",
       "      <td>0.011500</td>\n",
       "      <td>3516</td>\n",
       "      <td>0</td>\n",
       "    </tr>\n",
       "    <tr>\n",
       "      <th>8105</th>\n",
       "      <td>0</td>\n",
       "      <td>0.150736</td>\n",
       "      <td>8105</td>\n",
       "      <td>0</td>\n",
       "    </tr>\n",
       "    <tr>\n",
       "      <th>3934</th>\n",
       "      <td>0</td>\n",
       "      <td>0.057166</td>\n",
       "      <td>3934</td>\n",
       "      <td>0</td>\n",
       "    </tr>\n",
       "  </tbody>\n",
       "</table>\n",
       "</div>"
      ],
      "text/plain": [
       "      Converted  Converted_Prob  Prospect ID  predicted\n",
       "1871          0        0.008286         1871          0\n",
       "6795          0        0.135153         6795          0\n",
       "3516          0        0.011500         3516          0\n",
       "8105          0        0.150736         8105          0\n",
       "3934          0        0.057166         3934          0"
      ]
     },
     "execution_count": 423,
     "metadata": {},
     "output_type": "execute_result"
    }
   ],
   "source": [
    "Y_train_pred_final3['predicted']=Y_train_pred_final3.Converted_Prob.map(lambda x:1 if x>0.5 else 0)\n",
    "Y_train_pred_final3.head()"
   ]
  },
  {
   "cell_type": "code",
   "execution_count": 424,
   "id": "ede0322b",
   "metadata": {},
   "outputs": [
    {
     "name": "stdout",
     "output_type": "stream",
     "text": [
      "[[3832  170]\n",
      " [ 285 2181]]\n"
     ]
    }
   ],
   "source": [
    "confusion3=metrics.confusion_matrix(Y_train_pred_final3.Converted,Y_train_pred_final3.predicted)\n",
    "print(confusion3)"
   ]
  },
  {
   "cell_type": "code",
   "execution_count": 425,
   "id": "9d9434eb",
   "metadata": {},
   "outputs": [
    {
     "name": "stdout",
     "output_type": "stream",
     "text": [
      "0.9296536796536796\n"
     ]
    }
   ],
   "source": [
    "print(metrics.accuracy_score(Y_train_pred_final3.Converted,Y_train_pred_final3.predicted))"
   ]
  },
  {
   "cell_type": "code",
   "execution_count": 426,
   "id": "1e4d8702",
   "metadata": {},
   "outputs": [
    {
     "data": {
      "text/html": [
       "<div>\n",
       "<style scoped>\n",
       "    .dataframe tbody tr th:only-of-type {\n",
       "        vertical-align: middle;\n",
       "    }\n",
       "\n",
       "    .dataframe tbody tr th {\n",
       "        vertical-align: top;\n",
       "    }\n",
       "\n",
       "    .dataframe thead th {\n",
       "        text-align: right;\n",
       "    }\n",
       "</style>\n",
       "<table border=\"1\" class=\"dataframe\">\n",
       "  <thead>\n",
       "    <tr style=\"text-align: right;\">\n",
       "      <th></th>\n",
       "      <th>Features</th>\n",
       "      <th>VIF</th>\n",
       "    </tr>\n",
       "  </thead>\n",
       "  <tbody>\n",
       "    <tr>\n",
       "      <th>20</th>\n",
       "      <td>LastNotableActivity_SMS Sent</td>\n",
       "      <td>6.38</td>\n",
       "    </tr>\n",
       "    <tr>\n",
       "      <th>8</th>\n",
       "      <td>LastActivity_SMS Sent</td>\n",
       "      <td>6.06</td>\n",
       "    </tr>\n",
       "    <tr>\n",
       "      <th>2</th>\n",
       "      <td>LeadOrigin_Landing Page Submission</td>\n",
       "      <td>3.52</td>\n",
       "    </tr>\n",
       "    <tr>\n",
       "      <th>13</th>\n",
       "      <td>Tags1_Not Specified</td>\n",
       "      <td>3.49</td>\n",
       "    </tr>\n",
       "    <tr>\n",
       "      <th>16</th>\n",
       "      <td>Tags1_Will revert after reading the email</td>\n",
       "      <td>3.36</td>\n",
       "    </tr>\n",
       "    <tr>\n",
       "      <th>18</th>\n",
       "      <td>LastNotableActivity_Modified</td>\n",
       "      <td>2.48</td>\n",
       "    </tr>\n",
       "    <tr>\n",
       "      <th>1</th>\n",
       "      <td>Total Time Spent on Website</td>\n",
       "      <td>2.43</td>\n",
       "    </tr>\n",
       "    <tr>\n",
       "      <th>4</th>\n",
       "      <td>LeadSource_Olark Chat</td>\n",
       "      <td>2.21</td>\n",
       "    </tr>\n",
       "    <tr>\n",
       "      <th>3</th>\n",
       "      <td>LeadOrigin_Lead Add Form</td>\n",
       "      <td>2.13</td>\n",
       "    </tr>\n",
       "    <tr>\n",
       "      <th>14</th>\n",
       "      <td>Tags1_Other_Tags</td>\n",
       "      <td>2.06</td>\n",
       "    </tr>\n",
       "    <tr>\n",
       "      <th>15</th>\n",
       "      <td>Tags1_Ringing</td>\n",
       "      <td>1.83</td>\n",
       "    </tr>\n",
       "    <tr>\n",
       "      <th>0</th>\n",
       "      <td>TotalVisits</td>\n",
       "      <td>1.72</td>\n",
       "    </tr>\n",
       "    <tr>\n",
       "      <th>10</th>\n",
       "      <td>Tags1_Closed by Horizzon</td>\n",
       "      <td>1.70</td>\n",
       "    </tr>\n",
       "    <tr>\n",
       "      <th>11</th>\n",
       "      <td>Tags1_Interested in other courses</td>\n",
       "      <td>1.41</td>\n",
       "    </tr>\n",
       "    <tr>\n",
       "      <th>9</th>\n",
       "      <td>Whatisyourcurrentoccupation_Working Professional</td>\n",
       "      <td>1.35</td>\n",
       "    </tr>\n",
       "    <tr>\n",
       "      <th>5</th>\n",
       "      <td>LeadSource_Welingak Website</td>\n",
       "      <td>1.28</td>\n",
       "    </tr>\n",
       "    <tr>\n",
       "      <th>12</th>\n",
       "      <td>Tags1_Lost to EINS</td>\n",
       "      <td>1.20</td>\n",
       "    </tr>\n",
       "    <tr>\n",
       "      <th>7</th>\n",
       "      <td>LastActivity_Page Visited on Website</td>\n",
       "      <td>1.20</td>\n",
       "    </tr>\n",
       "    <tr>\n",
       "      <th>6</th>\n",
       "      <td>DoNotEmail_Yes</td>\n",
       "      <td>1.16</td>\n",
       "    </tr>\n",
       "    <tr>\n",
       "      <th>19</th>\n",
       "      <td>LastNotableActivity_Olark Chat Conversation</td>\n",
       "      <td>1.09</td>\n",
       "    </tr>\n",
       "    <tr>\n",
       "      <th>17</th>\n",
       "      <td>LastNotableActivity_Email Link Clicked</td>\n",
       "      <td>1.06</td>\n",
       "    </tr>\n",
       "  </tbody>\n",
       "</table>\n",
       "</div>"
      ],
      "text/plain": [
       "                                            Features   VIF\n",
       "20                      LastNotableActivity_SMS Sent  6.38\n",
       "8                              LastActivity_SMS Sent  6.06\n",
       "2                 LeadOrigin_Landing Page Submission  3.52\n",
       "13                               Tags1_Not Specified  3.49\n",
       "16         Tags1_Will revert after reading the email  3.36\n",
       "18                      LastNotableActivity_Modified  2.48\n",
       "1                        Total Time Spent on Website  2.43\n",
       "4                              LeadSource_Olark Chat  2.21\n",
       "3                           LeadOrigin_Lead Add Form  2.13\n",
       "14                                  Tags1_Other_Tags  2.06\n",
       "15                                     Tags1_Ringing  1.83\n",
       "0                                        TotalVisits  1.72\n",
       "10                          Tags1_Closed by Horizzon  1.70\n",
       "11                 Tags1_Interested in other courses  1.41\n",
       "9   Whatisyourcurrentoccupation_Working Professional  1.35\n",
       "5                        LeadSource_Welingak Website  1.28\n",
       "12                                Tags1_Lost to EINS  1.20\n",
       "7               LastActivity_Page Visited on Website  1.20\n",
       "6                                     DoNotEmail_Yes  1.16\n",
       "19       LastNotableActivity_Olark Chat Conversation  1.09\n",
       "17            LastNotableActivity_Email Link Clicked  1.06"
      ]
     },
     "execution_count": 426,
     "metadata": {},
     "output_type": "execute_result"
    }
   ],
   "source": [
    "vif2=pd.DataFrame()\n",
    "vif2['Features']=X_train_rfe3.columns\n",
    "vif2['VIF']=[variance_inflation_factor(X_train_rfe3.values,i)for i in range(X_train_rfe3.shape[1])]\n",
    "vif2['VIF']=round(vif2['VIF'],2)\n",
    "vif2=vif2.sort_values(by='VIF',ascending=False)\n",
    "vif2"
   ]
  },
  {
   "cell_type": "code",
   "execution_count": 427,
   "id": "943bc4f0",
   "metadata": {},
   "outputs": [],
   "source": [
    "# Dropping variable with high VIF and low p value\n",
    "X_train_rfe5=X_train_rfe3.drop(columns=['LastNotableActivity_SMS Sent'],axis=1)"
   ]
  },
  {
   "cell_type": "code",
   "execution_count": 428,
   "id": "b42557df",
   "metadata": {},
   "outputs": [],
   "source": [
    "X_train_rfe6=sm.add_constant(X_train_rfe5)"
   ]
  },
  {
   "cell_type": "code",
   "execution_count": 429,
   "id": "ec8b6711",
   "metadata": {},
   "outputs": [
    {
     "data": {
      "text/html": [
       "<table class=\"simpletable\">\n",
       "<caption>Generalized Linear Model Regression Results</caption>\n",
       "<tr>\n",
       "  <th>Dep. Variable:</th>       <td>Converted</td>    <th>  No. Observations:  </th>  <td>  6468</td> \n",
       "</tr>\n",
       "<tr>\n",
       "  <th>Model:</th>                  <td>GLM</td>       <th>  Df Residuals:      </th>  <td>  6447</td> \n",
       "</tr>\n",
       "<tr>\n",
       "  <th>Model Family:</th>        <td>Binomial</td>     <th>  Df Model:          </th>  <td>    20</td> \n",
       "</tr>\n",
       "<tr>\n",
       "  <th>Link Function:</th>         <td>Logit</td>      <th>  Scale:             </th> <td>  1.0000</td>\n",
       "</tr>\n",
       "<tr>\n",
       "  <th>Method:</th>                <td>IRLS</td>       <th>  Log-Likelihood:    </th> <td> -1259.1</td>\n",
       "</tr>\n",
       "<tr>\n",
       "  <th>Date:</th>            <td>Tue, 21 Mar 2023</td> <th>  Deviance:          </th> <td>  2518.1</td>\n",
       "</tr>\n",
       "<tr>\n",
       "  <th>Time:</th>                <td>16:57:21</td>     <th>  Pearson chi2:      </th> <td>1.08e+04</td>\n",
       "</tr>\n",
       "<tr>\n",
       "  <th>No. Iterations:</th>          <td>8</td>        <th>  Pseudo R-squ. (CS):</th>  <td>0.6094</td> \n",
       "</tr>\n",
       "<tr>\n",
       "  <th>Covariance Type:</th>     <td>nonrobust</td>    <th>                     </th>     <td> </td>   \n",
       "</tr>\n",
       "</table>\n",
       "<table class=\"simpletable\">\n",
       "<tr>\n",
       "                          <td></td>                            <th>coef</th>     <th>std err</th>      <th>z</th>      <th>P>|z|</th>  <th>[0.025</th>    <th>0.975]</th>  \n",
       "</tr>\n",
       "<tr>\n",
       "  <th>const</th>                                            <td>   -1.4387</td> <td>    0.267</td> <td>   -5.398</td> <td> 0.000</td> <td>   -1.961</td> <td>   -0.916</td>\n",
       "</tr>\n",
       "<tr>\n",
       "  <th>TotalVisits</th>                                      <td>    6.2833</td> <td>    1.776</td> <td>    3.537</td> <td> 0.000</td> <td>    2.802</td> <td>    9.765</td>\n",
       "</tr>\n",
       "<tr>\n",
       "  <th>Total Time Spent on Website</th>                      <td>    4.3093</td> <td>    0.246</td> <td>   17.513</td> <td> 0.000</td> <td>    3.827</td> <td>    4.792</td>\n",
       "</tr>\n",
       "<tr>\n",
       "  <th>LeadOrigin_Landing Page Submission</th>               <td>   -0.7983</td> <td>    0.134</td> <td>   -5.955</td> <td> 0.000</td> <td>   -1.061</td> <td>   -0.536</td>\n",
       "</tr>\n",
       "<tr>\n",
       "  <th>LeadOrigin_Lead Add Form</th>                         <td>    1.1354</td> <td>    0.379</td> <td>    2.994</td> <td> 0.003</td> <td>    0.392</td> <td>    1.879</td>\n",
       "</tr>\n",
       "<tr>\n",
       "  <th>LeadSource_Olark Chat</th>                            <td>    0.7618</td> <td>    0.164</td> <td>    4.633</td> <td> 0.000</td> <td>    0.439</td> <td>    1.084</td>\n",
       "</tr>\n",
       "<tr>\n",
       "  <th>LeadSource_Welingak Website</th>                      <td>    4.0108</td> <td>    0.820</td> <td>    4.893</td> <td> 0.000</td> <td>    2.404</td> <td>    5.618</td>\n",
       "</tr>\n",
       "<tr>\n",
       "  <th>DoNotEmail_Yes</th>                                   <td>   -0.6762</td> <td>    0.238</td> <td>   -2.845</td> <td> 0.004</td> <td>   -1.142</td> <td>   -0.210</td>\n",
       "</tr>\n",
       "<tr>\n",
       "  <th>LastActivity_Page Visited on Website</th>             <td>   -0.6028</td> <td>    0.243</td> <td>   -2.480</td> <td> 0.013</td> <td>   -1.079</td> <td>   -0.126</td>\n",
       "</tr>\n",
       "<tr>\n",
       "  <th>LastActivity_SMS Sent</th>                            <td>    1.9544</td> <td>    0.118</td> <td>   16.523</td> <td> 0.000</td> <td>    1.723</td> <td>    2.186</td>\n",
       "</tr>\n",
       "<tr>\n",
       "  <th>Whatisyourcurrentoccupation_Working Professional</th> <td>    0.8386</td> <td>    0.369</td> <td>    2.274</td> <td> 0.023</td> <td>    0.116</td> <td>    1.561</td>\n",
       "</tr>\n",
       "<tr>\n",
       "  <th>Tags1_Closed by Horizzon</th>                         <td>    6.7275</td> <td>    1.047</td> <td>    6.428</td> <td> 0.000</td> <td>    4.676</td> <td>    8.779</td>\n",
       "</tr>\n",
       "<tr>\n",
       "  <th>Tags1_Interested in other courses</th>                <td>   -2.4854</td> <td>    0.425</td> <td>   -5.843</td> <td> 0.000</td> <td>   -3.319</td> <td>   -1.652</td>\n",
       "</tr>\n",
       "<tr>\n",
       "  <th>Tags1_Lost to EINS</th>                               <td>    5.6726</td> <td>    0.768</td> <td>    7.389</td> <td> 0.000</td> <td>    4.168</td> <td>    7.177</td>\n",
       "</tr>\n",
       "<tr>\n",
       "  <th>Tags1_Not Specified</th>                              <td>   -0.6070</td> <td>    0.236</td> <td>   -2.569</td> <td> 0.010</td> <td>   -1.070</td> <td>   -0.144</td>\n",
       "</tr>\n",
       "<tr>\n",
       "  <th>Tags1_Other_Tags</th>                                 <td>   -2.8846</td> <td>    0.298</td> <td>   -9.674</td> <td> 0.000</td> <td>   -3.469</td> <td>   -2.300</td>\n",
       "</tr>\n",
       "<tr>\n",
       "  <th>Tags1_Ringing</th>                                    <td>   -3.9524</td> <td>    0.314</td> <td>  -12.606</td> <td> 0.000</td> <td>   -4.567</td> <td>   -3.338</td>\n",
       "</tr>\n",
       "<tr>\n",
       "  <th>Tags1_Will revert after reading the email</th>        <td>    3.8703</td> <td>    0.293</td> <td>   13.226</td> <td> 0.000</td> <td>    3.297</td> <td>    4.444</td>\n",
       "</tr>\n",
       "<tr>\n",
       "  <th>LastNotableActivity_Email Link Clicked</th>           <td>   -1.3266</td> <td>    0.455</td> <td>   -2.914</td> <td> 0.004</td> <td>   -2.219</td> <td>   -0.434</td>\n",
       "</tr>\n",
       "<tr>\n",
       "  <th>LastNotableActivity_Modified</th>                     <td>   -1.6697</td> <td>    0.125</td> <td>  -13.384</td> <td> 0.000</td> <td>   -1.914</td> <td>   -1.425</td>\n",
       "</tr>\n",
       "<tr>\n",
       "  <th>LastNotableActivity_Olark Chat Conversation</th>      <td>   -1.7145</td> <td>    0.434</td> <td>   -3.947</td> <td> 0.000</td> <td>   -2.566</td> <td>   -0.863</td>\n",
       "</tr>\n",
       "</table>"
      ],
      "text/plain": [
       "<class 'statsmodels.iolib.summary.Summary'>\n",
       "\"\"\"\n",
       "                 Generalized Linear Model Regression Results                  \n",
       "==============================================================================\n",
       "Dep. Variable:              Converted   No. Observations:                 6468\n",
       "Model:                            GLM   Df Residuals:                     6447\n",
       "Model Family:                Binomial   Df Model:                           20\n",
       "Link Function:                  Logit   Scale:                          1.0000\n",
       "Method:                          IRLS   Log-Likelihood:                -1259.1\n",
       "Date:                Tue, 21 Mar 2023   Deviance:                       2518.1\n",
       "Time:                        16:57:21   Pearson chi2:                 1.08e+04\n",
       "No. Iterations:                     8   Pseudo R-squ. (CS):             0.6094\n",
       "Covariance Type:            nonrobust                                         \n",
       "====================================================================================================================\n",
       "                                                       coef    std err          z      P>|z|      [0.025      0.975]\n",
       "--------------------------------------------------------------------------------------------------------------------\n",
       "const                                               -1.4387      0.267     -5.398      0.000      -1.961      -0.916\n",
       "TotalVisits                                          6.2833      1.776      3.537      0.000       2.802       9.765\n",
       "Total Time Spent on Website                          4.3093      0.246     17.513      0.000       3.827       4.792\n",
       "LeadOrigin_Landing Page Submission                  -0.7983      0.134     -5.955      0.000      -1.061      -0.536\n",
       "LeadOrigin_Lead Add Form                             1.1354      0.379      2.994      0.003       0.392       1.879\n",
       "LeadSource_Olark Chat                                0.7618      0.164      4.633      0.000       0.439       1.084\n",
       "LeadSource_Welingak Website                          4.0108      0.820      4.893      0.000       2.404       5.618\n",
       "DoNotEmail_Yes                                      -0.6762      0.238     -2.845      0.004      -1.142      -0.210\n",
       "LastActivity_Page Visited on Website                -0.6028      0.243     -2.480      0.013      -1.079      -0.126\n",
       "LastActivity_SMS Sent                                1.9544      0.118     16.523      0.000       1.723       2.186\n",
       "Whatisyourcurrentoccupation_Working Professional     0.8386      0.369      2.274      0.023       0.116       1.561\n",
       "Tags1_Closed by Horizzon                             6.7275      1.047      6.428      0.000       4.676       8.779\n",
       "Tags1_Interested in other courses                   -2.4854      0.425     -5.843      0.000      -3.319      -1.652\n",
       "Tags1_Lost to EINS                                   5.6726      0.768      7.389      0.000       4.168       7.177\n",
       "Tags1_Not Specified                                 -0.6070      0.236     -2.569      0.010      -1.070      -0.144\n",
       "Tags1_Other_Tags                                    -2.8846      0.298     -9.674      0.000      -3.469      -2.300\n",
       "Tags1_Ringing                                       -3.9524      0.314    -12.606      0.000      -4.567      -3.338\n",
       "Tags1_Will revert after reading the email            3.8703      0.293     13.226      0.000       3.297       4.444\n",
       "LastNotableActivity_Email Link Clicked              -1.3266      0.455     -2.914      0.004      -2.219      -0.434\n",
       "LastNotableActivity_Modified                        -1.6697      0.125    -13.384      0.000      -1.914      -1.425\n",
       "LastNotableActivity_Olark Chat Conversation         -1.7145      0.434     -3.947      0.000      -2.566      -0.863\n",
       "====================================================================================================================\n",
       "\"\"\""
      ]
     },
     "execution_count": 429,
     "metadata": {},
     "output_type": "execute_result"
    }
   ],
   "source": [
    "logm5=sm.GLM(Y_train,X_train_rfe6,family=sm.families.Binomial())\n",
    "res=logm5.fit()\n",
    "res.summary()"
   ]
  },
  {
   "cell_type": "code",
   "execution_count": 430,
   "id": "019722f5",
   "metadata": {},
   "outputs": [],
   "source": [
    "Y_train_pred4=res.predict(X_train_rfe6)"
   ]
  },
  {
   "cell_type": "code",
   "execution_count": 431,
   "id": "2783adb3",
   "metadata": {},
   "outputs": [
    {
     "data": {
      "text/html": [
       "<div>\n",
       "<style scoped>\n",
       "    .dataframe tbody tr th:only-of-type {\n",
       "        vertical-align: middle;\n",
       "    }\n",
       "\n",
       "    .dataframe tbody tr th {\n",
       "        vertical-align: top;\n",
       "    }\n",
       "\n",
       "    .dataframe thead th {\n",
       "        text-align: right;\n",
       "    }\n",
       "</style>\n",
       "<table border=\"1\" class=\"dataframe\">\n",
       "  <thead>\n",
       "    <tr style=\"text-align: right;\">\n",
       "      <th></th>\n",
       "      <th>Converted</th>\n",
       "      <th>Converted_Prob</th>\n",
       "      <th>Prospect ID</th>\n",
       "    </tr>\n",
       "  </thead>\n",
       "  <tbody>\n",
       "    <tr>\n",
       "      <th>1871</th>\n",
       "      <td>0</td>\n",
       "      <td>0.009667</td>\n",
       "      <td>1871</td>\n",
       "    </tr>\n",
       "    <tr>\n",
       "      <th>6795</th>\n",
       "      <td>0</td>\n",
       "      <td>0.139416</td>\n",
       "      <td>6795</td>\n",
       "    </tr>\n",
       "    <tr>\n",
       "      <th>3516</th>\n",
       "      <td>0</td>\n",
       "      <td>0.013346</td>\n",
       "      <td>3516</td>\n",
       "    </tr>\n",
       "    <tr>\n",
       "      <th>8105</th>\n",
       "      <td>0</td>\n",
       "      <td>0.144684</td>\n",
       "      <td>8105</td>\n",
       "    </tr>\n",
       "    <tr>\n",
       "      <th>3934</th>\n",
       "      <td>0</td>\n",
       "      <td>0.049567</td>\n",
       "      <td>3934</td>\n",
       "    </tr>\n",
       "  </tbody>\n",
       "</table>\n",
       "</div>"
      ],
      "text/plain": [
       "      Converted  Converted_Prob  Prospect ID\n",
       "1871          0        0.009667         1871\n",
       "6795          0        0.139416         6795\n",
       "3516          0        0.013346         3516\n",
       "8105          0        0.144684         8105\n",
       "3934          0        0.049567         3934"
      ]
     },
     "execution_count": 431,
     "metadata": {},
     "output_type": "execute_result"
    }
   ],
   "source": [
    "Y_train_pred_final4=pd.DataFrame({'Converted':Y_train.values,'Converted_Prob':Y_train_pred4})\n",
    "Y_train_pred_final4['Prospect ID']=Y_train.index\n",
    "Y_train_pred_final4.head()"
   ]
  },
  {
   "cell_type": "code",
   "execution_count": 432,
   "id": "5284a0a9",
   "metadata": {},
   "outputs": [
    {
     "data": {
      "text/html": [
       "<div>\n",
       "<style scoped>\n",
       "    .dataframe tbody tr th:only-of-type {\n",
       "        vertical-align: middle;\n",
       "    }\n",
       "\n",
       "    .dataframe tbody tr th {\n",
       "        vertical-align: top;\n",
       "    }\n",
       "\n",
       "    .dataframe thead th {\n",
       "        text-align: right;\n",
       "    }\n",
       "</style>\n",
       "<table border=\"1\" class=\"dataframe\">\n",
       "  <thead>\n",
       "    <tr style=\"text-align: right;\">\n",
       "      <th></th>\n",
       "      <th>Converted</th>\n",
       "      <th>Converted_Prob</th>\n",
       "      <th>Prospect ID</th>\n",
       "      <th>predicted</th>\n",
       "    </tr>\n",
       "  </thead>\n",
       "  <tbody>\n",
       "    <tr>\n",
       "      <th>1871</th>\n",
       "      <td>0</td>\n",
       "      <td>0.009667</td>\n",
       "      <td>1871</td>\n",
       "      <td>0</td>\n",
       "    </tr>\n",
       "    <tr>\n",
       "      <th>6795</th>\n",
       "      <td>0</td>\n",
       "      <td>0.139416</td>\n",
       "      <td>6795</td>\n",
       "      <td>0</td>\n",
       "    </tr>\n",
       "    <tr>\n",
       "      <th>3516</th>\n",
       "      <td>0</td>\n",
       "      <td>0.013346</td>\n",
       "      <td>3516</td>\n",
       "      <td>0</td>\n",
       "    </tr>\n",
       "    <tr>\n",
       "      <th>8105</th>\n",
       "      <td>0</td>\n",
       "      <td>0.144684</td>\n",
       "      <td>8105</td>\n",
       "      <td>0</td>\n",
       "    </tr>\n",
       "    <tr>\n",
       "      <th>3934</th>\n",
       "      <td>0</td>\n",
       "      <td>0.049567</td>\n",
       "      <td>3934</td>\n",
       "      <td>0</td>\n",
       "    </tr>\n",
       "  </tbody>\n",
       "</table>\n",
       "</div>"
      ],
      "text/plain": [
       "      Converted  Converted_Prob  Prospect ID  predicted\n",
       "1871          0        0.009667         1871          0\n",
       "6795          0        0.139416         6795          0\n",
       "3516          0        0.013346         3516          0\n",
       "8105          0        0.144684         8105          0\n",
       "3934          0        0.049567         3934          0"
      ]
     },
     "execution_count": 432,
     "metadata": {},
     "output_type": "execute_result"
    }
   ],
   "source": [
    "Y_train_pred_final4['predicted']=Y_train_pred_final4.Converted_Prob.map(lambda x:1 if x>0.5 else 0)\n",
    "Y_train_pred_final4.head()"
   ]
  },
  {
   "cell_type": "code",
   "execution_count": 433,
   "id": "03645006",
   "metadata": {},
   "outputs": [
    {
     "name": "stdout",
     "output_type": "stream",
     "text": [
      "[[3833  169]\n",
      " [ 289 2177]]\n"
     ]
    }
   ],
   "source": [
    "confusion4=metrics.confusion_matrix(Y_train_pred_final4.Converted,Y_train_pred_final4.predicted)\n",
    "print(confusion4)"
   ]
  },
  {
   "cell_type": "code",
   "execution_count": 434,
   "id": "5300956d",
   "metadata": {},
   "outputs": [],
   "source": [
    "#Predicted     Not Converted  Converted\n",
    "#Actual \n",
    "#Not Converted  3833           169\n",
    "#Converted      289            2177"
   ]
  },
  {
   "cell_type": "code",
   "execution_count": 435,
   "id": "5c8bc2ec",
   "metadata": {},
   "outputs": [
    {
     "name": "stdout",
     "output_type": "stream",
     "text": [
      "0.9291898577612864\n"
     ]
    }
   ],
   "source": [
    "print(metrics.accuracy_score(Y_train_pred_final4.Converted,Y_train_pred_final4.predicted))"
   ]
  },
  {
   "cell_type": "code",
   "execution_count": 436,
   "id": "5769f77d",
   "metadata": {},
   "outputs": [
    {
     "data": {
      "text/html": [
       "<div>\n",
       "<style scoped>\n",
       "    .dataframe tbody tr th:only-of-type {\n",
       "        vertical-align: middle;\n",
       "    }\n",
       "\n",
       "    .dataframe tbody tr th {\n",
       "        vertical-align: top;\n",
       "    }\n",
       "\n",
       "    .dataframe thead th {\n",
       "        text-align: right;\n",
       "    }\n",
       "</style>\n",
       "<table border=\"1\" class=\"dataframe\">\n",
       "  <thead>\n",
       "    <tr style=\"text-align: right;\">\n",
       "      <th></th>\n",
       "      <th>Features</th>\n",
       "      <th>VIF</th>\n",
       "    </tr>\n",
       "  </thead>\n",
       "  <tbody>\n",
       "    <tr>\n",
       "      <th>2</th>\n",
       "      <td>LeadOrigin_Landing Page Submission</td>\n",
       "      <td>3.51</td>\n",
       "    </tr>\n",
       "    <tr>\n",
       "      <th>13</th>\n",
       "      <td>Tags1_Not Specified</td>\n",
       "      <td>3.45</td>\n",
       "    </tr>\n",
       "    <tr>\n",
       "      <th>16</th>\n",
       "      <td>Tags1_Will revert after reading the email</td>\n",
       "      <td>3.29</td>\n",
       "    </tr>\n",
       "    <tr>\n",
       "      <th>1</th>\n",
       "      <td>Total Time Spent on Website</td>\n",
       "      <td>2.42</td>\n",
       "    </tr>\n",
       "    <tr>\n",
       "      <th>4</th>\n",
       "      <td>LeadSource_Olark Chat</td>\n",
       "      <td>2.19</td>\n",
       "    </tr>\n",
       "    <tr>\n",
       "      <th>3</th>\n",
       "      <td>LeadOrigin_Lead Add Form</td>\n",
       "      <td>2.13</td>\n",
       "    </tr>\n",
       "    <tr>\n",
       "      <th>14</th>\n",
       "      <td>Tags1_Other_Tags</td>\n",
       "      <td>2.02</td>\n",
       "    </tr>\n",
       "    <tr>\n",
       "      <th>18</th>\n",
       "      <td>LastNotableActivity_Modified</td>\n",
       "      <td>1.95</td>\n",
       "    </tr>\n",
       "    <tr>\n",
       "      <th>15</th>\n",
       "      <td>Tags1_Ringing</td>\n",
       "      <td>1.79</td>\n",
       "    </tr>\n",
       "    <tr>\n",
       "      <th>0</th>\n",
       "      <td>TotalVisits</td>\n",
       "      <td>1.72</td>\n",
       "    </tr>\n",
       "    <tr>\n",
       "      <th>10</th>\n",
       "      <td>Tags1_Closed by Horizzon</td>\n",
       "      <td>1.70</td>\n",
       "    </tr>\n",
       "    <tr>\n",
       "      <th>8</th>\n",
       "      <td>LastActivity_SMS Sent</td>\n",
       "      <td>1.68</td>\n",
       "    </tr>\n",
       "    <tr>\n",
       "      <th>11</th>\n",
       "      <td>Tags1_Interested in other courses</td>\n",
       "      <td>1.38</td>\n",
       "    </tr>\n",
       "    <tr>\n",
       "      <th>9</th>\n",
       "      <td>Whatisyourcurrentoccupation_Working Professional</td>\n",
       "      <td>1.34</td>\n",
       "    </tr>\n",
       "    <tr>\n",
       "      <th>5</th>\n",
       "      <td>LeadSource_Welingak Website</td>\n",
       "      <td>1.28</td>\n",
       "    </tr>\n",
       "    <tr>\n",
       "      <th>12</th>\n",
       "      <td>Tags1_Lost to EINS</td>\n",
       "      <td>1.20</td>\n",
       "    </tr>\n",
       "    <tr>\n",
       "      <th>7</th>\n",
       "      <td>LastActivity_Page Visited on Website</td>\n",
       "      <td>1.20</td>\n",
       "    </tr>\n",
       "    <tr>\n",
       "      <th>6</th>\n",
       "      <td>DoNotEmail_Yes</td>\n",
       "      <td>1.15</td>\n",
       "    </tr>\n",
       "    <tr>\n",
       "      <th>19</th>\n",
       "      <td>LastNotableActivity_Olark Chat Conversation</td>\n",
       "      <td>1.09</td>\n",
       "    </tr>\n",
       "    <tr>\n",
       "      <th>17</th>\n",
       "      <td>LastNotableActivity_Email Link Clicked</td>\n",
       "      <td>1.05</td>\n",
       "    </tr>\n",
       "  </tbody>\n",
       "</table>\n",
       "</div>"
      ],
      "text/plain": [
       "                                            Features   VIF\n",
       "2                 LeadOrigin_Landing Page Submission  3.51\n",
       "13                               Tags1_Not Specified  3.45\n",
       "16         Tags1_Will revert after reading the email  3.29\n",
       "1                        Total Time Spent on Website  2.42\n",
       "4                              LeadSource_Olark Chat  2.19\n",
       "3                           LeadOrigin_Lead Add Form  2.13\n",
       "14                                  Tags1_Other_Tags  2.02\n",
       "18                      LastNotableActivity_Modified  1.95\n",
       "15                                     Tags1_Ringing  1.79\n",
       "0                                        TotalVisits  1.72\n",
       "10                          Tags1_Closed by Horizzon  1.70\n",
       "8                              LastActivity_SMS Sent  1.68\n",
       "11                 Tags1_Interested in other courses  1.38\n",
       "9   Whatisyourcurrentoccupation_Working Professional  1.34\n",
       "5                        LeadSource_Welingak Website  1.28\n",
       "12                                Tags1_Lost to EINS  1.20\n",
       "7               LastActivity_Page Visited on Website  1.20\n",
       "6                                     DoNotEmail_Yes  1.15\n",
       "19       LastNotableActivity_Olark Chat Conversation  1.09\n",
       "17            LastNotableActivity_Email Link Clicked  1.05"
      ]
     },
     "execution_count": 436,
     "metadata": {},
     "output_type": "execute_result"
    }
   ],
   "source": [
    "vif3=pd.DataFrame()\n",
    "vif3['Features']=X_train_rfe5.columns\n",
    "vif3['VIF']=[variance_inflation_factor(X_train_rfe5.values,i)for i in range(X_train_rfe5.shape[1])]\n",
    "vif3['VIF']=round(vif3['VIF'],2)\n",
    "vif3=vif3.sort_values(by='VIF',ascending=False)\n",
    "vif3"
   ]
  },
  {
   "cell_type": "markdown",
   "id": "07578439",
   "metadata": {},
   "source": [
    "### Accuracy in 1st case was 93.02% in 2nd case was 93.01% in the 3rd case was 92.97% and in the final selected case based on p values and VIF it was 92.92%.Accuracy has not changed with dropping variables"
   ]
  },
  {
   "cell_type": "code",
   "execution_count": 437,
   "id": "b4bea976",
   "metadata": {},
   "outputs": [],
   "source": [
    "TP = confusion4[1,1] # true positive \n",
    "TN = confusion4[0,0] # true negatives\n",
    "FP = confusion4[0,1] # false positives\n",
    "FN = confusion4[1,0] # false negatives"
   ]
  },
  {
   "cell_type": "code",
   "execution_count": 438,
   "id": "3a8f67c4",
   "metadata": {},
   "outputs": [
    {
     "name": "stdout",
     "output_type": "stream",
     "text": [
      "0.8828061638280617\n"
     ]
    }
   ],
   "source": [
    "Sensitivity=float(TP/(TP+FN))\n",
    "print(Sensitivity)"
   ]
  },
  {
   "cell_type": "code",
   "execution_count": 439,
   "id": "c2d008fb",
   "metadata": {},
   "outputs": [
    {
     "name": "stdout",
     "output_type": "stream",
     "text": [
      "0.9577711144427786\n"
     ]
    }
   ],
   "source": [
    "Specificity=float(TN/(TN+FP))\n",
    "print(Specificity)"
   ]
  },
  {
   "cell_type": "code",
   "execution_count": 440,
   "id": "af7dff22",
   "metadata": {},
   "outputs": [
    {
     "data": {
      "image/png": "[encoded data removed]",
      "text/plain": [
       "<Figure size 360x360 with 1 Axes>"
      ]
     },
     "metadata": {
      "needs_background": "light"
     },
     "output_type": "display_data"
    }
   ],
   "source": [
    "# Defining the function to plot the ROC curve\n",
    "def draw_roc( actual, probs ):\n",
    "    fpr, tpr, thresholds = metrics.roc_curve( actual, probs,\n",
    "                                              drop_intermediate = False )\n",
    "    auc_score = metrics.roc_auc_score( actual, probs )\n",
    "    plt.figure(figsize=(5, 5))\n",
    "    plt.plot( fpr, tpr, label='ROC curve (area = %0.2f)' % auc_score )\n",
    "    plt.plot([0, 1], [0, 1], 'k--')\n",
    "    plt.xlim([0.0, 1.0])\n",
    "    plt.ylim([0.0, 1.05])\n",
    "    plt.xlabel('False Positive Rate or [1 - True Negative Rate]')\n",
    "    plt.ylabel('True Positive Rate')\n",
    "    plt.title('Receiver operating characteristic example')\n",
    "    plt.legend(loc=\"lower right\")\n",
    "    plt.show()\n",
    "\n",
    "    return None\n",
    "\n",
    "\n",
    "draw_roc(Y_train_pred_final4.Converted, Y_train_pred_final4.Converted_Prob)\n",
    "# AUC is 0.97 and the curve is far away from the 45 degree line indicating a good fit"
   ]
  },
  {
   "cell_type": "code",
   "execution_count": 441,
   "id": "391981c1",
   "metadata": {},
   "outputs": [],
   "source": [
    "# Precision and Recall Statistics \n",
    "from sklearn.metrics import precision_score,recall_score"
   ]
  },
  {
   "cell_type": "code",
   "execution_count": 442,
   "id": "9c884903",
   "metadata": {},
   "outputs": [
    {
     "name": "stdout",
     "output_type": "stream",
     "text": [
      "0.9279624893435635\n"
     ]
    }
   ],
   "source": [
    "Precision=float(TP/(TP+FP))\n",
    "print(Precision)"
   ]
  },
  {
   "cell_type": "code",
   "execution_count": 443,
   "id": "33458295",
   "metadata": {},
   "outputs": [
    {
     "name": "stdout",
     "output_type": "stream",
     "text": [
      "0.8828061638280617\n"
     ]
    }
   ],
   "source": [
    "Recall=float(TP/(TP+FN))\n",
    "print(Recall)"
   ]
  },
  {
   "cell_type": "markdown",
   "id": "e955420d",
   "metadata": {},
   "source": [
    "Accuracy-92.92%\n",
    "Sensitivity-88.28%\n",
    "Specificity-95.77%\n",
    "Precision-92.79%\n",
    "Recall-88.28%"
   ]
  },
  {
   "cell_type": "markdown",
   "id": "4719a5d9",
   "metadata": {},
   "source": [
    "# Finding optimal probability threshold based on sensitivity-specificity trade off"
   ]
  },
  {
   "cell_type": "code",
   "execution_count": 444,
   "id": "d7962119",
   "metadata": {},
   "outputs": [
    {
     "data": {
      "text/html": [
       "<div>\n",
       "<style scoped>\n",
       "    .dataframe tbody tr th:only-of-type {\n",
       "        vertical-align: middle;\n",
       "    }\n",
       "\n",
       "    .dataframe tbody tr th {\n",
       "        vertical-align: top;\n",
       "    }\n",
       "\n",
       "    .dataframe thead th {\n",
       "        text-align: right;\n",
       "    }\n",
       "</style>\n",
       "<table border=\"1\" class=\"dataframe\">\n",
       "  <thead>\n",
       "    <tr style=\"text-align: right;\">\n",
       "      <th></th>\n",
       "      <th>Converted</th>\n",
       "      <th>Converted_Prob</th>\n",
       "      <th>Prospect ID</th>\n",
       "      <th>predicted</th>\n",
       "      <th>0.0</th>\n",
       "      <th>0.1</th>\n",
       "      <th>0.2</th>\n",
       "      <th>0.3</th>\n",
       "      <th>0.4</th>\n",
       "      <th>0.5</th>\n",
       "      <th>0.6</th>\n",
       "      <th>0.7</th>\n",
       "      <th>0.8</th>\n",
       "      <th>0.9</th>\n",
       "    </tr>\n",
       "  </thead>\n",
       "  <tbody>\n",
       "    <tr>\n",
       "      <th>1871</th>\n",
       "      <td>0</td>\n",
       "      <td>0.009667</td>\n",
       "      <td>1871</td>\n",
       "      <td>0</td>\n",
       "      <td>1</td>\n",
       "      <td>0</td>\n",
       "      <td>0</td>\n",
       "      <td>0</td>\n",
       "      <td>0</td>\n",
       "      <td>0</td>\n",
       "      <td>0</td>\n",
       "      <td>0</td>\n",
       "      <td>0</td>\n",
       "      <td>0</td>\n",
       "    </tr>\n",
       "    <tr>\n",
       "      <th>6795</th>\n",
       "      <td>0</td>\n",
       "      <td>0.139416</td>\n",
       "      <td>6795</td>\n",
       "      <td>0</td>\n",
       "      <td>1</td>\n",
       "      <td>1</td>\n",
       "      <td>0</td>\n",
       "      <td>0</td>\n",
       "      <td>0</td>\n",
       "      <td>0</td>\n",
       "      <td>0</td>\n",
       "      <td>0</td>\n",
       "      <td>0</td>\n",
       "      <td>0</td>\n",
       "    </tr>\n",
       "    <tr>\n",
       "      <th>3516</th>\n",
       "      <td>0</td>\n",
       "      <td>0.013346</td>\n",
       "      <td>3516</td>\n",
       "      <td>0</td>\n",
       "      <td>1</td>\n",
       "      <td>0</td>\n",
       "      <td>0</td>\n",
       "      <td>0</td>\n",
       "      <td>0</td>\n",
       "      <td>0</td>\n",
       "      <td>0</td>\n",
       "      <td>0</td>\n",
       "      <td>0</td>\n",
       "      <td>0</td>\n",
       "    </tr>\n",
       "    <tr>\n",
       "      <th>8105</th>\n",
       "      <td>0</td>\n",
       "      <td>0.144684</td>\n",
       "      <td>8105</td>\n",
       "      <td>0</td>\n",
       "      <td>1</td>\n",
       "      <td>1</td>\n",
       "      <td>0</td>\n",
       "      <td>0</td>\n",
       "      <td>0</td>\n",
       "      <td>0</td>\n",
       "      <td>0</td>\n",
       "      <td>0</td>\n",
       "      <td>0</td>\n",
       "      <td>0</td>\n",
       "    </tr>\n",
       "    <tr>\n",
       "      <th>3934</th>\n",
       "      <td>0</td>\n",
       "      <td>0.049567</td>\n",
       "      <td>3934</td>\n",
       "      <td>0</td>\n",
       "      <td>1</td>\n",
       "      <td>0</td>\n",
       "      <td>0</td>\n",
       "      <td>0</td>\n",
       "      <td>0</td>\n",
       "      <td>0</td>\n",
       "      <td>0</td>\n",
       "      <td>0</td>\n",
       "      <td>0</td>\n",
       "      <td>0</td>\n",
       "    </tr>\n",
       "    <tr>\n",
       "      <th>4844</th>\n",
       "      <td>1</td>\n",
       "      <td>0.999374</td>\n",
       "      <td>4844</td>\n",
       "      <td>1</td>\n",
       "      <td>1</td>\n",
       "      <td>1</td>\n",
       "      <td>1</td>\n",
       "      <td>1</td>\n",
       "      <td>1</td>\n",
       "      <td>1</td>\n",
       "      <td>1</td>\n",
       "      <td>1</td>\n",
       "      <td>1</td>\n",
       "      <td>1</td>\n",
       "    </tr>\n",
       "    <tr>\n",
       "      <th>3297</th>\n",
       "      <td>0</td>\n",
       "      <td>0.002863</td>\n",
       "      <td>3297</td>\n",
       "      <td>0</td>\n",
       "      <td>1</td>\n",
       "      <td>0</td>\n",
       "      <td>0</td>\n",
       "      <td>0</td>\n",
       "      <td>0</td>\n",
       "      <td>0</td>\n",
       "      <td>0</td>\n",
       "      <td>0</td>\n",
       "      <td>0</td>\n",
       "      <td>0</td>\n",
       "    </tr>\n",
       "    <tr>\n",
       "      <th>8071</th>\n",
       "      <td>1</td>\n",
       "      <td>0.998194</td>\n",
       "      <td>8071</td>\n",
       "      <td>1</td>\n",
       "      <td>1</td>\n",
       "      <td>1</td>\n",
       "      <td>1</td>\n",
       "      <td>1</td>\n",
       "      <td>1</td>\n",
       "      <td>1</td>\n",
       "      <td>1</td>\n",
       "      <td>1</td>\n",
       "      <td>1</td>\n",
       "      <td>1</td>\n",
       "    </tr>\n",
       "    <tr>\n",
       "      <th>987</th>\n",
       "      <td>0</td>\n",
       "      <td>0.104845</td>\n",
       "      <td>987</td>\n",
       "      <td>0</td>\n",
       "      <td>1</td>\n",
       "      <td>1</td>\n",
       "      <td>0</td>\n",
       "      <td>0</td>\n",
       "      <td>0</td>\n",
       "      <td>0</td>\n",
       "      <td>0</td>\n",
       "      <td>0</td>\n",
       "      <td>0</td>\n",
       "      <td>0</td>\n",
       "    </tr>\n",
       "    <tr>\n",
       "      <th>7423</th>\n",
       "      <td>1</td>\n",
       "      <td>0.999405</td>\n",
       "      <td>7423</td>\n",
       "      <td>1</td>\n",
       "      <td>1</td>\n",
       "      <td>1</td>\n",
       "      <td>1</td>\n",
       "      <td>1</td>\n",
       "      <td>1</td>\n",
       "      <td>1</td>\n",
       "      <td>1</td>\n",
       "      <td>1</td>\n",
       "      <td>1</td>\n",
       "      <td>1</td>\n",
       "    </tr>\n",
       "    <tr>\n",
       "      <th>1032</th>\n",
       "      <td>1</td>\n",
       "      <td>0.866729</td>\n",
       "      <td>1032</td>\n",
       "      <td>1</td>\n",
       "      <td>1</td>\n",
       "      <td>1</td>\n",
       "      <td>1</td>\n",
       "      <td>1</td>\n",
       "      <td>1</td>\n",
       "      <td>1</td>\n",
       "      <td>1</td>\n",
       "      <td>1</td>\n",
       "      <td>1</td>\n",
       "      <td>0</td>\n",
       "    </tr>\n",
       "    <tr>\n",
       "      <th>6542</th>\n",
       "      <td>0</td>\n",
       "      <td>0.386758</td>\n",
       "      <td>6542</td>\n",
       "      <td>0</td>\n",
       "      <td>1</td>\n",
       "      <td>1</td>\n",
       "      <td>1</td>\n",
       "      <td>1</td>\n",
       "      <td>0</td>\n",
       "      <td>0</td>\n",
       "      <td>0</td>\n",
       "      <td>0</td>\n",
       "      <td>0</td>\n",
       "      <td>0</td>\n",
       "    </tr>\n",
       "    <tr>\n",
       "      <th>4317</th>\n",
       "      <td>1</td>\n",
       "      <td>0.875574</td>\n",
       "      <td>4317</td>\n",
       "      <td>1</td>\n",
       "      <td>1</td>\n",
       "      <td>1</td>\n",
       "      <td>1</td>\n",
       "      <td>1</td>\n",
       "      <td>1</td>\n",
       "      <td>1</td>\n",
       "      <td>1</td>\n",
       "      <td>1</td>\n",
       "      <td>1</td>\n",
       "      <td>0</td>\n",
       "    </tr>\n",
       "    <tr>\n",
       "      <th>6472</th>\n",
       "      <td>1</td>\n",
       "      <td>0.975072</td>\n",
       "      <td>6472</td>\n",
       "      <td>1</td>\n",
       "      <td>1</td>\n",
       "      <td>1</td>\n",
       "      <td>1</td>\n",
       "      <td>1</td>\n",
       "      <td>1</td>\n",
       "      <td>1</td>\n",
       "      <td>1</td>\n",
       "      <td>1</td>\n",
       "      <td>1</td>\n",
       "      <td>1</td>\n",
       "    </tr>\n",
       "    <tr>\n",
       "      <th>712</th>\n",
       "      <td>0</td>\n",
       "      <td>0.001170</td>\n",
       "      <td>712</td>\n",
       "      <td>0</td>\n",
       "      <td>1</td>\n",
       "      <td>0</td>\n",
       "      <td>0</td>\n",
       "      <td>0</td>\n",
       "      <td>0</td>\n",
       "      <td>0</td>\n",
       "      <td>0</td>\n",
       "      <td>0</td>\n",
       "      <td>0</td>\n",
       "      <td>0</td>\n",
       "    </tr>\n",
       "    <tr>\n",
       "      <th>3960</th>\n",
       "      <td>0</td>\n",
       "      <td>0.216888</td>\n",
       "      <td>3960</td>\n",
       "      <td>0</td>\n",
       "      <td>1</td>\n",
       "      <td>1</td>\n",
       "      <td>1</td>\n",
       "      <td>0</td>\n",
       "      <td>0</td>\n",
       "      <td>0</td>\n",
       "      <td>0</td>\n",
       "      <td>0</td>\n",
       "      <td>0</td>\n",
       "      <td>0</td>\n",
       "    </tr>\n",
       "    <tr>\n",
       "      <th>4654</th>\n",
       "      <td>0</td>\n",
       "      <td>0.216888</td>\n",
       "      <td>4654</td>\n",
       "      <td>0</td>\n",
       "      <td>1</td>\n",
       "      <td>1</td>\n",
       "      <td>1</td>\n",
       "      <td>0</td>\n",
       "      <td>0</td>\n",
       "      <td>0</td>\n",
       "      <td>0</td>\n",
       "      <td>0</td>\n",
       "      <td>0</td>\n",
       "      <td>0</td>\n",
       "    </tr>\n",
       "    <tr>\n",
       "      <th>5902</th>\n",
       "      <td>0</td>\n",
       "      <td>0.009322</td>\n",
       "      <td>5902</td>\n",
       "      <td>0</td>\n",
       "      <td>1</td>\n",
       "      <td>0</td>\n",
       "      <td>0</td>\n",
       "      <td>0</td>\n",
       "      <td>0</td>\n",
       "      <td>0</td>\n",
       "      <td>0</td>\n",
       "      <td>0</td>\n",
       "      <td>0</td>\n",
       "      <td>0</td>\n",
       "    </tr>\n",
       "    <tr>\n",
       "      <th>4691</th>\n",
       "      <td>0</td>\n",
       "      <td>0.216888</td>\n",
       "      <td>4691</td>\n",
       "      <td>0</td>\n",
       "      <td>1</td>\n",
       "      <td>1</td>\n",
       "      <td>1</td>\n",
       "      <td>0</td>\n",
       "      <td>0</td>\n",
       "      <td>0</td>\n",
       "      <td>0</td>\n",
       "      <td>0</td>\n",
       "      <td>0</td>\n",
       "      <td>0</td>\n",
       "    </tr>\n",
       "    <tr>\n",
       "      <th>4341</th>\n",
       "      <td>1</td>\n",
       "      <td>0.921664</td>\n",
       "      <td>4341</td>\n",
       "      <td>1</td>\n",
       "      <td>1</td>\n",
       "      <td>1</td>\n",
       "      <td>1</td>\n",
       "      <td>1</td>\n",
       "      <td>1</td>\n",
       "      <td>1</td>\n",
       "      <td>1</td>\n",
       "      <td>1</td>\n",
       "      <td>1</td>\n",
       "      <td>1</td>\n",
       "    </tr>\n",
       "    <tr>\n",
       "      <th>3677</th>\n",
       "      <td>1</td>\n",
       "      <td>0.434541</td>\n",
       "      <td>3677</td>\n",
       "      <td>0</td>\n",
       "      <td>1</td>\n",
       "      <td>1</td>\n",
       "      <td>1</td>\n",
       "      <td>1</td>\n",
       "      <td>1</td>\n",
       "      <td>0</td>\n",
       "      <td>0</td>\n",
       "      <td>0</td>\n",
       "      <td>0</td>\n",
       "      <td>0</td>\n",
       "    </tr>\n",
       "    <tr>\n",
       "      <th>1050</th>\n",
       "      <td>1</td>\n",
       "      <td>0.976997</td>\n",
       "      <td>1050</td>\n",
       "      <td>1</td>\n",
       "      <td>1</td>\n",
       "      <td>1</td>\n",
       "      <td>1</td>\n",
       "      <td>1</td>\n",
       "      <td>1</td>\n",
       "      <td>1</td>\n",
       "      <td>1</td>\n",
       "      <td>1</td>\n",
       "      <td>1</td>\n",
       "      <td>1</td>\n",
       "    </tr>\n",
       "    <tr>\n",
       "      <th>9115</th>\n",
       "      <td>1</td>\n",
       "      <td>0.996229</td>\n",
       "      <td>9115</td>\n",
       "      <td>1</td>\n",
       "      <td>1</td>\n",
       "      <td>1</td>\n",
       "      <td>1</td>\n",
       "      <td>1</td>\n",
       "      <td>1</td>\n",
       "      <td>1</td>\n",
       "      <td>1</td>\n",
       "      <td>1</td>\n",
       "      <td>1</td>\n",
       "      <td>1</td>\n",
       "    </tr>\n",
       "    <tr>\n",
       "      <th>2878</th>\n",
       "      <td>1</td>\n",
       "      <td>0.999667</td>\n",
       "      <td>2878</td>\n",
       "      <td>1</td>\n",
       "      <td>1</td>\n",
       "      <td>1</td>\n",
       "      <td>1</td>\n",
       "      <td>1</td>\n",
       "      <td>1</td>\n",
       "      <td>1</td>\n",
       "      <td>1</td>\n",
       "      <td>1</td>\n",
       "      <td>1</td>\n",
       "      <td>1</td>\n",
       "    </tr>\n",
       "    <tr>\n",
       "      <th>6167</th>\n",
       "      <td>1</td>\n",
       "      <td>0.993663</td>\n",
       "      <td>6167</td>\n",
       "      <td>1</td>\n",
       "      <td>1</td>\n",
       "      <td>1</td>\n",
       "      <td>1</td>\n",
       "      <td>1</td>\n",
       "      <td>1</td>\n",
       "      <td>1</td>\n",
       "      <td>1</td>\n",
       "      <td>1</td>\n",
       "      <td>1</td>\n",
       "      <td>1</td>\n",
       "    </tr>\n",
       "    <tr>\n",
       "      <th>9031</th>\n",
       "      <td>1</td>\n",
       "      <td>0.992568</td>\n",
       "      <td>9031</td>\n",
       "      <td>1</td>\n",
       "      <td>1</td>\n",
       "      <td>1</td>\n",
       "      <td>1</td>\n",
       "      <td>1</td>\n",
       "      <td>1</td>\n",
       "      <td>1</td>\n",
       "      <td>1</td>\n",
       "      <td>1</td>\n",
       "      <td>1</td>\n",
       "      <td>1</td>\n",
       "    </tr>\n",
       "    <tr>\n",
       "      <th>2175</th>\n",
       "      <td>0</td>\n",
       "      <td>0.084412</td>\n",
       "      <td>2175</td>\n",
       "      <td>0</td>\n",
       "      <td>1</td>\n",
       "      <td>0</td>\n",
       "      <td>0</td>\n",
       "      <td>0</td>\n",
       "      <td>0</td>\n",
       "      <td>0</td>\n",
       "      <td>0</td>\n",
       "      <td>0</td>\n",
       "      <td>0</td>\n",
       "      <td>0</td>\n",
       "    </tr>\n",
       "    <tr>\n",
       "      <th>3147</th>\n",
       "      <td>1</td>\n",
       "      <td>0.999124</td>\n",
       "      <td>3147</td>\n",
       "      <td>1</td>\n",
       "      <td>1</td>\n",
       "      <td>1</td>\n",
       "      <td>1</td>\n",
       "      <td>1</td>\n",
       "      <td>1</td>\n",
       "      <td>1</td>\n",
       "      <td>1</td>\n",
       "      <td>1</td>\n",
       "      <td>1</td>\n",
       "      <td>1</td>\n",
       "    </tr>\n",
       "    <tr>\n",
       "      <th>8886</th>\n",
       "      <td>1</td>\n",
       "      <td>0.994666</td>\n",
       "      <td>8886</td>\n",
       "      <td>1</td>\n",
       "      <td>1</td>\n",
       "      <td>1</td>\n",
       "      <td>1</td>\n",
       "      <td>1</td>\n",
       "      <td>1</td>\n",
       "      <td>1</td>\n",
       "      <td>1</td>\n",
       "      <td>1</td>\n",
       "      <td>1</td>\n",
       "      <td>1</td>\n",
       "    </tr>\n",
       "    <tr>\n",
       "      <th>7944</th>\n",
       "      <td>0</td>\n",
       "      <td>0.008817</td>\n",
       "      <td>7944</td>\n",
       "      <td>0</td>\n",
       "      <td>1</td>\n",
       "      <td>0</td>\n",
       "      <td>0</td>\n",
       "      <td>0</td>\n",
       "      <td>0</td>\n",
       "      <td>0</td>\n",
       "      <td>0</td>\n",
       "      <td>0</td>\n",
       "      <td>0</td>\n",
       "      <td>0</td>\n",
       "    </tr>\n",
       "  </tbody>\n",
       "</table>\n",
       "</div>"
      ],
      "text/plain": [
       "      Converted  Converted_Prob  Prospect ID  predicted  0.0  0.1  0.2  0.3  \\\n",
       "1871          0        0.009667         1871          0    1    0    0    0   \n",
       "6795          0        0.139416         6795          0    1    1    0    0   \n",
       "3516          0        0.013346         3516          0    1    0    0    0   \n",
       "8105          0        0.144684         8105          0    1    1    0    0   \n",
       "3934          0        0.049567         3934          0    1    0    0    0   \n",
       "4844          1        0.999374         4844          1    1    1    1    1   \n",
       "3297          0        0.002863         3297          0    1    0    0    0   \n",
       "8071          1        0.998194         8071          1    1    1    1    1   \n",
       "987           0        0.104845          987          0    1    1    0    0   \n",
       "7423          1        0.999405         7423          1    1    1    1    1   \n",
       "1032          1        0.866729         1032          1    1    1    1    1   \n",
       "6542          0        0.386758         6542          0    1    1    1    1   \n",
       "4317          1        0.875574         4317          1    1    1    1    1   \n",
       "6472          1        0.975072         6472          1    1    1    1    1   \n",
       "712           0        0.001170          712          0    1    0    0    0   \n",
       "3960          0        0.216888         3960          0    1    1    1    0   \n",
       "4654          0        0.216888         4654          0    1    1    1    0   \n",
       "5902          0        0.009322         5902          0    1    0    0    0   \n",
       "4691          0        0.216888         4691          0    1    1    1    0   \n",
       "4341          1        0.921664         4341          1    1    1    1    1   \n",
       "3677          1        0.434541         3677          0    1    1    1    1   \n",
       "1050          1        0.976997         1050          1    1    1    1    1   \n",
       "9115          1        0.996229         9115          1    1    1    1    1   \n",
       "2878          1        0.999667         2878          1    1    1    1    1   \n",
       "6167          1        0.993663         6167          1    1    1    1    1   \n",
       "9031          1        0.992568         9031          1    1    1    1    1   \n",
       "2175          0        0.084412         2175          0    1    0    0    0   \n",
       "3147          1        0.999124         3147          1    1    1    1    1   \n",
       "8886          1        0.994666         8886          1    1    1    1    1   \n",
       "7944          0        0.008817         7944          0    1    0    0    0   \n",
       "\n",
       "      0.4  0.5  0.6  0.7  0.8  0.9  \n",
       "1871    0    0    0    0    0    0  \n",
       "6795    0    0    0    0    0    0  \n",
       "3516    0    0    0    0    0    0  \n",
       "8105    0    0    0    0    0    0  \n",
       "3934    0    0    0    0    0    0  \n",
       "4844    1    1    1    1    1    1  \n",
       "3297    0    0    0    0    0    0  \n",
       "8071    1    1    1    1    1    1  \n",
       "987     0    0    0    0    0    0  \n",
       "7423    1    1    1    1    1    1  \n",
       "1032    1    1    1    1    1    0  \n",
       "6542    0    0    0    0    0    0  \n",
       "4317    1    1    1    1    1    0  \n",
       "6472    1    1    1    1    1    1  \n",
       "712     0    0    0    0    0    0  \n",
       "3960    0    0    0    0    0    0  \n",
       "4654    0    0    0    0    0    0  \n",
       "5902    0    0    0    0    0    0  \n",
       "4691    0    0    0    0    0    0  \n",
       "4341    1    1    1    1    1    1  \n",
       "3677    1    0    0    0    0    0  \n",
       "1050    1    1    1    1    1    1  \n",
       "9115    1    1    1    1    1    1  \n",
       "2878    1    1    1    1    1    1  \n",
       "6167    1    1    1    1    1    1  \n",
       "9031    1    1    1    1    1    1  \n",
       "2175    0    0    0    0    0    0  \n",
       "3147    1    1    1    1    1    1  \n",
       "8886    1    1    1    1    1    1  \n",
       "7944    0    0    0    0    0    0  "
      ]
     },
     "execution_count": 444,
     "metadata": {},
     "output_type": "execute_result"
    }
   ],
   "source": [
    "# Finding optimal probability threshold based on sensitivity-specificity trade off\n",
    "numbers=[float(x)/10 for x in range(10)]\n",
    "for i in numbers:\n",
    "    Y_train_pred_final4[i]=Y_train_pred_final4.Converted_Prob.map(lambda x:1 if x>i else 0)\n",
    "Y_train_pred_final4.head(30)"
   ]
  },
  {
   "cell_type": "code",
   "execution_count": 445,
   "id": "123d86a4",
   "metadata": {},
   "outputs": [
    {
     "name": "stdout",
     "output_type": "stream",
     "text": [
      "     Probability  Accuracy  Sensitivity  Specificity\n",
      "0.1          0.1  0.853741     0.973642     0.779860\n",
      "0.2          0.2  0.895795     0.948500     0.863318\n",
      "0.3          0.3  0.923624     0.912814     0.930285\n",
      "0.4          0.4  0.928262     0.899432     0.946027\n",
      "0.5          0.5  0.929190     0.882806     0.957771\n",
      "0.6          0.6  0.927025     0.859692     0.968516\n",
      "0.7          0.7  0.913729     0.809408     0.978011\n",
      "0.8          0.8  0.906772     0.778994     0.985507\n",
      "0.9          0.9  0.887137     0.719384     0.990505\n"
     ]
    }
   ],
   "source": [
    "# Calculating accuracy sensitivity and specificity for various probability cutoffs.\n",
    "cutoff_df = pd.DataFrame(columns = ['Probability','Accuracy','Sensitivity','Specificity'])\n",
    "num = [0.1,0.2,0.3,0.4,0.5,0.6,0.7,0.8,0.9]\n",
    "for i in num:\n",
    "    cm4 = metrics.confusion_matrix(Y_train_pred_final4.Converted, Y_train_pred_final4[i] )\n",
    "    total4=sum(sum(cm4))\n",
    "    Accuracy = (cm4[0,0]+cm4[1,1])/total4   \n",
    "    Specificity = cm4[0,0]/(cm4[0,0]+cm4[0,1])\n",
    "    Sensitivity = cm4[1,1]/(cm4[1,0]+cm4[1,1])\n",
    "    cutoff_df.loc[i] =[ i ,Accuracy,Sensitivity,Specificity]\n",
    "print(cutoff_df)"
   ]
  },
  {
   "cell_type": "code",
   "execution_count": 446,
   "id": "1781f817",
   "metadata": {},
   "outputs": [
    {
     "data": {
      "image/png": "[encoded data removed]",
      "text/plain": [
       "<Figure size 432x288 with 1 Axes>"
      ]
     },
     "metadata": {
      "needs_background": "light"
     },
     "output_type": "display_data"
    }
   ],
   "source": [
    "cutoff_df.plot.line(x='Probability', y=['Accuracy','Sensitivity','Specificity'])\n",
    "plt.show()\n",
    "# Optimal Probability threhold is at 0.3 where accuracy,sensitivity and specificity intersect"
   ]
  },
  {
   "cell_type": "code",
   "execution_count": 447,
   "id": "2ee559b2",
   "metadata": {},
   "outputs": [
    {
     "data": {
      "text/html": [
       "<div>\n",
       "<style scoped>\n",
       "    .dataframe tbody tr th:only-of-type {\n",
       "        vertical-align: middle;\n",
       "    }\n",
       "\n",
       "    .dataframe tbody tr th {\n",
       "        vertical-align: top;\n",
       "    }\n",
       "\n",
       "    .dataframe thead th {\n",
       "        text-align: right;\n",
       "    }\n",
       "</style>\n",
       "<table border=\"1\" class=\"dataframe\">\n",
       "  <thead>\n",
       "    <tr style=\"text-align: right;\">\n",
       "      <th></th>\n",
       "      <th>Converted</th>\n",
       "      <th>Converted_Prob</th>\n",
       "      <th>Prospect ID</th>\n",
       "      <th>predicted</th>\n",
       "      <th>0.0</th>\n",
       "      <th>0.1</th>\n",
       "      <th>0.2</th>\n",
       "      <th>0.3</th>\n",
       "      <th>0.4</th>\n",
       "      <th>0.5</th>\n",
       "      <th>0.6</th>\n",
       "      <th>0.7</th>\n",
       "      <th>0.8</th>\n",
       "      <th>0.9</th>\n",
       "      <th>final_Predicted</th>\n",
       "    </tr>\n",
       "  </thead>\n",
       "  <tbody>\n",
       "    <tr>\n",
       "      <th>1871</th>\n",
       "      <td>0</td>\n",
       "      <td>0.009667</td>\n",
       "      <td>1871</td>\n",
       "      <td>0</td>\n",
       "      <td>1</td>\n",
       "      <td>0</td>\n",
       "      <td>0</td>\n",
       "      <td>0</td>\n",
       "      <td>0</td>\n",
       "      <td>0</td>\n",
       "      <td>0</td>\n",
       "      <td>0</td>\n",
       "      <td>0</td>\n",
       "      <td>0</td>\n",
       "      <td>0</td>\n",
       "    </tr>\n",
       "    <tr>\n",
       "      <th>6795</th>\n",
       "      <td>0</td>\n",
       "      <td>0.139416</td>\n",
       "      <td>6795</td>\n",
       "      <td>0</td>\n",
       "      <td>1</td>\n",
       "      <td>1</td>\n",
       "      <td>0</td>\n",
       "      <td>0</td>\n",
       "      <td>0</td>\n",
       "      <td>0</td>\n",
       "      <td>0</td>\n",
       "      <td>0</td>\n",
       "      <td>0</td>\n",
       "      <td>0</td>\n",
       "      <td>0</td>\n",
       "    </tr>\n",
       "    <tr>\n",
       "      <th>3516</th>\n",
       "      <td>0</td>\n",
       "      <td>0.013346</td>\n",
       "      <td>3516</td>\n",
       "      <td>0</td>\n",
       "      <td>1</td>\n",
       "      <td>0</td>\n",
       "      <td>0</td>\n",
       "      <td>0</td>\n",
       "      <td>0</td>\n",
       "      <td>0</td>\n",
       "      <td>0</td>\n",
       "      <td>0</td>\n",
       "      <td>0</td>\n",
       "      <td>0</td>\n",
       "      <td>0</td>\n",
       "    </tr>\n",
       "    <tr>\n",
       "      <th>8105</th>\n",
       "      <td>0</td>\n",
       "      <td>0.144684</td>\n",
       "      <td>8105</td>\n",
       "      <td>0</td>\n",
       "      <td>1</td>\n",
       "      <td>1</td>\n",
       "      <td>0</td>\n",
       "      <td>0</td>\n",
       "      <td>0</td>\n",
       "      <td>0</td>\n",
       "      <td>0</td>\n",
       "      <td>0</td>\n",
       "      <td>0</td>\n",
       "      <td>0</td>\n",
       "      <td>0</td>\n",
       "    </tr>\n",
       "    <tr>\n",
       "      <th>3934</th>\n",
       "      <td>0</td>\n",
       "      <td>0.049567</td>\n",
       "      <td>3934</td>\n",
       "      <td>0</td>\n",
       "      <td>1</td>\n",
       "      <td>0</td>\n",
       "      <td>0</td>\n",
       "      <td>0</td>\n",
       "      <td>0</td>\n",
       "      <td>0</td>\n",
       "      <td>0</td>\n",
       "      <td>0</td>\n",
       "      <td>0</td>\n",
       "      <td>0</td>\n",
       "      <td>0</td>\n",
       "    </tr>\n",
       "    <tr>\n",
       "      <th>4844</th>\n",
       "      <td>1</td>\n",
       "      <td>0.999374</td>\n",
       "      <td>4844</td>\n",
       "      <td>1</td>\n",
       "      <td>1</td>\n",
       "      <td>1</td>\n",
       "      <td>1</td>\n",
       "      <td>1</td>\n",
       "      <td>1</td>\n",
       "      <td>1</td>\n",
       "      <td>1</td>\n",
       "      <td>1</td>\n",
       "      <td>1</td>\n",
       "      <td>1</td>\n",
       "      <td>1</td>\n",
       "    </tr>\n",
       "    <tr>\n",
       "      <th>3297</th>\n",
       "      <td>0</td>\n",
       "      <td>0.002863</td>\n",
       "      <td>3297</td>\n",
       "      <td>0</td>\n",
       "      <td>1</td>\n",
       "      <td>0</td>\n",
       "      <td>0</td>\n",
       "      <td>0</td>\n",
       "      <td>0</td>\n",
       "      <td>0</td>\n",
       "      <td>0</td>\n",
       "      <td>0</td>\n",
       "      <td>0</td>\n",
       "      <td>0</td>\n",
       "      <td>0</td>\n",
       "    </tr>\n",
       "    <tr>\n",
       "      <th>8071</th>\n",
       "      <td>1</td>\n",
       "      <td>0.998194</td>\n",
       "      <td>8071</td>\n",
       "      <td>1</td>\n",
       "      <td>1</td>\n",
       "      <td>1</td>\n",
       "      <td>1</td>\n",
       "      <td>1</td>\n",
       "      <td>1</td>\n",
       "      <td>1</td>\n",
       "      <td>1</td>\n",
       "      <td>1</td>\n",
       "      <td>1</td>\n",
       "      <td>1</td>\n",
       "      <td>1</td>\n",
       "    </tr>\n",
       "    <tr>\n",
       "      <th>987</th>\n",
       "      <td>0</td>\n",
       "      <td>0.104845</td>\n",
       "      <td>987</td>\n",
       "      <td>0</td>\n",
       "      <td>1</td>\n",
       "      <td>1</td>\n",
       "      <td>0</td>\n",
       "      <td>0</td>\n",
       "      <td>0</td>\n",
       "      <td>0</td>\n",
       "      <td>0</td>\n",
       "      <td>0</td>\n",
       "      <td>0</td>\n",
       "      <td>0</td>\n",
       "      <td>0</td>\n",
       "    </tr>\n",
       "    <tr>\n",
       "      <th>7423</th>\n",
       "      <td>1</td>\n",
       "      <td>0.999405</td>\n",
       "      <td>7423</td>\n",
       "      <td>1</td>\n",
       "      <td>1</td>\n",
       "      <td>1</td>\n",
       "      <td>1</td>\n",
       "      <td>1</td>\n",
       "      <td>1</td>\n",
       "      <td>1</td>\n",
       "      <td>1</td>\n",
       "      <td>1</td>\n",
       "      <td>1</td>\n",
       "      <td>1</td>\n",
       "      <td>1</td>\n",
       "    </tr>\n",
       "    <tr>\n",
       "      <th>1032</th>\n",
       "      <td>1</td>\n",
       "      <td>0.866729</td>\n",
       "      <td>1032</td>\n",
       "      <td>1</td>\n",
       "      <td>1</td>\n",
       "      <td>1</td>\n",
       "      <td>1</td>\n",
       "      <td>1</td>\n",
       "      <td>1</td>\n",
       "      <td>1</td>\n",
       "      <td>1</td>\n",
       "      <td>1</td>\n",
       "      <td>1</td>\n",
       "      <td>0</td>\n",
       "      <td>1</td>\n",
       "    </tr>\n",
       "    <tr>\n",
       "      <th>6542</th>\n",
       "      <td>0</td>\n",
       "      <td>0.386758</td>\n",
       "      <td>6542</td>\n",
       "      <td>0</td>\n",
       "      <td>1</td>\n",
       "      <td>1</td>\n",
       "      <td>1</td>\n",
       "      <td>1</td>\n",
       "      <td>0</td>\n",
       "      <td>0</td>\n",
       "      <td>0</td>\n",
       "      <td>0</td>\n",
       "      <td>0</td>\n",
       "      <td>0</td>\n",
       "      <td>1</td>\n",
       "    </tr>\n",
       "    <tr>\n",
       "      <th>4317</th>\n",
       "      <td>1</td>\n",
       "      <td>0.875574</td>\n",
       "      <td>4317</td>\n",
       "      <td>1</td>\n",
       "      <td>1</td>\n",
       "      <td>1</td>\n",
       "      <td>1</td>\n",
       "      <td>1</td>\n",
       "      <td>1</td>\n",
       "      <td>1</td>\n",
       "      <td>1</td>\n",
       "      <td>1</td>\n",
       "      <td>1</td>\n",
       "      <td>0</td>\n",
       "      <td>1</td>\n",
       "    </tr>\n",
       "    <tr>\n",
       "      <th>6472</th>\n",
       "      <td>1</td>\n",
       "      <td>0.975072</td>\n",
       "      <td>6472</td>\n",
       "      <td>1</td>\n",
       "      <td>1</td>\n",
       "      <td>1</td>\n",
       "      <td>1</td>\n",
       "      <td>1</td>\n",
       "      <td>1</td>\n",
       "      <td>1</td>\n",
       "      <td>1</td>\n",
       "      <td>1</td>\n",
       "      <td>1</td>\n",
       "      <td>1</td>\n",
       "      <td>1</td>\n",
       "    </tr>\n",
       "    <tr>\n",
       "      <th>712</th>\n",
       "      <td>0</td>\n",
       "      <td>0.001170</td>\n",
       "      <td>712</td>\n",
       "      <td>0</td>\n",
       "      <td>1</td>\n",
       "      <td>0</td>\n",
       "      <td>0</td>\n",
       "      <td>0</td>\n",
       "      <td>0</td>\n",
       "      <td>0</td>\n",
       "      <td>0</td>\n",
       "      <td>0</td>\n",
       "      <td>0</td>\n",
       "      <td>0</td>\n",
       "      <td>0</td>\n",
       "    </tr>\n",
       "    <tr>\n",
       "      <th>3960</th>\n",
       "      <td>0</td>\n",
       "      <td>0.216888</td>\n",
       "      <td>3960</td>\n",
       "      <td>0</td>\n",
       "      <td>1</td>\n",
       "      <td>1</td>\n",
       "      <td>1</td>\n",
       "      <td>0</td>\n",
       "      <td>0</td>\n",
       "      <td>0</td>\n",
       "      <td>0</td>\n",
       "      <td>0</td>\n",
       "      <td>0</td>\n",
       "      <td>0</td>\n",
       "      <td>0</td>\n",
       "    </tr>\n",
       "    <tr>\n",
       "      <th>4654</th>\n",
       "      <td>0</td>\n",
       "      <td>0.216888</td>\n",
       "      <td>4654</td>\n",
       "      <td>0</td>\n",
       "      <td>1</td>\n",
       "      <td>1</td>\n",
       "      <td>1</td>\n",
       "      <td>0</td>\n",
       "      <td>0</td>\n",
       "      <td>0</td>\n",
       "      <td>0</td>\n",
       "      <td>0</td>\n",
       "      <td>0</td>\n",
       "      <td>0</td>\n",
       "      <td>0</td>\n",
       "    </tr>\n",
       "    <tr>\n",
       "      <th>5902</th>\n",
       "      <td>0</td>\n",
       "      <td>0.009322</td>\n",
       "      <td>5902</td>\n",
       "      <td>0</td>\n",
       "      <td>1</td>\n",
       "      <td>0</td>\n",
       "      <td>0</td>\n",
       "      <td>0</td>\n",
       "      <td>0</td>\n",
       "      <td>0</td>\n",
       "      <td>0</td>\n",
       "      <td>0</td>\n",
       "      <td>0</td>\n",
       "      <td>0</td>\n",
       "      <td>0</td>\n",
       "    </tr>\n",
       "    <tr>\n",
       "      <th>4691</th>\n",
       "      <td>0</td>\n",
       "      <td>0.216888</td>\n",
       "      <td>4691</td>\n",
       "      <td>0</td>\n",
       "      <td>1</td>\n",
       "      <td>1</td>\n",
       "      <td>1</td>\n",
       "      <td>0</td>\n",
       "      <td>0</td>\n",
       "      <td>0</td>\n",
       "      <td>0</td>\n",
       "      <td>0</td>\n",
       "      <td>0</td>\n",
       "      <td>0</td>\n",
       "      <td>0</td>\n",
       "    </tr>\n",
       "    <tr>\n",
       "      <th>4341</th>\n",
       "      <td>1</td>\n",
       "      <td>0.921664</td>\n",
       "      <td>4341</td>\n",
       "      <td>1</td>\n",
       "      <td>1</td>\n",
       "      <td>1</td>\n",
       "      <td>1</td>\n",
       "      <td>1</td>\n",
       "      <td>1</td>\n",
       "      <td>1</td>\n",
       "      <td>1</td>\n",
       "      <td>1</td>\n",
       "      <td>1</td>\n",
       "      <td>1</td>\n",
       "      <td>1</td>\n",
       "    </tr>\n",
       "  </tbody>\n",
       "</table>\n",
       "</div>"
      ],
      "text/plain": [
       "      Converted  Converted_Prob  Prospect ID  predicted  0.0  0.1  0.2  0.3  \\\n",
       "1871          0        0.009667         1871          0    1    0    0    0   \n",
       "6795          0        0.139416         6795          0    1    1    0    0   \n",
       "3516          0        0.013346         3516          0    1    0    0    0   \n",
       "8105          0        0.144684         8105          0    1    1    0    0   \n",
       "3934          0        0.049567         3934          0    1    0    0    0   \n",
       "4844          1        0.999374         4844          1    1    1    1    1   \n",
       "3297          0        0.002863         3297          0    1    0    0    0   \n",
       "8071          1        0.998194         8071          1    1    1    1    1   \n",
       "987           0        0.104845          987          0    1    1    0    0   \n",
       "7423          1        0.999405         7423          1    1    1    1    1   \n",
       "1032          1        0.866729         1032          1    1    1    1    1   \n",
       "6542          0        0.386758         6542          0    1    1    1    1   \n",
       "4317          1        0.875574         4317          1    1    1    1    1   \n",
       "6472          1        0.975072         6472          1    1    1    1    1   \n",
       "712           0        0.001170          712          0    1    0    0    0   \n",
       "3960          0        0.216888         3960          0    1    1    1    0   \n",
       "4654          0        0.216888         4654          0    1    1    1    0   \n",
       "5902          0        0.009322         5902          0    1    0    0    0   \n",
       "4691          0        0.216888         4691          0    1    1    1    0   \n",
       "4341          1        0.921664         4341          1    1    1    1    1   \n",
       "\n",
       "      0.4  0.5  0.6  0.7  0.8  0.9  final_Predicted  \n",
       "1871    0    0    0    0    0    0                0  \n",
       "6795    0    0    0    0    0    0                0  \n",
       "3516    0    0    0    0    0    0                0  \n",
       "8105    0    0    0    0    0    0                0  \n",
       "3934    0    0    0    0    0    0                0  \n",
       "4844    1    1    1    1    1    1                1  \n",
       "3297    0    0    0    0    0    0                0  \n",
       "8071    1    1    1    1    1    1                1  \n",
       "987     0    0    0    0    0    0                0  \n",
       "7423    1    1    1    1    1    1                1  \n",
       "1032    1    1    1    1    1    0                1  \n",
       "6542    0    0    0    0    0    0                1  \n",
       "4317    1    1    1    1    1    0                1  \n",
       "6472    1    1    1    1    1    1                1  \n",
       "712     0    0    0    0    0    0                0  \n",
       "3960    0    0    0    0    0    0                0  \n",
       "4654    0    0    0    0    0    0                0  \n",
       "5902    0    0    0    0    0    0                0  \n",
       "4691    0    0    0    0    0    0                0  \n",
       "4341    1    1    1    1    1    1                1  "
      ]
     },
     "execution_count": 447,
     "metadata": {},
     "output_type": "execute_result"
    }
   ],
   "source": [
    "Y_train_pred_final4['final_Predicted'] = Y_train_pred_final4.Converted_Prob.map(lambda x: 1 if x > 0.3 else 0)\n",
    "Y_train_pred_final4.head(20)"
   ]
  },
  {
   "cell_type": "code",
   "execution_count": 448,
   "id": "0c09bbad",
   "metadata": {},
   "outputs": [
    {
     "data": {
      "text/html": [
       "<div>\n",
       "<style scoped>\n",
       "    .dataframe tbody tr th:only-of-type {\n",
       "        vertical-align: middle;\n",
       "    }\n",
       "\n",
       "    .dataframe tbody tr th {\n",
       "        vertical-align: top;\n",
       "    }\n",
       "\n",
       "    .dataframe thead th {\n",
       "        text-align: right;\n",
       "    }\n",
       "</style>\n",
       "<table border=\"1\" class=\"dataframe\">\n",
       "  <thead>\n",
       "    <tr style=\"text-align: right;\">\n",
       "      <th></th>\n",
       "      <th>Converted</th>\n",
       "      <th>Converted_Prob</th>\n",
       "      <th>Prospect ID</th>\n",
       "      <th>predicted</th>\n",
       "      <th>0.0</th>\n",
       "      <th>0.1</th>\n",
       "      <th>0.2</th>\n",
       "      <th>0.3</th>\n",
       "      <th>0.4</th>\n",
       "      <th>0.5</th>\n",
       "      <th>0.6</th>\n",
       "      <th>0.7</th>\n",
       "      <th>0.8</th>\n",
       "      <th>0.9</th>\n",
       "      <th>final_Predicted</th>\n",
       "      <th>lead_score</th>\n",
       "    </tr>\n",
       "  </thead>\n",
       "  <tbody>\n",
       "    <tr>\n",
       "      <th>1871</th>\n",
       "      <td>0</td>\n",
       "      <td>0.009667</td>\n",
       "      <td>1871</td>\n",
       "      <td>0</td>\n",
       "      <td>1</td>\n",
       "      <td>0</td>\n",
       "      <td>0</td>\n",
       "      <td>0</td>\n",
       "      <td>0</td>\n",
       "      <td>0</td>\n",
       "      <td>0</td>\n",
       "      <td>0</td>\n",
       "      <td>0</td>\n",
       "      <td>0</td>\n",
       "      <td>0</td>\n",
       "      <td>1</td>\n",
       "    </tr>\n",
       "    <tr>\n",
       "      <th>6795</th>\n",
       "      <td>0</td>\n",
       "      <td>0.139416</td>\n",
       "      <td>6795</td>\n",
       "      <td>0</td>\n",
       "      <td>1</td>\n",
       "      <td>1</td>\n",
       "      <td>0</td>\n",
       "      <td>0</td>\n",
       "      <td>0</td>\n",
       "      <td>0</td>\n",
       "      <td>0</td>\n",
       "      <td>0</td>\n",
       "      <td>0</td>\n",
       "      <td>0</td>\n",
       "      <td>0</td>\n",
       "      <td>14</td>\n",
       "    </tr>\n",
       "    <tr>\n",
       "      <th>3516</th>\n",
       "      <td>0</td>\n",
       "      <td>0.013346</td>\n",
       "      <td>3516</td>\n",
       "      <td>0</td>\n",
       "      <td>1</td>\n",
       "      <td>0</td>\n",
       "      <td>0</td>\n",
       "      <td>0</td>\n",
       "      <td>0</td>\n",
       "      <td>0</td>\n",
       "      <td>0</td>\n",
       "      <td>0</td>\n",
       "      <td>0</td>\n",
       "      <td>0</td>\n",
       "      <td>0</td>\n",
       "      <td>1</td>\n",
       "    </tr>\n",
       "    <tr>\n",
       "      <th>8105</th>\n",
       "      <td>0</td>\n",
       "      <td>0.144684</td>\n",
       "      <td>8105</td>\n",
       "      <td>0</td>\n",
       "      <td>1</td>\n",
       "      <td>1</td>\n",
       "      <td>0</td>\n",
       "      <td>0</td>\n",
       "      <td>0</td>\n",
       "      <td>0</td>\n",
       "      <td>0</td>\n",
       "      <td>0</td>\n",
       "      <td>0</td>\n",
       "      <td>0</td>\n",
       "      <td>0</td>\n",
       "      <td>14</td>\n",
       "    </tr>\n",
       "    <tr>\n",
       "      <th>3934</th>\n",
       "      <td>0</td>\n",
       "      <td>0.049567</td>\n",
       "      <td>3934</td>\n",
       "      <td>0</td>\n",
       "      <td>1</td>\n",
       "      <td>0</td>\n",
       "      <td>0</td>\n",
       "      <td>0</td>\n",
       "      <td>0</td>\n",
       "      <td>0</td>\n",
       "      <td>0</td>\n",
       "      <td>0</td>\n",
       "      <td>0</td>\n",
       "      <td>0</td>\n",
       "      <td>0</td>\n",
       "      <td>5</td>\n",
       "    </tr>\n",
       "    <tr>\n",
       "      <th>4844</th>\n",
       "      <td>1</td>\n",
       "      <td>0.999374</td>\n",
       "      <td>4844</td>\n",
       "      <td>1</td>\n",
       "      <td>1</td>\n",
       "      <td>1</td>\n",
       "      <td>1</td>\n",
       "      <td>1</td>\n",
       "      <td>1</td>\n",
       "      <td>1</td>\n",
       "      <td>1</td>\n",
       "      <td>1</td>\n",
       "      <td>1</td>\n",
       "      <td>1</td>\n",
       "      <td>1</td>\n",
       "      <td>100</td>\n",
       "    </tr>\n",
       "    <tr>\n",
       "      <th>3297</th>\n",
       "      <td>0</td>\n",
       "      <td>0.002863</td>\n",
       "      <td>3297</td>\n",
       "      <td>0</td>\n",
       "      <td>1</td>\n",
       "      <td>0</td>\n",
       "      <td>0</td>\n",
       "      <td>0</td>\n",
       "      <td>0</td>\n",
       "      <td>0</td>\n",
       "      <td>0</td>\n",
       "      <td>0</td>\n",
       "      <td>0</td>\n",
       "      <td>0</td>\n",
       "      <td>0</td>\n",
       "      <td>0</td>\n",
       "    </tr>\n",
       "    <tr>\n",
       "      <th>8071</th>\n",
       "      <td>1</td>\n",
       "      <td>0.998194</td>\n",
       "      <td>8071</td>\n",
       "      <td>1</td>\n",
       "      <td>1</td>\n",
       "      <td>1</td>\n",
       "      <td>1</td>\n",
       "      <td>1</td>\n",
       "      <td>1</td>\n",
       "      <td>1</td>\n",
       "      <td>1</td>\n",
       "      <td>1</td>\n",
       "      <td>1</td>\n",
       "      <td>1</td>\n",
       "      <td>1</td>\n",
       "      <td>100</td>\n",
       "    </tr>\n",
       "    <tr>\n",
       "      <th>987</th>\n",
       "      <td>0</td>\n",
       "      <td>0.104845</td>\n",
       "      <td>987</td>\n",
       "      <td>0</td>\n",
       "      <td>1</td>\n",
       "      <td>1</td>\n",
       "      <td>0</td>\n",
       "      <td>0</td>\n",
       "      <td>0</td>\n",
       "      <td>0</td>\n",
       "      <td>0</td>\n",
       "      <td>0</td>\n",
       "      <td>0</td>\n",
       "      <td>0</td>\n",
       "      <td>0</td>\n",
       "      <td>10</td>\n",
       "    </tr>\n",
       "    <tr>\n",
       "      <th>7423</th>\n",
       "      <td>1</td>\n",
       "      <td>0.999405</td>\n",
       "      <td>7423</td>\n",
       "      <td>1</td>\n",
       "      <td>1</td>\n",
       "      <td>1</td>\n",
       "      <td>1</td>\n",
       "      <td>1</td>\n",
       "      <td>1</td>\n",
       "      <td>1</td>\n",
       "      <td>1</td>\n",
       "      <td>1</td>\n",
       "      <td>1</td>\n",
       "      <td>1</td>\n",
       "      <td>1</td>\n",
       "      <td>100</td>\n",
       "    </tr>\n",
       "    <tr>\n",
       "      <th>1032</th>\n",
       "      <td>1</td>\n",
       "      <td>0.866729</td>\n",
       "      <td>1032</td>\n",
       "      <td>1</td>\n",
       "      <td>1</td>\n",
       "      <td>1</td>\n",
       "      <td>1</td>\n",
       "      <td>1</td>\n",
       "      <td>1</td>\n",
       "      <td>1</td>\n",
       "      <td>1</td>\n",
       "      <td>1</td>\n",
       "      <td>1</td>\n",
       "      <td>0</td>\n",
       "      <td>1</td>\n",
       "      <td>87</td>\n",
       "    </tr>\n",
       "    <tr>\n",
       "      <th>6542</th>\n",
       "      <td>0</td>\n",
       "      <td>0.386758</td>\n",
       "      <td>6542</td>\n",
       "      <td>0</td>\n",
       "      <td>1</td>\n",
       "      <td>1</td>\n",
       "      <td>1</td>\n",
       "      <td>1</td>\n",
       "      <td>0</td>\n",
       "      <td>0</td>\n",
       "      <td>0</td>\n",
       "      <td>0</td>\n",
       "      <td>0</td>\n",
       "      <td>0</td>\n",
       "      <td>1</td>\n",
       "      <td>39</td>\n",
       "    </tr>\n",
       "    <tr>\n",
       "      <th>4317</th>\n",
       "      <td>1</td>\n",
       "      <td>0.875574</td>\n",
       "      <td>4317</td>\n",
       "      <td>1</td>\n",
       "      <td>1</td>\n",
       "      <td>1</td>\n",
       "      <td>1</td>\n",
       "      <td>1</td>\n",
       "      <td>1</td>\n",
       "      <td>1</td>\n",
       "      <td>1</td>\n",
       "      <td>1</td>\n",
       "      <td>1</td>\n",
       "      <td>0</td>\n",
       "      <td>1</td>\n",
       "      <td>88</td>\n",
       "    </tr>\n",
       "    <tr>\n",
       "      <th>6472</th>\n",
       "      <td>1</td>\n",
       "      <td>0.975072</td>\n",
       "      <td>6472</td>\n",
       "      <td>1</td>\n",
       "      <td>1</td>\n",
       "      <td>1</td>\n",
       "      <td>1</td>\n",
       "      <td>1</td>\n",
       "      <td>1</td>\n",
       "      <td>1</td>\n",
       "      <td>1</td>\n",
       "      <td>1</td>\n",
       "      <td>1</td>\n",
       "      <td>1</td>\n",
       "      <td>1</td>\n",
       "      <td>98</td>\n",
       "    </tr>\n",
       "    <tr>\n",
       "      <th>712</th>\n",
       "      <td>0</td>\n",
       "      <td>0.001170</td>\n",
       "      <td>712</td>\n",
       "      <td>0</td>\n",
       "      <td>1</td>\n",
       "      <td>0</td>\n",
       "      <td>0</td>\n",
       "      <td>0</td>\n",
       "      <td>0</td>\n",
       "      <td>0</td>\n",
       "      <td>0</td>\n",
       "      <td>0</td>\n",
       "      <td>0</td>\n",
       "      <td>0</td>\n",
       "      <td>0</td>\n",
       "      <td>0</td>\n",
       "    </tr>\n",
       "    <tr>\n",
       "      <th>3960</th>\n",
       "      <td>0</td>\n",
       "      <td>0.216888</td>\n",
       "      <td>3960</td>\n",
       "      <td>0</td>\n",
       "      <td>1</td>\n",
       "      <td>1</td>\n",
       "      <td>1</td>\n",
       "      <td>0</td>\n",
       "      <td>0</td>\n",
       "      <td>0</td>\n",
       "      <td>0</td>\n",
       "      <td>0</td>\n",
       "      <td>0</td>\n",
       "      <td>0</td>\n",
       "      <td>0</td>\n",
       "      <td>22</td>\n",
       "    </tr>\n",
       "    <tr>\n",
       "      <th>4654</th>\n",
       "      <td>0</td>\n",
       "      <td>0.216888</td>\n",
       "      <td>4654</td>\n",
       "      <td>0</td>\n",
       "      <td>1</td>\n",
       "      <td>1</td>\n",
       "      <td>1</td>\n",
       "      <td>0</td>\n",
       "      <td>0</td>\n",
       "      <td>0</td>\n",
       "      <td>0</td>\n",
       "      <td>0</td>\n",
       "      <td>0</td>\n",
       "      <td>0</td>\n",
       "      <td>0</td>\n",
       "      <td>22</td>\n",
       "    </tr>\n",
       "    <tr>\n",
       "      <th>5902</th>\n",
       "      <td>0</td>\n",
       "      <td>0.009322</td>\n",
       "      <td>5902</td>\n",
       "      <td>0</td>\n",
       "      <td>1</td>\n",
       "      <td>0</td>\n",
       "      <td>0</td>\n",
       "      <td>0</td>\n",
       "      <td>0</td>\n",
       "      <td>0</td>\n",
       "      <td>0</td>\n",
       "      <td>0</td>\n",
       "      <td>0</td>\n",
       "      <td>0</td>\n",
       "      <td>0</td>\n",
       "      <td>1</td>\n",
       "    </tr>\n",
       "    <tr>\n",
       "      <th>4691</th>\n",
       "      <td>0</td>\n",
       "      <td>0.216888</td>\n",
       "      <td>4691</td>\n",
       "      <td>0</td>\n",
       "      <td>1</td>\n",
       "      <td>1</td>\n",
       "      <td>1</td>\n",
       "      <td>0</td>\n",
       "      <td>0</td>\n",
       "      <td>0</td>\n",
       "      <td>0</td>\n",
       "      <td>0</td>\n",
       "      <td>0</td>\n",
       "      <td>0</td>\n",
       "      <td>0</td>\n",
       "      <td>22</td>\n",
       "    </tr>\n",
       "    <tr>\n",
       "      <th>4341</th>\n",
       "      <td>1</td>\n",
       "      <td>0.921664</td>\n",
       "      <td>4341</td>\n",
       "      <td>1</td>\n",
       "      <td>1</td>\n",
       "      <td>1</td>\n",
       "      <td>1</td>\n",
       "      <td>1</td>\n",
       "      <td>1</td>\n",
       "      <td>1</td>\n",
       "      <td>1</td>\n",
       "      <td>1</td>\n",
       "      <td>1</td>\n",
       "      <td>1</td>\n",
       "      <td>1</td>\n",
       "      <td>92</td>\n",
       "    </tr>\n",
       "  </tbody>\n",
       "</table>\n",
       "</div>"
      ],
      "text/plain": [
       "      Converted  Converted_Prob  Prospect ID  predicted  0.0  0.1  0.2  0.3  \\\n",
       "1871          0        0.009667         1871          0    1    0    0    0   \n",
       "6795          0        0.139416         6795          0    1    1    0    0   \n",
       "3516          0        0.013346         3516          0    1    0    0    0   \n",
       "8105          0        0.144684         8105          0    1    1    0    0   \n",
       "3934          0        0.049567         3934          0    1    0    0    0   \n",
       "4844          1        0.999374         4844          1    1    1    1    1   \n",
       "3297          0        0.002863         3297          0    1    0    0    0   \n",
       "8071          1        0.998194         8071          1    1    1    1    1   \n",
       "987           0        0.104845          987          0    1    1    0    0   \n",
       "7423          1        0.999405         7423          1    1    1    1    1   \n",
       "1032          1        0.866729         1032          1    1    1    1    1   \n",
       "6542          0        0.386758         6542          0    1    1    1    1   \n",
       "4317          1        0.875574         4317          1    1    1    1    1   \n",
       "6472          1        0.975072         6472          1    1    1    1    1   \n",
       "712           0        0.001170          712          0    1    0    0    0   \n",
       "3960          0        0.216888         3960          0    1    1    1    0   \n",
       "4654          0        0.216888         4654          0    1    1    1    0   \n",
       "5902          0        0.009322         5902          0    1    0    0    0   \n",
       "4691          0        0.216888         4691          0    1    1    1    0   \n",
       "4341          1        0.921664         4341          1    1    1    1    1   \n",
       "\n",
       "      0.4  0.5  0.6  0.7  0.8  0.9  final_Predicted  lead_score  \n",
       "1871    0    0    0    0    0    0                0           1  \n",
       "6795    0    0    0    0    0    0                0          14  \n",
       "3516    0    0    0    0    0    0                0           1  \n",
       "8105    0    0    0    0    0    0                0          14  \n",
       "3934    0    0    0    0    0    0                0           5  \n",
       "4844    1    1    1    1    1    1                1         100  \n",
       "3297    0    0    0    0    0    0                0           0  \n",
       "8071    1    1    1    1    1    1                1         100  \n",
       "987     0    0    0    0    0    0                0          10  \n",
       "7423    1    1    1    1    1    1                1         100  \n",
       "1032    1    1    1    1    1    0                1          87  \n",
       "6542    0    0    0    0    0    0                1          39  \n",
       "4317    1    1    1    1    1    0                1          88  \n",
       "6472    1    1    1    1    1    1                1          98  \n",
       "712     0    0    0    0    0    0                0           0  \n",
       "3960    0    0    0    0    0    0                0          22  \n",
       "4654    0    0    0    0    0    0                0          22  \n",
       "5902    0    0    0    0    0    0                0           1  \n",
       "4691    0    0    0    0    0    0                0          22  \n",
       "4341    1    1    1    1    1    1                1          92  "
      ]
     },
     "execution_count": 448,
     "metadata": {},
     "output_type": "execute_result"
    }
   ],
   "source": [
    "Y_train_pred_final4['lead_score'] = Y_train_pred_final4.Converted_Prob.map(lambda x: round(x*100))\n",
    "Y_train_pred_final4.head(20)"
   ]
  },
  {
   "cell_type": "code",
   "execution_count": 449,
   "id": "4c7bab3c",
   "metadata": {},
   "outputs": [
    {
     "data": {
      "text/plain": [
       "1    2251\n",
       "0     215\n",
       "Name: final_Predicted, dtype: int64"
      ]
     },
     "execution_count": 449,
     "metadata": {},
     "output_type": "execute_result"
    }
   ],
   "source": [
    "# Calculating lead conversion rate at probability threshold of 0.3\n",
    "checkingconvertedpredictions = Y_train_pred_final4.loc[Y_train_pred_final4['Converted']==1,['Converted','final_Predicted']]\n",
    "checkingconvertedpredictions['final_Predicted'].value_counts()"
   ]
  },
  {
   "cell_type": "code",
   "execution_count": 450,
   "id": "3b7169ce",
   "metadata": {},
   "outputs": [
    {
     "data": {
      "text/plain": [
       "0.9128142741281428"
      ]
     },
     "execution_count": 450,
     "metadata": {},
     "output_type": "execute_result"
    }
   ],
   "source": [
    "# Calculating lead conversion rate at probability threshold of 0.3\n",
    "float(2251/(2251+215))\n",
    "# A lead conversion rate of 91.28% has been observed meeting the goal of 80% lead conversion."
   ]
  },
  {
   "cell_type": "code",
   "execution_count": 451,
   "id": "392cfea3",
   "metadata": {},
   "outputs": [
    {
     "name": "stdout",
     "output_type": "stream",
     "text": [
      "[[3723  279]\n",
      " [ 215 2251]]\n"
     ]
    }
   ],
   "source": [
    "# Calculating confusion matrix for optimum probability cutoff\n",
    "confusion5=metrics.confusion_matrix(Y_train_pred_final4.Converted,Y_train_pred_final4.final_Predicted)\n",
    "print(confusion5)"
   ]
  },
  {
   "cell_type": "code",
   "execution_count": 452,
   "id": "544d262f",
   "metadata": {},
   "outputs": [
    {
     "name": "stdout",
     "output_type": "stream",
     "text": [
      "0.9236239950525664\n"
     ]
    }
   ],
   "source": [
    "print(metrics.accuracy_score(Y_train_pred_final4.Converted,Y_train_pred_final4.final_Predicted))"
   ]
  },
  {
   "cell_type": "code",
   "execution_count": 453,
   "id": "2a2a6e27",
   "metadata": {},
   "outputs": [],
   "source": [
    "TP1 = confusion5[1,1] # true positive \n",
    "TN2 = confusion5[0,0] # true negatives\n",
    "FP1 = confusion5[0,1] # false positives\n",
    "FN2 = confusion5[1,0] # false negatives"
   ]
  },
  {
   "cell_type": "code",
   "execution_count": 454,
   "id": "7a11c9d2",
   "metadata": {},
   "outputs": [
    {
     "name": "stdout",
     "output_type": "stream",
     "text": [
      "0.9128142741281428\n"
     ]
    }
   ],
   "source": [
    "Sensitivity1=float(TP1/(TP1+FN2))\n",
    "print(Sensitivity1)"
   ]
  },
  {
   "cell_type": "code",
   "execution_count": 455,
   "id": "9d5fa687",
   "metadata": {},
   "outputs": [
    {
     "name": "stdout",
     "output_type": "stream",
     "text": [
      "0.9302848575712144\n"
     ]
    }
   ],
   "source": [
    "Specificity1=float(TN2/(TN2+FP1))\n",
    "print(Specificity1)"
   ]
  },
  {
   "cell_type": "code",
   "execution_count": 456,
   "id": "4cbd3e7f",
   "metadata": {},
   "outputs": [
    {
     "name": "stdout",
     "output_type": "stream",
     "text": [
      "0.8897233201581027\n"
     ]
    }
   ],
   "source": [
    "Precision11=float(TP1/(TP1+FP1))\n",
    "print(Precision11)\n",
    "# precision at optimal probability threshold of 0.3 is 88.97%"
   ]
  },
  {
   "cell_type": "code",
   "execution_count": 457,
   "id": "5aac4175",
   "metadata": {},
   "outputs": [
    {
     "name": "stdout",
     "output_type": "stream",
     "text": [
      "0.9128142741281428\n"
     ]
    }
   ],
   "source": [
    "Recall11=float(TP1/(TP1+FN2))\n",
    "print(Recall11)\n",
    "# recall at optimal probability threshold of 0.3 is 91.28%"
   ]
  },
  {
   "cell_type": "markdown",
   "id": "3c267a65",
   "metadata": {},
   "source": [
    "# Optimal Probability Threshold using Precision and Recall Curve"
   ]
  },
  {
   "cell_type": "code",
   "execution_count": 460,
   "id": "e41828a0",
   "metadata": {},
   "outputs": [],
   "source": [
    "# Precision Recall Curve\n",
    "from sklearn.metrics import precision_recall_curve"
   ]
  },
  {
   "cell_type": "code",
   "execution_count": 461,
   "id": "b69673af",
   "metadata": {},
   "outputs": [
    {
     "data": {
      "text/plain": [
       "(1871    0\n",
       " 6795    0\n",
       " 3516    0\n",
       " 8105    0\n",
       " 3934    0\n",
       "        ..\n",
       " 350     1\n",
       " 79      1\n",
       " 8039    1\n",
       " 6936    0\n",
       " 5640    0\n",
       " Name: Converted, Length: 6468, dtype: int64,\n",
       " 1871    0\n",
       " 6795    0\n",
       " 3516    0\n",
       " 8105    0\n",
       " 3934    0\n",
       "        ..\n",
       " 350     1\n",
       " 79      1\n",
       " 8039    0\n",
       " 6936    0\n",
       " 5640    0\n",
       " Name: predicted, Length: 6468, dtype: int64)"
      ]
     },
     "execution_count": 461,
     "metadata": {},
     "output_type": "execute_result"
    }
   ],
   "source": [
    "Y_train_pred_final4.Converted,Y_train_pred_final4.predicted"
   ]
  },
  {
   "cell_type": "code",
   "execution_count": 462,
   "id": "fa9d3f0c",
   "metadata": {},
   "outputs": [],
   "source": [
    "Y_train_pred_final4.Converted,Y_train_pred_final4.predicted\n",
    "Precision,Recall,Thresholds=precision_recall_curve(Y_train_pred_final4.Converted,Y_train_pred_final4.Converted_Prob)"
   ]
  },
  {
   "cell_type": "code",
   "execution_count": 463,
   "id": "a632271f",
   "metadata": {},
   "outputs": [
    {
     "data": {
      "image/png": "[encoded data removed]",
      "text/plain": [
       "<Figure size 432x288 with 1 Axes>"
      ]
     },
     "metadata": {
      "needs_background": "light"
     },
     "output_type": "display_data"
    }
   ],
   "source": [
    "plt.plot(Thresholds,Precision[:-1],'g-')\n",
    "plt.plot(Thresholds,Recall[:-1],'r-')\n",
    "plt.show()\n",
    "# Optimum probability threshold is 0.38 according to precision-recall curve"
   ]
  },
  {
   "cell_type": "code",
   "execution_count": 464,
   "id": "050f4c1c",
   "metadata": {},
   "outputs": [
    {
     "data": {
      "text/html": [
       "<div>\n",
       "<style scoped>\n",
       "    .dataframe tbody tr th:only-of-type {\n",
       "        vertical-align: middle;\n",
       "    }\n",
       "\n",
       "    .dataframe tbody tr th {\n",
       "        vertical-align: top;\n",
       "    }\n",
       "\n",
       "    .dataframe thead th {\n",
       "        text-align: right;\n",
       "    }\n",
       "</style>\n",
       "<table border=\"1\" class=\"dataframe\">\n",
       "  <thead>\n",
       "    <tr style=\"text-align: right;\">\n",
       "      <th></th>\n",
       "      <th>Converted</th>\n",
       "      <th>Converted_Prob</th>\n",
       "      <th>Prospect ID</th>\n",
       "      <th>predicted</th>\n",
       "      <th>0.0</th>\n",
       "      <th>0.1</th>\n",
       "      <th>0.2</th>\n",
       "      <th>0.3</th>\n",
       "      <th>0.4</th>\n",
       "      <th>0.5</th>\n",
       "      <th>0.6</th>\n",
       "      <th>0.7</th>\n",
       "      <th>0.8</th>\n",
       "      <th>0.9</th>\n",
       "      <th>final_Predicted</th>\n",
       "      <th>lead_score</th>\n",
       "      <th>finalpredicted1</th>\n",
       "    </tr>\n",
       "  </thead>\n",
       "  <tbody>\n",
       "    <tr>\n",
       "      <th>1871</th>\n",
       "      <td>0</td>\n",
       "      <td>0.009667</td>\n",
       "      <td>1871</td>\n",
       "      <td>0</td>\n",
       "      <td>1</td>\n",
       "      <td>0</td>\n",
       "      <td>0</td>\n",
       "      <td>0</td>\n",
       "      <td>0</td>\n",
       "      <td>0</td>\n",
       "      <td>0</td>\n",
       "      <td>0</td>\n",
       "      <td>0</td>\n",
       "      <td>0</td>\n",
       "      <td>0</td>\n",
       "      <td>1</td>\n",
       "      <td>0</td>\n",
       "    </tr>\n",
       "    <tr>\n",
       "      <th>6795</th>\n",
       "      <td>0</td>\n",
       "      <td>0.139416</td>\n",
       "      <td>6795</td>\n",
       "      <td>0</td>\n",
       "      <td>1</td>\n",
       "      <td>1</td>\n",
       "      <td>0</td>\n",
       "      <td>0</td>\n",
       "      <td>0</td>\n",
       "      <td>0</td>\n",
       "      <td>0</td>\n",
       "      <td>0</td>\n",
       "      <td>0</td>\n",
       "      <td>0</td>\n",
       "      <td>0</td>\n",
       "      <td>14</td>\n",
       "      <td>0</td>\n",
       "    </tr>\n",
       "    <tr>\n",
       "      <th>3516</th>\n",
       "      <td>0</td>\n",
       "      <td>0.013346</td>\n",
       "      <td>3516</td>\n",
       "      <td>0</td>\n",
       "      <td>1</td>\n",
       "      <td>0</td>\n",
       "      <td>0</td>\n",
       "      <td>0</td>\n",
       "      <td>0</td>\n",
       "      <td>0</td>\n",
       "      <td>0</td>\n",
       "      <td>0</td>\n",
       "      <td>0</td>\n",
       "      <td>0</td>\n",
       "      <td>0</td>\n",
       "      <td>1</td>\n",
       "      <td>0</td>\n",
       "    </tr>\n",
       "    <tr>\n",
       "      <th>8105</th>\n",
       "      <td>0</td>\n",
       "      <td>0.144684</td>\n",
       "      <td>8105</td>\n",
       "      <td>0</td>\n",
       "      <td>1</td>\n",
       "      <td>1</td>\n",
       "      <td>0</td>\n",
       "      <td>0</td>\n",
       "      <td>0</td>\n",
       "      <td>0</td>\n",
       "      <td>0</td>\n",
       "      <td>0</td>\n",
       "      <td>0</td>\n",
       "      <td>0</td>\n",
       "      <td>0</td>\n",
       "      <td>14</td>\n",
       "      <td>0</td>\n",
       "    </tr>\n",
       "    <tr>\n",
       "      <th>3934</th>\n",
       "      <td>0</td>\n",
       "      <td>0.049567</td>\n",
       "      <td>3934</td>\n",
       "      <td>0</td>\n",
       "      <td>1</td>\n",
       "      <td>0</td>\n",
       "      <td>0</td>\n",
       "      <td>0</td>\n",
       "      <td>0</td>\n",
       "      <td>0</td>\n",
       "      <td>0</td>\n",
       "      <td>0</td>\n",
       "      <td>0</td>\n",
       "      <td>0</td>\n",
       "      <td>0</td>\n",
       "      <td>5</td>\n",
       "      <td>0</td>\n",
       "    </tr>\n",
       "  </tbody>\n",
       "</table>\n",
       "</div>"
      ],
      "text/plain": [
       "      Converted  Converted_Prob  Prospect ID  predicted  0.0  0.1  0.2  0.3  \\\n",
       "1871          0        0.009667         1871          0    1    0    0    0   \n",
       "6795          0        0.139416         6795          0    1    1    0    0   \n",
       "3516          0        0.013346         3516          0    1    0    0    0   \n",
       "8105          0        0.144684         8105          0    1    1    0    0   \n",
       "3934          0        0.049567         3934          0    1    0    0    0   \n",
       "\n",
       "      0.4  0.5  0.6  0.7  0.8  0.9  final_Predicted  lead_score  \\\n",
       "1871    0    0    0    0    0    0                0           1   \n",
       "6795    0    0    0    0    0    0                0          14   \n",
       "3516    0    0    0    0    0    0                0           1   \n",
       "8105    0    0    0    0    0    0                0          14   \n",
       "3934    0    0    0    0    0    0                0           5   \n",
       "\n",
       "      finalpredicted1  \n",
       "1871                0  \n",
       "6795                0  \n",
       "3516                0  \n",
       "8105                0  \n",
       "3934                0  "
      ]
     },
     "execution_count": 464,
     "metadata": {},
     "output_type": "execute_result"
    }
   ],
   "source": [
    "# Evaluating model at precision recall probability threshold\n",
    "Y_train_pred_final4['finalpredicted1']=Y_train_pred_final4.Converted_Prob.map(lambda x:1 if x>0.38 else 0)\n",
    "Y_train_pred_final4.head()"
   ]
  },
  {
   "cell_type": "code",
   "execution_count": 465,
   "id": "76212d27",
   "metadata": {},
   "outputs": [
    {
     "name": "stdout",
     "output_type": "stream",
     "text": [
      "[[3769  233]\n",
      " [ 243 2223]]\n"
     ]
    }
   ],
   "source": [
    "confusion7=metrics.confusion_matrix(Y_train_pred_final4.Converted,Y_train_pred_final4.finalpredicted1)\n",
    "print(confusion7)"
   ]
  },
  {
   "cell_type": "code",
   "execution_count": 466,
   "id": "9020cacd",
   "metadata": {},
   "outputs": [],
   "source": [
    "TP7 = confusion7[1,1] # true positive \n",
    "TN7 = confusion7[0,0] # true negatives\n",
    "FP7 = confusion7[0,1] # false positives\n",
    "FN7 = confusion7[1,0] # false negatives"
   ]
  },
  {
   "cell_type": "code",
   "execution_count": 467,
   "id": "6abbf56d",
   "metadata": {},
   "outputs": [
    {
     "name": "stdout",
     "output_type": "stream",
     "text": [
      "0.9264069264069265\n"
     ]
    }
   ],
   "source": [
    "print(metrics.accuracy_score(Y_train_pred_final4.Converted,Y_train_pred_final4.finalpredicted1))"
   ]
  },
  {
   "cell_type": "code",
   "execution_count": 468,
   "id": "89375d41",
   "metadata": {},
   "outputs": [
    {
     "name": "stdout",
     "output_type": "stream",
     "text": [
      "0.9014598540145985\n"
     ]
    }
   ],
   "source": [
    "Sensitivity7=float(TP7/(TP7+FN7))\n",
    "print(Sensitivity7)"
   ]
  },
  {
   "cell_type": "code",
   "execution_count": 469,
   "id": "b554f95a",
   "metadata": {},
   "outputs": [
    {
     "name": "stdout",
     "output_type": "stream",
     "text": [
      "0.9417791104447776\n"
     ]
    }
   ],
   "source": [
    "Specificity7=float(TN7/(TN7+FP7))\n",
    "print(Specificity7)"
   ]
  },
  {
   "cell_type": "code",
   "execution_count": 470,
   "id": "bb04fccb",
   "metadata": {},
   "outputs": [
    {
     "data": {
      "text/plain": [
       "0.9051302931596091"
      ]
     },
     "execution_count": 470,
     "metadata": {},
     "output_type": "execute_result"
    }
   ],
   "source": [
    "precision_score(Y_train_pred_final4.Converted,Y_train_pred_final4.finalpredicted1)"
   ]
  },
  {
   "cell_type": "code",
   "execution_count": 471,
   "id": "2d1a90f8",
   "metadata": {},
   "outputs": [
    {
     "data": {
      "text/plain": [
       "0.9014598540145985"
      ]
     },
     "execution_count": 471,
     "metadata": {},
     "output_type": "execute_result"
    }
   ],
   "source": [
    "recall_score(Y_train_pred_final4.Converted,Y_train_pred_final4.finalpredicted1)"
   ]
  },
  {
   "cell_type": "code",
   "execution_count": 472,
   "id": "16b2861b",
   "metadata": {},
   "outputs": [],
   "source": [
    "# Considering the sensitivity, specificity trade off probability cutoff of 0.3. Testing the model on test dataset"
   ]
  },
  {
   "cell_type": "markdown",
   "id": "d658bf15",
   "metadata": {},
   "source": [
    "# Evaluating Model on the Test Set"
   ]
  },
  {
   "cell_type": "code",
   "execution_count": 473,
   "id": "70016baa",
   "metadata": {},
   "outputs": [
    {
     "data": {
      "text/html": [
       "<div>\n",
       "<style scoped>\n",
       "    .dataframe tbody tr th:only-of-type {\n",
       "        vertical-align: middle;\n",
       "    }\n",
       "\n",
       "    .dataframe tbody tr th {\n",
       "        vertical-align: top;\n",
       "    }\n",
       "\n",
       "    .dataframe thead th {\n",
       "        text-align: right;\n",
       "    }\n",
       "</style>\n",
       "<table border=\"1\" class=\"dataframe\">\n",
       "  <thead>\n",
       "    <tr style=\"text-align: right;\">\n",
       "      <th></th>\n",
       "      <th>TotalVisits</th>\n",
       "      <th>Total Time Spent on Website</th>\n",
       "      <th>Page Views Per Visit</th>\n",
       "      <th>LeadOrigin_Landing Page Submission</th>\n",
       "      <th>LeadOrigin_Lead Add Form</th>\n",
       "      <th>LeadOrigin_Lead Import</th>\n",
       "      <th>LeadOrigin_Quick Add Form</th>\n",
       "      <th>LeadSource_Direct Traffic</th>\n",
       "      <th>LeadSource_Facebook</th>\n",
       "      <th>LeadSource_Google</th>\n",
       "      <th>...</th>\n",
       "      <th>AfreecopyofMasteringTheInterview_Yes</th>\n",
       "      <th>LastNotableActivity_Email Link Clicked</th>\n",
       "      <th>LastNotableActivity_Email Opened</th>\n",
       "      <th>LastNotableActivity_Modified</th>\n",
       "      <th>LastNotableActivity_Olark Chat Conversation</th>\n",
       "      <th>LastNotableActivity_Others</th>\n",
       "      <th>LastNotableActivity_Page Visited on Website</th>\n",
       "      <th>LastNotableActivity_SMS Sent</th>\n",
       "      <th>LastNotableActivity_Unreachable</th>\n",
       "      <th>LastNotableActivity_Unsubscribed</th>\n",
       "    </tr>\n",
       "  </thead>\n",
       "  <tbody>\n",
       "    <tr>\n",
       "      <th>4269</th>\n",
       "      <td>0.031873</td>\n",
       "      <td>0.444982</td>\n",
       "      <td>0.145455</td>\n",
       "      <td>0</td>\n",
       "      <td>0</td>\n",
       "      <td>0</td>\n",
       "      <td>0</td>\n",
       "      <td>1</td>\n",
       "      <td>0</td>\n",
       "      <td>0</td>\n",
       "      <td>...</td>\n",
       "      <td>0</td>\n",
       "      <td>0</td>\n",
       "      <td>0</td>\n",
       "      <td>0</td>\n",
       "      <td>0</td>\n",
       "      <td>0</td>\n",
       "      <td>0</td>\n",
       "      <td>1</td>\n",
       "      <td>0</td>\n",
       "      <td>0</td>\n",
       "    </tr>\n",
       "    <tr>\n",
       "      <th>2376</th>\n",
       "      <td>0.000000</td>\n",
       "      <td>0.000000</td>\n",
       "      <td>0.000000</td>\n",
       "      <td>0</td>\n",
       "      <td>1</td>\n",
       "      <td>0</td>\n",
       "      <td>0</td>\n",
       "      <td>0</td>\n",
       "      <td>0</td>\n",
       "      <td>0</td>\n",
       "      <td>...</td>\n",
       "      <td>0</td>\n",
       "      <td>0</td>\n",
       "      <td>0</td>\n",
       "      <td>0</td>\n",
       "      <td>0</td>\n",
       "      <td>0</td>\n",
       "      <td>0</td>\n",
       "      <td>1</td>\n",
       "      <td>0</td>\n",
       "      <td>0</td>\n",
       "    </tr>\n",
       "    <tr>\n",
       "      <th>7766</th>\n",
       "      <td>0.019920</td>\n",
       "      <td>0.025968</td>\n",
       "      <td>0.090909</td>\n",
       "      <td>0</td>\n",
       "      <td>0</td>\n",
       "      <td>0</td>\n",
       "      <td>0</td>\n",
       "      <td>0</td>\n",
       "      <td>0</td>\n",
       "      <td>1</td>\n",
       "      <td>...</td>\n",
       "      <td>0</td>\n",
       "      <td>0</td>\n",
       "      <td>0</td>\n",
       "      <td>0</td>\n",
       "      <td>0</td>\n",
       "      <td>0</td>\n",
       "      <td>0</td>\n",
       "      <td>0</td>\n",
       "      <td>1</td>\n",
       "      <td>0</td>\n",
       "    </tr>\n",
       "    <tr>\n",
       "      <th>9199</th>\n",
       "      <td>0.000000</td>\n",
       "      <td>0.000000</td>\n",
       "      <td>0.000000</td>\n",
       "      <td>0</td>\n",
       "      <td>0</td>\n",
       "      <td>0</td>\n",
       "      <td>0</td>\n",
       "      <td>0</td>\n",
       "      <td>0</td>\n",
       "      <td>0</td>\n",
       "      <td>...</td>\n",
       "      <td>0</td>\n",
       "      <td>0</td>\n",
       "      <td>0</td>\n",
       "      <td>1</td>\n",
       "      <td>0</td>\n",
       "      <td>0</td>\n",
       "      <td>0</td>\n",
       "      <td>0</td>\n",
       "      <td>0</td>\n",
       "      <td>0</td>\n",
       "    </tr>\n",
       "    <tr>\n",
       "      <th>4359</th>\n",
       "      <td>0.000000</td>\n",
       "      <td>0.000000</td>\n",
       "      <td>0.000000</td>\n",
       "      <td>0</td>\n",
       "      <td>1</td>\n",
       "      <td>0</td>\n",
       "      <td>0</td>\n",
       "      <td>0</td>\n",
       "      <td>0</td>\n",
       "      <td>0</td>\n",
       "      <td>...</td>\n",
       "      <td>0</td>\n",
       "      <td>0</td>\n",
       "      <td>1</td>\n",
       "      <td>0</td>\n",
       "      <td>0</td>\n",
       "      <td>0</td>\n",
       "      <td>0</td>\n",
       "      <td>0</td>\n",
       "      <td>0</td>\n",
       "      <td>0</td>\n",
       "    </tr>\n",
       "  </tbody>\n",
       "</table>\n",
       "<p>5 rows × 75 columns</p>\n",
       "</div>"
      ],
      "text/plain": [
       "      TotalVisits  Total Time Spent on Website  Page Views Per Visit  \\\n",
       "4269     0.031873                     0.444982              0.145455   \n",
       "2376     0.000000                     0.000000              0.000000   \n",
       "7766     0.019920                     0.025968              0.090909   \n",
       "9199     0.000000                     0.000000              0.000000   \n",
       "4359     0.000000                     0.000000              0.000000   \n",
       "\n",
       "      LeadOrigin_Landing Page Submission  LeadOrigin_Lead Add Form  \\\n",
       "4269                                   0                         0   \n",
       "2376                                   0                         1   \n",
       "7766                                   0                         0   \n",
       "9199                                   0                         0   \n",
       "4359                                   0                         1   \n",
       "\n",
       "      LeadOrigin_Lead Import  LeadOrigin_Quick Add Form  \\\n",
       "4269                       0                          0   \n",
       "2376                       0                          0   \n",
       "7766                       0                          0   \n",
       "9199                       0                          0   \n",
       "4359                       0                          0   \n",
       "\n",
       "      LeadSource_Direct Traffic  LeadSource_Facebook  LeadSource_Google  ...  \\\n",
       "4269                          1                    0                  0  ...   \n",
       "2376                          0                    0                  0  ...   \n",
       "7766                          0                    0                  1  ...   \n",
       "9199                          0                    0                  0  ...   \n",
       "4359                          0                    0                  0  ...   \n",
       "\n",
       "      AfreecopyofMasteringTheInterview_Yes  \\\n",
       "4269                                     0   \n",
       "2376                                     0   \n",
       "7766                                     0   \n",
       "9199                                     0   \n",
       "4359                                     0   \n",
       "\n",
       "      LastNotableActivity_Email Link Clicked  \\\n",
       "4269                                       0   \n",
       "2376                                       0   \n",
       "7766                                       0   \n",
       "9199                                       0   \n",
       "4359                                       0   \n",
       "\n",
       "      LastNotableActivity_Email Opened  LastNotableActivity_Modified  \\\n",
       "4269                                 0                             0   \n",
       "2376                                 0                             0   \n",
       "7766                                 0                             0   \n",
       "9199                                 0                             1   \n",
       "4359                                 1                             0   \n",
       "\n",
       "      LastNotableActivity_Olark Chat Conversation  LastNotableActivity_Others  \\\n",
       "4269                                            0                           0   \n",
       "2376                                            0                           0   \n",
       "7766                                            0                           0   \n",
       "9199                                            0                           0   \n",
       "4359                                            0                           0   \n",
       "\n",
       "      LastNotableActivity_Page Visited on Website  \\\n",
       "4269                                            0   \n",
       "2376                                            0   \n",
       "7766                                            0   \n",
       "9199                                            0   \n",
       "4359                                            0   \n",
       "\n",
       "      LastNotableActivity_SMS Sent  LastNotableActivity_Unreachable  \\\n",
       "4269                             1                                0   \n",
       "2376                             1                                0   \n",
       "7766                             0                                1   \n",
       "9199                             0                                0   \n",
       "4359                             0                                0   \n",
       "\n",
       "      LastNotableActivity_Unsubscribed  \n",
       "4269                                 0  \n",
       "2376                                 0  \n",
       "7766                                 0  \n",
       "9199                                 0  \n",
       "4359                                 0  \n",
       "\n",
       "[5 rows x 75 columns]"
      ]
     },
     "execution_count": 473,
     "metadata": {},
     "output_type": "execute_result"
    }
   ],
   "source": [
    "X_test[num_vars]=scaler.transform(X_test[num_vars])\n",
    "X_test.head()"
   ]
  },
  {
   "cell_type": "code",
   "execution_count": 474,
   "id": "ff35bc42",
   "metadata": {},
   "outputs": [],
   "source": [
    "col=X_train_rfe5.columns"
   ]
  },
  {
   "cell_type": "code",
   "execution_count": 475,
   "id": "eafce799",
   "metadata": {},
   "outputs": [
    {
     "name": "stdout",
     "output_type": "stream",
     "text": [
      "Index(['TotalVisits', 'Total Time Spent on Website',\n",
      "       'LeadOrigin_Landing Page Submission', 'LeadOrigin_Lead Add Form',\n",
      "       'LeadSource_Olark Chat', 'LeadSource_Welingak Website',\n",
      "       'DoNotEmail_Yes', 'LastActivity_Page Visited on Website',\n",
      "       'LastActivity_SMS Sent',\n",
      "       'Whatisyourcurrentoccupation_Working Professional',\n",
      "       'Tags1_Closed by Horizzon', 'Tags1_Interested in other courses',\n",
      "       'Tags1_Lost to EINS', 'Tags1_Not Specified', 'Tags1_Other_Tags',\n",
      "       'Tags1_Ringing', 'Tags1_Will revert after reading the email',\n",
      "       'LastNotableActivity_Email Link Clicked',\n",
      "       'LastNotableActivity_Modified',\n",
      "       'LastNotableActivity_Olark Chat Conversation'],\n",
      "      dtype='object')\n"
     ]
    }
   ],
   "source": [
    "print(col)"
   ]
  },
  {
   "cell_type": "code",
   "execution_count": 476,
   "id": "e35362df",
   "metadata": {},
   "outputs": [],
   "source": [
    "X_test_rfe5=X_test[col]"
   ]
  },
  {
   "cell_type": "code",
   "execution_count": 477,
   "id": "07c081cc",
   "metadata": {},
   "outputs": [],
   "source": [
    "X_test_rfe6=sm.add_constant(X_test_rfe5)"
   ]
  },
  {
   "cell_type": "code",
   "execution_count": 478,
   "id": "906f8b84",
   "metadata": {},
   "outputs": [],
   "source": [
    "Y_test_pred4=res.predict(X_test_rfe6)"
   ]
  },
  {
   "cell_type": "code",
   "execution_count": 479,
   "id": "c2d70ef4",
   "metadata": {},
   "outputs": [],
   "source": [
    "Y_Pred_1=pd.DataFrame(Y_test_pred4)"
   ]
  },
  {
   "cell_type": "code",
   "execution_count": 480,
   "id": "39374f02",
   "metadata": {},
   "outputs": [],
   "source": [
    "Y_test_df=pd.DataFrame(Y_test)"
   ]
  },
  {
   "cell_type": "code",
   "execution_count": 481,
   "id": "77e2f226",
   "metadata": {},
   "outputs": [],
   "source": [
    "Y_test_df['Prospect ID']=Y_test_df.index"
   ]
  },
  {
   "cell_type": "code",
   "execution_count": 482,
   "id": "71f856f2",
   "metadata": {},
   "outputs": [],
   "source": [
    "Y_Pred_1.reset_index(drop=True,inplace=True)\n",
    "Y_test_df.reset_index(drop=True,inplace=True)"
   ]
  },
  {
   "cell_type": "code",
   "execution_count": 483,
   "id": "8cb0443a",
   "metadata": {},
   "outputs": [],
   "source": [
    "Y_test_Pred_final=pd.concat([Y_test_df,Y_Pred_1],axis=1)"
   ]
  },
  {
   "cell_type": "code",
   "execution_count": 484,
   "id": "270cfe15",
   "metadata": {},
   "outputs": [
    {
     "data": {
      "text/html": [
       "<div>\n",
       "<style scoped>\n",
       "    .dataframe tbody tr th:only-of-type {\n",
       "        vertical-align: middle;\n",
       "    }\n",
       "\n",
       "    .dataframe tbody tr th {\n",
       "        vertical-align: top;\n",
       "    }\n",
       "\n",
       "    .dataframe thead th {\n",
       "        text-align: right;\n",
       "    }\n",
       "</style>\n",
       "<table border=\"1\" class=\"dataframe\">\n",
       "  <thead>\n",
       "    <tr style=\"text-align: right;\">\n",
       "      <th></th>\n",
       "      <th>Converted</th>\n",
       "      <th>Prospect ID</th>\n",
       "      <th>0</th>\n",
       "    </tr>\n",
       "  </thead>\n",
       "  <tbody>\n",
       "    <tr>\n",
       "      <th>0</th>\n",
       "      <td>1</td>\n",
       "      <td>4269</td>\n",
       "      <td>0.883556</td>\n",
       "    </tr>\n",
       "    <tr>\n",
       "      <th>1</th>\n",
       "      <td>1</td>\n",
       "      <td>2376</td>\n",
       "      <td>0.996016</td>\n",
       "    </tr>\n",
       "    <tr>\n",
       "      <th>2</th>\n",
       "      <td>1</td>\n",
       "      <td>7766</td>\n",
       "      <td>0.970895</td>\n",
       "    </tr>\n",
       "    <tr>\n",
       "      <th>3</th>\n",
       "      <td>0</td>\n",
       "      <td>9199</td>\n",
       "      <td>0.005319</td>\n",
       "    </tr>\n",
       "    <tr>\n",
       "      <th>4</th>\n",
       "      <td>1</td>\n",
       "      <td>4359</td>\n",
       "      <td>0.972535</td>\n",
       "    </tr>\n",
       "  </tbody>\n",
       "</table>\n",
       "</div>"
      ],
      "text/plain": [
       "   Converted  Prospect ID         0\n",
       "0          1         4269  0.883556\n",
       "1          1         2376  0.996016\n",
       "2          1         7766  0.970895\n",
       "3          0         9199  0.005319\n",
       "4          1         4359  0.972535"
      ]
     },
     "execution_count": 484,
     "metadata": {},
     "output_type": "execute_result"
    }
   ],
   "source": [
    "Y_test_Pred_final.head()"
   ]
  },
  {
   "cell_type": "code",
   "execution_count": 485,
   "id": "af3a976d",
   "metadata": {},
   "outputs": [],
   "source": [
    "Y_test_Pred_final=Y_test_Pred_final.rename(columns={0:'Converted_Prob'})"
   ]
  },
  {
   "cell_type": "code",
   "execution_count": 486,
   "id": "19e52613",
   "metadata": {},
   "outputs": [
    {
     "data": {
      "text/html": [
       "<div>\n",
       "<style scoped>\n",
       "    .dataframe tbody tr th:only-of-type {\n",
       "        vertical-align: middle;\n",
       "    }\n",
       "\n",
       "    .dataframe tbody tr th {\n",
       "        vertical-align: top;\n",
       "    }\n",
       "\n",
       "    .dataframe thead th {\n",
       "        text-align: right;\n",
       "    }\n",
       "</style>\n",
       "<table border=\"1\" class=\"dataframe\">\n",
       "  <thead>\n",
       "    <tr style=\"text-align: right;\">\n",
       "      <th></th>\n",
       "      <th>Converted</th>\n",
       "      <th>Prospect ID</th>\n",
       "      <th>Converted_Prob</th>\n",
       "    </tr>\n",
       "  </thead>\n",
       "  <tbody>\n",
       "    <tr>\n",
       "      <th>0</th>\n",
       "      <td>1</td>\n",
       "      <td>4269</td>\n",
       "      <td>0.883556</td>\n",
       "    </tr>\n",
       "    <tr>\n",
       "      <th>1</th>\n",
       "      <td>1</td>\n",
       "      <td>2376</td>\n",
       "      <td>0.996016</td>\n",
       "    </tr>\n",
       "    <tr>\n",
       "      <th>2</th>\n",
       "      <td>1</td>\n",
       "      <td>7766</td>\n",
       "      <td>0.970895</td>\n",
       "    </tr>\n",
       "    <tr>\n",
       "      <th>3</th>\n",
       "      <td>0</td>\n",
       "      <td>9199</td>\n",
       "      <td>0.005319</td>\n",
       "    </tr>\n",
       "    <tr>\n",
       "      <th>4</th>\n",
       "      <td>1</td>\n",
       "      <td>4359</td>\n",
       "      <td>0.972535</td>\n",
       "    </tr>\n",
       "  </tbody>\n",
       "</table>\n",
       "</div>"
      ],
      "text/plain": [
       "   Converted  Prospect ID  Converted_Prob\n",
       "0          1         4269        0.883556\n",
       "1          1         2376        0.996016\n",
       "2          1         7766        0.970895\n",
       "3          0         9199        0.005319\n",
       "4          1         4359        0.972535"
      ]
     },
     "execution_count": 486,
     "metadata": {},
     "output_type": "execute_result"
    }
   ],
   "source": [
    "Y_test_Pred_final.head()"
   ]
  },
  {
   "cell_type": "code",
   "execution_count": 487,
   "id": "3d922bea",
   "metadata": {},
   "outputs": [],
   "source": [
    "Y_test_Pred_final['finalpredicted']=Y_test_Pred_final.Converted_Prob.map(lambda x:1 if x>0.3 else 0)"
   ]
  },
  {
   "cell_type": "code",
   "execution_count": 488,
   "id": "bf58d78d",
   "metadata": {},
   "outputs": [
    {
     "data": {
      "text/html": [
       "<div>\n",
       "<style scoped>\n",
       "    .dataframe tbody tr th:only-of-type {\n",
       "        vertical-align: middle;\n",
       "    }\n",
       "\n",
       "    .dataframe tbody tr th {\n",
       "        vertical-align: top;\n",
       "    }\n",
       "\n",
       "    .dataframe thead th {\n",
       "        text-align: right;\n",
       "    }\n",
       "</style>\n",
       "<table border=\"1\" class=\"dataframe\">\n",
       "  <thead>\n",
       "    <tr style=\"text-align: right;\">\n",
       "      <th></th>\n",
       "      <th>Converted</th>\n",
       "      <th>Prospect ID</th>\n",
       "      <th>Converted_Prob</th>\n",
       "      <th>finalpredicted</th>\n",
       "    </tr>\n",
       "  </thead>\n",
       "  <tbody>\n",
       "    <tr>\n",
       "      <th>0</th>\n",
       "      <td>1</td>\n",
       "      <td>4269</td>\n",
       "      <td>0.883556</td>\n",
       "      <td>1</td>\n",
       "    </tr>\n",
       "    <tr>\n",
       "      <th>1</th>\n",
       "      <td>1</td>\n",
       "      <td>2376</td>\n",
       "      <td>0.996016</td>\n",
       "      <td>1</td>\n",
       "    </tr>\n",
       "    <tr>\n",
       "      <th>2</th>\n",
       "      <td>1</td>\n",
       "      <td>7766</td>\n",
       "      <td>0.970895</td>\n",
       "      <td>1</td>\n",
       "    </tr>\n",
       "    <tr>\n",
       "      <th>3</th>\n",
       "      <td>0</td>\n",
       "      <td>9199</td>\n",
       "      <td>0.005319</td>\n",
       "      <td>0</td>\n",
       "    </tr>\n",
       "    <tr>\n",
       "      <th>4</th>\n",
       "      <td>1</td>\n",
       "      <td>4359</td>\n",
       "      <td>0.972535</td>\n",
       "      <td>1</td>\n",
       "    </tr>\n",
       "  </tbody>\n",
       "</table>\n",
       "</div>"
      ],
      "text/plain": [
       "   Converted  Prospect ID  Converted_Prob  finalpredicted\n",
       "0          1         4269        0.883556               1\n",
       "1          1         2376        0.996016               1\n",
       "2          1         7766        0.970895               1\n",
       "3          0         9199        0.005319               0\n",
       "4          1         4359        0.972535               1"
      ]
     },
     "execution_count": 488,
     "metadata": {},
     "output_type": "execute_result"
    }
   ],
   "source": [
    "Y_test_Pred_final.head()"
   ]
  },
  {
   "cell_type": "code",
   "execution_count": 489,
   "id": "8324ad83",
   "metadata": {},
   "outputs": [
    {
     "data": {
      "text/html": [
       "<div>\n",
       "<style scoped>\n",
       "    .dataframe tbody tr th:only-of-type {\n",
       "        vertical-align: middle;\n",
       "    }\n",
       "\n",
       "    .dataframe tbody tr th {\n",
       "        vertical-align: top;\n",
       "    }\n",
       "\n",
       "    .dataframe thead th {\n",
       "        text-align: right;\n",
       "    }\n",
       "</style>\n",
       "<table border=\"1\" class=\"dataframe\">\n",
       "  <thead>\n",
       "    <tr style=\"text-align: right;\">\n",
       "      <th></th>\n",
       "      <th>Converted</th>\n",
       "      <th>Prospect ID</th>\n",
       "      <th>Converted_Prob</th>\n",
       "      <th>finalpredicted</th>\n",
       "      <th>leadscore</th>\n",
       "    </tr>\n",
       "  </thead>\n",
       "  <tbody>\n",
       "    <tr>\n",
       "      <th>0</th>\n",
       "      <td>1</td>\n",
       "      <td>4269</td>\n",
       "      <td>0.883556</td>\n",
       "      <td>1</td>\n",
       "      <td>88</td>\n",
       "    </tr>\n",
       "    <tr>\n",
       "      <th>1</th>\n",
       "      <td>1</td>\n",
       "      <td>2376</td>\n",
       "      <td>0.996016</td>\n",
       "      <td>1</td>\n",
       "      <td>100</td>\n",
       "    </tr>\n",
       "    <tr>\n",
       "      <th>2</th>\n",
       "      <td>1</td>\n",
       "      <td>7766</td>\n",
       "      <td>0.970895</td>\n",
       "      <td>1</td>\n",
       "      <td>97</td>\n",
       "    </tr>\n",
       "    <tr>\n",
       "      <th>3</th>\n",
       "      <td>0</td>\n",
       "      <td>9199</td>\n",
       "      <td>0.005319</td>\n",
       "      <td>0</td>\n",
       "      <td>1</td>\n",
       "    </tr>\n",
       "    <tr>\n",
       "      <th>4</th>\n",
       "      <td>1</td>\n",
       "      <td>4359</td>\n",
       "      <td>0.972535</td>\n",
       "      <td>1</td>\n",
       "      <td>97</td>\n",
       "    </tr>\n",
       "    <tr>\n",
       "      <th>5</th>\n",
       "      <td>1</td>\n",
       "      <td>9186</td>\n",
       "      <td>0.992598</td>\n",
       "      <td>1</td>\n",
       "      <td>99</td>\n",
       "    </tr>\n",
       "    <tr>\n",
       "      <th>6</th>\n",
       "      <td>1</td>\n",
       "      <td>1631</td>\n",
       "      <td>0.975393</td>\n",
       "      <td>1</td>\n",
       "      <td>98</td>\n",
       "    </tr>\n",
       "    <tr>\n",
       "      <th>7</th>\n",
       "      <td>1</td>\n",
       "      <td>8963</td>\n",
       "      <td>0.953248</td>\n",
       "      <td>1</td>\n",
       "      <td>95</td>\n",
       "    </tr>\n",
       "    <tr>\n",
       "      <th>8</th>\n",
       "      <td>0</td>\n",
       "      <td>8007</td>\n",
       "      <td>0.022181</td>\n",
       "      <td>0</td>\n",
       "      <td>2</td>\n",
       "    </tr>\n",
       "    <tr>\n",
       "      <th>9</th>\n",
       "      <td>1</td>\n",
       "      <td>5324</td>\n",
       "      <td>0.981408</td>\n",
       "      <td>1</td>\n",
       "      <td>98</td>\n",
       "    </tr>\n",
       "    <tr>\n",
       "      <th>10</th>\n",
       "      <td>0</td>\n",
       "      <td>2558</td>\n",
       "      <td>0.193775</td>\n",
       "      <td>0</td>\n",
       "      <td>19</td>\n",
       "    </tr>\n",
       "    <tr>\n",
       "      <th>11</th>\n",
       "      <td>0</td>\n",
       "      <td>8973</td>\n",
       "      <td>0.002753</td>\n",
       "      <td>0</td>\n",
       "      <td>0</td>\n",
       "    </tr>\n",
       "    <tr>\n",
       "      <th>12</th>\n",
       "      <td>1</td>\n",
       "      <td>2935</td>\n",
       "      <td>0.949763</td>\n",
       "      <td>1</td>\n",
       "      <td>95</td>\n",
       "    </tr>\n",
       "    <tr>\n",
       "      <th>13</th>\n",
       "      <td>1</td>\n",
       "      <td>2907</td>\n",
       "      <td>0.998984</td>\n",
       "      <td>1</td>\n",
       "      <td>100</td>\n",
       "    </tr>\n",
       "    <tr>\n",
       "      <th>14</th>\n",
       "      <td>1</td>\n",
       "      <td>957</td>\n",
       "      <td>0.941940</td>\n",
       "      <td>1</td>\n",
       "      <td>94</td>\n",
       "    </tr>\n",
       "    <tr>\n",
       "      <th>15</th>\n",
       "      <td>1</td>\n",
       "      <td>493</td>\n",
       "      <td>0.972535</td>\n",
       "      <td>1</td>\n",
       "      <td>97</td>\n",
       "    </tr>\n",
       "    <tr>\n",
       "      <th>16</th>\n",
       "      <td>1</td>\n",
       "      <td>3179</td>\n",
       "      <td>0.922373</td>\n",
       "      <td>1</td>\n",
       "      <td>92</td>\n",
       "    </tr>\n",
       "    <tr>\n",
       "      <th>17</th>\n",
       "      <td>0</td>\n",
       "      <td>3545</td>\n",
       "      <td>0.010952</td>\n",
       "      <td>0</td>\n",
       "      <td>1</td>\n",
       "    </tr>\n",
       "    <tr>\n",
       "      <th>18</th>\n",
       "      <td>0</td>\n",
       "      <td>6140</td>\n",
       "      <td>0.047498</td>\n",
       "      <td>0</td>\n",
       "      <td>5</td>\n",
       "    </tr>\n",
       "    <tr>\n",
       "      <th>19</th>\n",
       "      <td>1</td>\n",
       "      <td>4877</td>\n",
       "      <td>0.880263</td>\n",
       "      <td>1</td>\n",
       "      <td>88</td>\n",
       "    </tr>\n",
       "  </tbody>\n",
       "</table>\n",
       "</div>"
      ],
      "text/plain": [
       "    Converted  Prospect ID  Converted_Prob  finalpredicted  leadscore\n",
       "0           1         4269        0.883556               1         88\n",
       "1           1         2376        0.996016               1        100\n",
       "2           1         7766        0.970895               1         97\n",
       "3           0         9199        0.005319               0          1\n",
       "4           1         4359        0.972535               1         97\n",
       "5           1         9186        0.992598               1         99\n",
       "6           1         1631        0.975393               1         98\n",
       "7           1         8963        0.953248               1         95\n",
       "8           0         8007        0.022181               0          2\n",
       "9           1         5324        0.981408               1         98\n",
       "10          0         2558        0.193775               0         19\n",
       "11          0         8973        0.002753               0          0\n",
       "12          1         2935        0.949763               1         95\n",
       "13          1         2907        0.998984               1        100\n",
       "14          1          957        0.941940               1         94\n",
       "15          1          493        0.972535               1         97\n",
       "16          1         3179        0.922373               1         92\n",
       "17          0         3545        0.010952               0          1\n",
       "18          0         6140        0.047498               0          5\n",
       "19          1         4877        0.880263               1         88"
      ]
     },
     "execution_count": 489,
     "metadata": {},
     "output_type": "execute_result"
    }
   ],
   "source": [
    "Y_test_Pred_final['leadscore'] = Y_test_Pred_final.Converted_Prob.map(lambda x: round(x*100))\n",
    "Y_test_Pred_final.head(20)"
   ]
  },
  {
   "cell_type": "code",
   "execution_count": 490,
   "id": "7c245d13",
   "metadata": {},
   "outputs": [
    {
     "data": {
      "text/plain": [
       "1    1016\n",
       "0      79\n",
       "Name: finalpredicted, dtype: int64"
      ]
     },
     "execution_count": 490,
     "metadata": {},
     "output_type": "execute_result"
    }
   ],
   "source": [
    "# Checking Lead Score Conversion Rate on Test DataSet\n",
    "checkingtestconvertedprediction = Y_test_Pred_final.loc[Y_test_Pred_final['Converted']==1,['Converted','finalpredicted']]\n",
    "checkingtestconvertedprediction['finalpredicted'].value_counts()"
   ]
  },
  {
   "cell_type": "code",
   "execution_count": 491,
   "id": "ce303b17",
   "metadata": {},
   "outputs": [
    {
     "data": {
      "text/plain": [
       "0.9278538812785389"
      ]
     },
     "execution_count": 491,
     "metadata": {},
     "output_type": "execute_result"
    }
   ],
   "source": [
    "float(1016/(1016+79))\n",
    "# lead score conversion rate of 92.79% meeting the goal of 80% lead conversion rate"
   ]
  },
  {
   "cell_type": "code",
   "execution_count": 492,
   "id": "b8ec98b9",
   "metadata": {},
   "outputs": [
    {
     "name": "stdout",
     "output_type": "stream",
     "text": [
      "[[1549  128]\n",
      " [  79 1016]]\n"
     ]
    }
   ],
   "source": [
    "confusion10=metrics.confusion_matrix(Y_test_Pred_final.Converted,Y_test_Pred_final.finalpredicted)\n",
    "print(confusion10)"
   ]
  },
  {
   "cell_type": "code",
   "execution_count": 493,
   "id": "90786be9",
   "metadata": {},
   "outputs": [
    {
     "name": "stdout",
     "output_type": "stream",
     "text": [
      "0.9253246753246753\n"
     ]
    }
   ],
   "source": [
    "# Accuracy\n",
    "print(metrics.accuracy_score(Y_test_Pred_final.Converted,Y_test_Pred_final.finalpredicted))"
   ]
  },
  {
   "cell_type": "code",
   "execution_count": 494,
   "id": "3c3ee02f",
   "metadata": {},
   "outputs": [],
   "source": [
    "TP10 = confusion10[1,1] # true positive \n",
    "TN10 = confusion10[0,0] # true negatives\n",
    "FP10 = confusion10[0,1] # false positives\n",
    "FN10 = confusion10[1,0] # false negatives"
   ]
  },
  {
   "cell_type": "code",
   "execution_count": 495,
   "id": "074236bf",
   "metadata": {},
   "outputs": [
    {
     "name": "stdout",
     "output_type": "stream",
     "text": [
      "0.9278538812785389\n"
     ]
    }
   ],
   "source": [
    "#Sensitivity\n",
    "Sensitivity10=float(TP10/(TP10+FN10))\n",
    "print(Sensitivity10)"
   ]
  },
  {
   "cell_type": "code",
   "execution_count": 496,
   "id": "3bdf997c",
   "metadata": {},
   "outputs": [
    {
     "name": "stdout",
     "output_type": "stream",
     "text": [
      "0.9236732259988074\n"
     ]
    }
   ],
   "source": [
    "#Specificity\n",
    "Specificity10=float(TN10/(TN10+FP10))\n",
    "print(Specificity10)"
   ]
  },
  {
   "cell_type": "code",
   "execution_count": 497,
   "id": "27cdf225",
   "metadata": {},
   "outputs": [
    {
     "name": "stdout",
     "output_type": "stream",
     "text": [
      "Precision  0.8881118881118881\n",
      "Recall  0.9278538812785389\n"
     ]
    }
   ],
   "source": [
    "print('Precision ',precision_score(Y_test_Pred_final.Converted,Y_test_Pred_final.finalpredicted))\n",
    "print('Recall ',recall_score(Y_test_Pred_final.Converted,Y_test_Pred_final.finalpredicted))"
   ]
  },
  {
   "cell_type": "code",
   "execution_count": 498,
   "id": "08eb0009",
   "metadata": {},
   "outputs": [
    {
     "data": {
      "image/png": "[encoded data removed]",
      "text/plain": [
       "<Figure size 360x360 with 1 Axes>"
      ]
     },
     "metadata": {
      "needs_background": "light"
     },
     "output_type": "display_data"
    }
   ],
   "source": [
    "# ROC Curve for test dataset AUC 0.93 away from 45 degree diagonal\n",
    "draw_roc(Y_test_Pred_final.Converted,Y_test_Pred_final.finalpredicted)"
   ]
  },
  {
   "cell_type": "markdown",
   "id": "18fa119a",
   "metadata": {},
   "source": [
    "Model Evaluation(Sensitivity-Specificity Trade Off Optimal Probability 0.3)-Train Set\n",
    "            \n",
    "            AUC of ROC-0.97\n",
    "            Accuracy-92.36%\n",
    "            Sensitivity-91.28%\n",
    "            Specificity-93.03%\n",
    "            Precision-88.97%\n",
    "            Recall-91.28%\n",
    "            Lead Conversion Rate-91.28%\n",
    "Model Evaluation(Sensitivity-Specificity Trade Off Optimal Probability 0.3)-Test Set\n",
    "            \n",
    "            AUC of ROC-0.93\n",
    "            Accuracy-92.53\n",
    "            Sensitivity-92.79%\n",
    "            Specificity-92.37%\n",
    "            Precision-88.81%\n",
    "            Recall-92.79%\n",
    "            Lead Conversion Rate-92.79%"
   ]
  },
  {
   "cell_type": "markdown",
   "id": "c8bbaba7",
   "metadata": {},
   "source": [
    "# Conclusions and Implications from the Model\n",
    "Final Regression Equation\n",
    "ln(p/(1-p))= (-1.4387) + 6.2833*TotalVisits + 4.3093*Total Time Spent on Website + (-0.7983)*LeadOrigin_Landing Page Submission + 1.1354*LeadOrigin_Lead Add Form + 0.7618*LeadSource_Olark Chat + 4.0108*LeadSource_Welingak Website + (-0.6762)*DoNotEmail_Yes + (-0.6028)*LastActivity_Page Visited on Website + 1.9544*LastActivity_SMS Sent + 0.8386*Whatisyourcurrentoccupation_Working Professional + 6.7275*Tags1_Closed by Horizzon +(-2.4854)*Tags1_Interested in other courses + 5.6726*Tags1_Lost to ENIS + (-0.6070)*Tags1_Not Specified+ (-2.846)*Tags1_Other Tags + (-3.9524)*Tags1_Ringing + 3.8703*Tags1_Will Revert after reading the email +(-1.3266)* LastNotableActivity_Email Link Clinked + (-1.6697)* LastNotableActivity_Modified +(-1.7145)*LastNotableActivity_Olark Chat Conversation\n",
    "\n",
    "\n",
    "The top three variables which contribute most towards the probability of a lead getting converted include:\n",
    "                \n",
    "                Closed by Horizzon (from Tags) (coefficient 6.7275)\n",
    "                Total Visits (coefficient 6.2833)\n",
    "                Lost to ENIS (from Tags) (coefficient 5.6726)\n",
    "The top three categorical/dummy variables which contribute most towards the probability of a lead getting converted include:\n",
    "                \n",
    "                Closed by Horizzon (from Tags) (coefficient 6.7275)\n",
    "                Lost to ENIS (from Tags) (coefficient 5.6726)\n",
    "                Welingak Website (from Lead Source) (coefficient 4.010)\n",
    "\n",
    "Other important variables consist of Tags(Ringing),Tags(Will revert after reading the mail),Tags(Interested in other courses),Last Activity(SMS Sent),Lead Origin(Lead Add Form),Lead Source(Olark Chat),Occupation(Working Professional),Last Activity(SMS Sent),Last Notable Activity(Olark Chat Conversation)\n"
   ]
  },
  {
   "cell_type": "code",
   "execution_count": null,
   "id": "6a356dc3",
   "metadata": {},
   "outputs": [],
   "source": []
  }
 ],
 "metadata": {
  "kernelspec": {
   "display_name": "Python 3 (ipykernel)",
   "language": "python",
   "name": "python3"
  },
  "language_info": {
   "codemirror_mode": {
    "name": "ipython",
    "version": 3
   },
   "file_extension": ".py",
   "mimetype": "text/x-python",
   "name": "python",
   "nbconvert_exporter": "python",
   "pygments_lexer": "ipython3",
   "version": "3.9.12"
  }
 },
 "nbformat": 4,
 "nbformat_minor": 5
}
